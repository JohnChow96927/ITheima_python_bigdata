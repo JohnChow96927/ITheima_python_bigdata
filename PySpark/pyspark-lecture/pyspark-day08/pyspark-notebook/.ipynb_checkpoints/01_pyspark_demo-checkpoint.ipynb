{
 "cells": [
  {
   "cell_type": "code",
   "execution_count": 1,
   "id": "7fdc306d",
   "metadata": {},
   "outputs": [],
   "source": [
    "import os"
   ]
  },
  {
   "cell_type": "code",
   "execution_count": 2,
   "id": "1ab3c01a",
   "metadata": {},
   "outputs": [],
   "source": [
    "os.environ['JAVA_HOME'] = 'C:/Java/jdk1.8.0_241'\n",
    "os.environ['HADOOP_HOME'] = 'C:/Hadoop/hadoop-3.3.0'\n",
    "os.environ['PYSPARK_PYTHON'] = 'C:/Users/JohnChow/anaconda3/python.exe'\n",
    "os.environ['PYSPARK_DRIVER_PYTHON'] = 'C:/Users/JohnChow/anaconda3/python.exe'"
   ]
  },
  {
   "cell_type": "code",
   "execution_count": 3,
   "id": "ef9a3c4e",
   "metadata": {},
   "outputs": [
    {
     "name": "stdout",
     "output_type": "stream",
     "text": [
      "<pyspark.sql.session.SparkSession object at 0x000001E6C96A0940>\n"
     ]
    }
   ],
   "source": [
    "# 创建SparkSession实例对象\n",
    "from pyspark.sql import SparkSession\n",
    "import pyspark.sql.functions as F\n",
    "\n",
    "spark = SparkSession.builder \\\n",
    ".appName(\"SparkSQL on Jupyter Notebook Example\") \\\n",
    ".master(\"local[*]\") \\\n",
    ".config('spark.sql.shuffle.partitions', '2') \\\n",
    ".getOrCreate()\n",
    "\n",
    "print(spark)"
   ]
  },
  {
   "cell_type": "code",
   "execution_count": 4,
   "id": "61fe1af5",
   "metadata": {},
   "outputs": [
    {
     "name": "stdout",
     "output_type": "stream",
     "text": [
      "root\n",
      " |-- age: long (nullable = true)\n",
      " |-- name: string (nullable = true)\n",
      "\n",
      "+----+-------+\n",
      "|age |name   |\n",
      "+----+-------+\n",
      "|null|Michael|\n",
      "|30  |Andy   |\n",
      "|19  |Justin |\n",
      "+----+-------+\n",
      "\n"
     ]
    }
   ],
   "source": [
    "# 加载json数据, 封装DataFrame\n",
    "people_df = spark.read.json('../datas/resources/people.json')\n",
    "people_df.printSchema()\n",
    "people_df.show(10, False)"
   ]
  },
  {
   "cell_type": "code",
   "execution_count": 5,
   "id": "16d190db",
   "metadata": {},
   "outputs": [
    {
     "name": "stdout",
     "output_type": "stream",
     "text": [
      "root\n",
      " |-- age: long (nullable = true)\n",
      " |-- name: string (nullable = true)\n",
      "\n",
      "+----+-------+\n",
      "|age |name   |\n",
      "+----+-------+\n",
      "|null|Michael|\n",
      "|30  |Andy   |\n",
      "|19  |Justin |\n",
      "+----+-------+\n",
      "\n"
     ]
    }
   ],
   "source": [
    "# 基于SQL查询分析\n",
    "people_df.createOrReplaceTempView('view_tmp_people')\n",
    "\n",
    "sql_df = spark.sql(\n",
    "\"\"\"\n",
    "    select\n",
    "        *\n",
    "    from\n",
    "        view_tmp_people\n",
    "\"\"\"\n",
    ")\n",
    "sql_df.printSchema()\n",
    "sql_df.show(10, False)"
   ]
  },
  {
   "cell_type": "code",
   "execution_count": 8,
   "id": "698bd15e",
   "metadata": {},
   "outputs": [
    {
     "name": "stdout",
     "output_type": "stream",
     "text": [
      "root\n",
      " |-- age: long (nullable = true)\n",
      " |-- name: string (nullable = true)\n",
      "\n",
      "+----+-------+\n",
      "|age |name   |\n",
      "+----+-------+\n",
      "|null|Michael|\n",
      "|30  |Andy   |\n",
      "|19  |Justin |\n",
      "+----+-------+\n",
      "\n"
     ]
    }
   ],
   "source": [
    "dsl_df = people_df.select('age', 'name')\n",
    "dsl_df.printSchema()\n",
    "dsl_df.show(10, False)"
   ]
  },
  {
   "cell_type": "code",
   "execution_count": null,
   "id": "ad35665c",
   "metadata": {},
   "outputs": [],
   "source": []
  }
 ],
 "metadata": {
  "kernelspec": {
   "display_name": "Python 3 (ipykernel)",
   "language": "python",
   "name": "python3"
  },
  "language_info": {
   "codemirror_mode": {
    "name": "ipython",
    "version": 3
   },
   "file_extension": ".py",
   "mimetype": "text/x-python",
   "name": "python",
   "nbconvert_exporter": "python",
   "pygments_lexer": "ipython3",
   "version": "3.9.7"
  }
 },
 "nbformat": 4,
 "nbformat_minor": 5
}
