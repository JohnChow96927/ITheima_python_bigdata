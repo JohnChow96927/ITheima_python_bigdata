{
 "cells": [
  {
   "cell_type": "code",
   "execution_count": 1,
   "id": "1702134c",
   "metadata": {},
   "outputs": [],
   "source": [
    "import pandas as pd"
   ]
  },
  {
   "cell_type": "markdown",
   "id": "874dd6a0",
   "metadata": {},
   "source": [
    "# 加载 csv 和 tsv 数据"
   ]
  },
  {
   "cell_type": "markdown",
   "id": "df195745",
   "metadata": {},
   "source": [
    "##### 加载 csv 数据"
   ]
  },
  {
   "cell_type": "code",
   "execution_count": 2,
   "id": "094e90ec",
   "metadata": {},
   "outputs": [
    {
     "data": {
      "text/html": [
       "<div>\n",
       "<style scoped>\n",
       "    .dataframe tbody tr th:only-of-type {\n",
       "        vertical-align: middle;\n",
       "    }\n",
       "\n",
       "    .dataframe tbody tr th {\n",
       "        vertical-align: top;\n",
       "    }\n",
       "\n",
       "    .dataframe thead th {\n",
       "        text-align: right;\n",
       "    }\n",
       "</style>\n",
       "<table border=\"1\" class=\"dataframe\">\n",
       "  <thead>\n",
       "    <tr style=\"text-align: right;\">\n",
       "      <th></th>\n",
       "      <th>total_bill</th>\n",
       "      <th>tip</th>\n",
       "      <th>sex</th>\n",
       "      <th>smoker</th>\n",
       "      <th>day</th>\n",
       "      <th>time</th>\n",
       "      <th>size</th>\n",
       "    </tr>\n",
       "  </thead>\n",
       "  <tbody>\n",
       "    <tr>\n",
       "      <th>0</th>\n",
       "      <td>16.99</td>\n",
       "      <td>1.01</td>\n",
       "      <td>Female</td>\n",
       "      <td>No</td>\n",
       "      <td>Sun</td>\n",
       "      <td>Dinner</td>\n",
       "      <td>2</td>\n",
       "    </tr>\n",
       "    <tr>\n",
       "      <th>1</th>\n",
       "      <td>10.34</td>\n",
       "      <td>1.66</td>\n",
       "      <td>Male</td>\n",
       "      <td>No</td>\n",
       "      <td>Sun</td>\n",
       "      <td>Dinner</td>\n",
       "      <td>3</td>\n",
       "    </tr>\n",
       "    <tr>\n",
       "      <th>2</th>\n",
       "      <td>21.01</td>\n",
       "      <td>3.50</td>\n",
       "      <td>Male</td>\n",
       "      <td>No</td>\n",
       "      <td>Sun</td>\n",
       "      <td>Dinner</td>\n",
       "      <td>3</td>\n",
       "    </tr>\n",
       "    <tr>\n",
       "      <th>3</th>\n",
       "      <td>23.68</td>\n",
       "      <td>3.31</td>\n",
       "      <td>Male</td>\n",
       "      <td>No</td>\n",
       "      <td>Sun</td>\n",
       "      <td>Dinner</td>\n",
       "      <td>2</td>\n",
       "    </tr>\n",
       "    <tr>\n",
       "      <th>4</th>\n",
       "      <td>24.59</td>\n",
       "      <td>3.61</td>\n",
       "      <td>Female</td>\n",
       "      <td>No</td>\n",
       "      <td>Sun</td>\n",
       "      <td>Dinner</td>\n",
       "      <td>4</td>\n",
       "    </tr>\n",
       "    <tr>\n",
       "      <th>...</th>\n",
       "      <td>...</td>\n",
       "      <td>...</td>\n",
       "      <td>...</td>\n",
       "      <td>...</td>\n",
       "      <td>...</td>\n",
       "      <td>...</td>\n",
       "      <td>...</td>\n",
       "    </tr>\n",
       "    <tr>\n",
       "      <th>239</th>\n",
       "      <td>29.03</td>\n",
       "      <td>5.92</td>\n",
       "      <td>Male</td>\n",
       "      <td>No</td>\n",
       "      <td>Sat</td>\n",
       "      <td>Dinner</td>\n",
       "      <td>3</td>\n",
       "    </tr>\n",
       "    <tr>\n",
       "      <th>240</th>\n",
       "      <td>27.18</td>\n",
       "      <td>2.00</td>\n",
       "      <td>Female</td>\n",
       "      <td>Yes</td>\n",
       "      <td>Sat</td>\n",
       "      <td>Dinner</td>\n",
       "      <td>2</td>\n",
       "    </tr>\n",
       "    <tr>\n",
       "      <th>241</th>\n",
       "      <td>22.67</td>\n",
       "      <td>2.00</td>\n",
       "      <td>Male</td>\n",
       "      <td>Yes</td>\n",
       "      <td>Sat</td>\n",
       "      <td>Dinner</td>\n",
       "      <td>2</td>\n",
       "    </tr>\n",
       "    <tr>\n",
       "      <th>242</th>\n",
       "      <td>17.82</td>\n",
       "      <td>1.75</td>\n",
       "      <td>Male</td>\n",
       "      <td>No</td>\n",
       "      <td>Sat</td>\n",
       "      <td>Dinner</td>\n",
       "      <td>2</td>\n",
       "    </tr>\n",
       "    <tr>\n",
       "      <th>243</th>\n",
       "      <td>18.78</td>\n",
       "      <td>3.00</td>\n",
       "      <td>Female</td>\n",
       "      <td>No</td>\n",
       "      <td>Thur</td>\n",
       "      <td>Dinner</td>\n",
       "      <td>2</td>\n",
       "    </tr>\n",
       "  </tbody>\n",
       "</table>\n",
       "<p>244 rows × 7 columns</p>\n",
       "</div>"
      ],
      "text/plain": [
       "     total_bill   tip     sex smoker   day    time  size\n",
       "0         16.99  1.01  Female     No   Sun  Dinner     2\n",
       "1         10.34  1.66    Male     No   Sun  Dinner     3\n",
       "2         21.01  3.50    Male     No   Sun  Dinner     3\n",
       "3         23.68  3.31    Male     No   Sun  Dinner     2\n",
       "4         24.59  3.61  Female     No   Sun  Dinner     4\n",
       "..          ...   ...     ...    ...   ...     ...   ...\n",
       "239       29.03  5.92    Male     No   Sat  Dinner     3\n",
       "240       27.18  2.00  Female    Yes   Sat  Dinner     2\n",
       "241       22.67  2.00    Male    Yes   Sat  Dinner     2\n",
       "242       17.82  1.75    Male     No   Sat  Dinner     2\n",
       "243       18.78  3.00  Female     No  Thur  Dinner     2\n",
       "\n",
       "[244 rows x 7 columns]"
      ]
     },
     "execution_count": 2,
     "metadata": {},
     "output_type": "execute_result"
    }
   ],
   "source": [
    "tips = pd.read_csv('./data/tips.csv')\n",
    "tips"
   ]
  },
  {
   "cell_type": "code",
   "execution_count": 3,
   "id": "a3889196",
   "metadata": {},
   "outputs": [
    {
     "data": {
      "text/plain": [
       "pandas.core.frame.DataFrame"
      ]
     },
     "execution_count": 3,
     "metadata": {},
     "output_type": "execute_result"
    }
   ],
   "source": [
    "type(tips)"
   ]
  },
  {
   "cell_type": "markdown",
   "id": "33266294",
   "metadata": {},
   "source": [
    "##### 加载 tsv 数据"
   ]
  },
  {
   "cell_type": "code",
   "execution_count": 4,
   "id": "cada0388",
   "metadata": {
    "scrolled": true
   },
   "outputs": [
    {
     "data": {
      "text/html": [
       "<div>\n",
       "<style scoped>\n",
       "    .dataframe tbody tr th:only-of-type {\n",
       "        vertical-align: middle;\n",
       "    }\n",
       "\n",
       "    .dataframe tbody tr th {\n",
       "        vertical-align: top;\n",
       "    }\n",
       "\n",
       "    .dataframe thead th {\n",
       "        text-align: right;\n",
       "    }\n",
       "</style>\n",
       "<table border=\"1\" class=\"dataframe\">\n",
       "  <thead>\n",
       "    <tr style=\"text-align: right;\">\n",
       "      <th></th>\n",
       "      <th>country</th>\n",
       "      <th>continent</th>\n",
       "      <th>year</th>\n",
       "      <th>lifeExp</th>\n",
       "      <th>pop</th>\n",
       "      <th>gdpPercap</th>\n",
       "    </tr>\n",
       "  </thead>\n",
       "  <tbody>\n",
       "    <tr>\n",
       "      <th>0</th>\n",
       "      <td>China</td>\n",
       "      <td>Asia</td>\n",
       "      <td>1952</td>\n",
       "      <td>44.00000</td>\n",
       "      <td>556263527</td>\n",
       "      <td>400.448611</td>\n",
       "    </tr>\n",
       "    <tr>\n",
       "      <th>1</th>\n",
       "      <td>China</td>\n",
       "      <td>Asia</td>\n",
       "      <td>1957</td>\n",
       "      <td>50.54896</td>\n",
       "      <td>637408000</td>\n",
       "      <td>575.987001</td>\n",
       "    </tr>\n",
       "    <tr>\n",
       "      <th>2</th>\n",
       "      <td>China</td>\n",
       "      <td>Asia</td>\n",
       "      <td>1962</td>\n",
       "      <td>44.50136</td>\n",
       "      <td>665770000</td>\n",
       "      <td>487.674018</td>\n",
       "    </tr>\n",
       "    <tr>\n",
       "      <th>3</th>\n",
       "      <td>China</td>\n",
       "      <td>Asia</td>\n",
       "      <td>1967</td>\n",
       "      <td>58.38112</td>\n",
       "      <td>754550000</td>\n",
       "      <td>612.705693</td>\n",
       "    </tr>\n",
       "    <tr>\n",
       "      <th>4</th>\n",
       "      <td>China</td>\n",
       "      <td>Asia</td>\n",
       "      <td>1972</td>\n",
       "      <td>63.11888</td>\n",
       "      <td>862030000</td>\n",
       "      <td>676.900092</td>\n",
       "    </tr>\n",
       "    <tr>\n",
       "      <th>5</th>\n",
       "      <td>China</td>\n",
       "      <td>Asia</td>\n",
       "      <td>1977</td>\n",
       "      <td>63.96736</td>\n",
       "      <td>943455000</td>\n",
       "      <td>741.237470</td>\n",
       "    </tr>\n",
       "    <tr>\n",
       "      <th>6</th>\n",
       "      <td>China</td>\n",
       "      <td>Asia</td>\n",
       "      <td>1982</td>\n",
       "      <td>65.52500</td>\n",
       "      <td>1000281000</td>\n",
       "      <td>962.421381</td>\n",
       "    </tr>\n",
       "    <tr>\n",
       "      <th>7</th>\n",
       "      <td>China</td>\n",
       "      <td>Asia</td>\n",
       "      <td>1987</td>\n",
       "      <td>67.27400</td>\n",
       "      <td>1084035000</td>\n",
       "      <td>1378.904018</td>\n",
       "    </tr>\n",
       "    <tr>\n",
       "      <th>8</th>\n",
       "      <td>China</td>\n",
       "      <td>Asia</td>\n",
       "      <td>1992</td>\n",
       "      <td>68.69000</td>\n",
       "      <td>1164970000</td>\n",
       "      <td>1655.784158</td>\n",
       "    </tr>\n",
       "    <tr>\n",
       "      <th>9</th>\n",
       "      <td>China</td>\n",
       "      <td>Asia</td>\n",
       "      <td>1997</td>\n",
       "      <td>70.42600</td>\n",
       "      <td>1230075000</td>\n",
       "      <td>2289.234136</td>\n",
       "    </tr>\n",
       "    <tr>\n",
       "      <th>10</th>\n",
       "      <td>China</td>\n",
       "      <td>Asia</td>\n",
       "      <td>2002</td>\n",
       "      <td>72.02800</td>\n",
       "      <td>1280400000</td>\n",
       "      <td>3119.280896</td>\n",
       "    </tr>\n",
       "    <tr>\n",
       "      <th>11</th>\n",
       "      <td>China</td>\n",
       "      <td>Asia</td>\n",
       "      <td>2007</td>\n",
       "      <td>72.96100</td>\n",
       "      <td>1318683096</td>\n",
       "      <td>4959.114854</td>\n",
       "    </tr>\n",
       "  </tbody>\n",
       "</table>\n",
       "</div>"
      ],
      "text/plain": [
       "   country continent  year   lifeExp         pop    gdpPercap\n",
       "0    China      Asia  1952  44.00000   556263527   400.448611\n",
       "1    China      Asia  1957  50.54896   637408000   575.987001\n",
       "2    China      Asia  1962  44.50136   665770000   487.674018\n",
       "3    China      Asia  1967  58.38112   754550000   612.705693\n",
       "4    China      Asia  1972  63.11888   862030000   676.900092\n",
       "5    China      Asia  1977  63.96736   943455000   741.237470\n",
       "6    China      Asia  1982  65.52500  1000281000   962.421381\n",
       "7    China      Asia  1987  67.27400  1084035000  1378.904018\n",
       "8    China      Asia  1992  68.69000  1164970000  1655.784158\n",
       "9    China      Asia  1997  70.42600  1230075000  2289.234136\n",
       "10   China      Asia  2002  72.02800  1280400000  3119.280896\n",
       "11   China      Asia  2007  72.96100  1318683096  4959.114854"
      ]
     },
     "execution_count": 4,
     "metadata": {},
     "output_type": "execute_result"
    }
   ],
   "source": [
    "# sep参数指定tsv文件的列元素分隔符为\\t，默认sep参数是,\n",
    "china = pd.read_csv('./data/china.tsv', sep='\\t')\n",
    "china"
   ]
  },
  {
   "cell_type": "code",
   "execution_count": 5,
   "id": "515d7d75",
   "metadata": {},
   "outputs": [
    {
     "data": {
      "text/plain": [
       "pandas.core.frame.DataFrame"
      ]
     },
     "execution_count": 5,
     "metadata": {},
     "output_type": "execute_result"
    }
   ],
   "source": [
    "type(china)"
   ]
  },
  {
   "cell_type": "markdown",
   "id": "689faa86",
   "metadata": {},
   "source": [
    "# DataFrame 获取指定行列的数据"
   ]
  },
  {
   "cell_type": "markdown",
   "id": "7edf8072",
   "metadata": {},
   "source": [
    "## DataFrame 行标签和列标签"
   ]
  },
  {
   "cell_type": "code",
   "execution_count": 6,
   "id": "3482f70b",
   "metadata": {},
   "outputs": [
    {
     "data": {
      "text/plain": [
       "RangeIndex(start=0, stop=12, step=1)"
      ]
     },
     "execution_count": 6,
     "metadata": {},
     "output_type": "execute_result"
    }
   ],
   "source": [
    "china.index"
   ]
  },
  {
   "cell_type": "code",
   "execution_count": 7,
   "id": "622b65ca",
   "metadata": {},
   "outputs": [
    {
     "data": {
      "text/plain": [
       "Index(['country', 'continent', 'year', 'lifeExp', 'pop', 'gdpPercap'], dtype='object')"
      ]
     },
     "execution_count": 7,
     "metadata": {},
     "output_type": "execute_result"
    }
   ],
   "source": [
    "china.columns"
   ]
  },
  {
   "cell_type": "markdown",
   "id": "ae5e9a8d",
   "metadata": {},
   "source": [
    "## loc函数获取指定行列的数据"
   ]
  },
  {
   "cell_type": "markdown",
   "id": "83b33a0b",
   "metadata": {},
   "source": [
    "##### 示例1：获取行标签为 1952, 1962, 1972 行的 country、pop、gdpPercap 列的数据"
   ]
  },
  {
   "cell_type": "code",
   "execution_count": 8,
   "id": "0f02c31f",
   "metadata": {},
   "outputs": [
    {
     "data": {
      "text/html": [
       "<div>\n",
       "<style scoped>\n",
       "    .dataframe tbody tr th:only-of-type {\n",
       "        vertical-align: middle;\n",
       "    }\n",
       "\n",
       "    .dataframe tbody tr th {\n",
       "        vertical-align: top;\n",
       "    }\n",
       "\n",
       "    .dataframe thead th {\n",
       "        text-align: right;\n",
       "    }\n",
       "</style>\n",
       "<table border=\"1\" class=\"dataframe\">\n",
       "  <thead>\n",
       "    <tr style=\"text-align: right;\">\n",
       "      <th></th>\n",
       "      <th>country</th>\n",
       "      <th>pop</th>\n",
       "      <th>gdpPercap</th>\n",
       "    </tr>\n",
       "    <tr>\n",
       "      <th>year</th>\n",
       "      <th></th>\n",
       "      <th></th>\n",
       "      <th></th>\n",
       "    </tr>\n",
       "  </thead>\n",
       "  <tbody>\n",
       "    <tr>\n",
       "      <th>1952</th>\n",
       "      <td>China</td>\n",
       "      <td>556263527</td>\n",
       "      <td>400.448611</td>\n",
       "    </tr>\n",
       "    <tr>\n",
       "      <th>1962</th>\n",
       "      <td>China</td>\n",
       "      <td>665770000</td>\n",
       "      <td>487.674018</td>\n",
       "    </tr>\n",
       "    <tr>\n",
       "      <th>1972</th>\n",
       "      <td>China</td>\n",
       "      <td>862030000</td>\n",
       "      <td>676.900092</td>\n",
       "    </tr>\n",
       "  </tbody>\n",
       "</table>\n",
       "</div>"
      ],
      "text/plain": [
       "     country        pop   gdpPercap\n",
       "year                               \n",
       "1952   China  556263527  400.448611\n",
       "1962   China  665770000  487.674018\n",
       "1972   China  862030000  676.900092"
      ]
     },
     "execution_count": 8,
     "metadata": {},
     "output_type": "execute_result"
    }
   ],
   "source": [
    "china_df = china.set_index('year')\n",
    "china_df.loc[[1952, 1962, 1972], ['country', 'pop', 'gdpPercap']]"
   ]
  },
  {
   "cell_type": "markdown",
   "id": "8d1c5384",
   "metadata": {},
   "source": [
    "##### 示例2：获取行标签为 1952, 1962, 1972 行的所有列的数据"
   ]
  },
  {
   "cell_type": "code",
   "execution_count": 9,
   "id": "2d705bc8",
   "metadata": {},
   "outputs": [
    {
     "data": {
      "text/html": [
       "<div>\n",
       "<style scoped>\n",
       "    .dataframe tbody tr th:only-of-type {\n",
       "        vertical-align: middle;\n",
       "    }\n",
       "\n",
       "    .dataframe tbody tr th {\n",
       "        vertical-align: top;\n",
       "    }\n",
       "\n",
       "    .dataframe thead th {\n",
       "        text-align: right;\n",
       "    }\n",
       "</style>\n",
       "<table border=\"1\" class=\"dataframe\">\n",
       "  <thead>\n",
       "    <tr style=\"text-align: right;\">\n",
       "      <th></th>\n",
       "      <th>country</th>\n",
       "      <th>continent</th>\n",
       "      <th>lifeExp</th>\n",
       "      <th>pop</th>\n",
       "      <th>gdpPercap</th>\n",
       "    </tr>\n",
       "    <tr>\n",
       "      <th>year</th>\n",
       "      <th></th>\n",
       "      <th></th>\n",
       "      <th></th>\n",
       "      <th></th>\n",
       "      <th></th>\n",
       "    </tr>\n",
       "  </thead>\n",
       "  <tbody>\n",
       "    <tr>\n",
       "      <th>1952</th>\n",
       "      <td>China</td>\n",
       "      <td>Asia</td>\n",
       "      <td>44.00000</td>\n",
       "      <td>556263527</td>\n",
       "      <td>400.448611</td>\n",
       "    </tr>\n",
       "    <tr>\n",
       "      <th>1962</th>\n",
       "      <td>China</td>\n",
       "      <td>Asia</td>\n",
       "      <td>44.50136</td>\n",
       "      <td>665770000</td>\n",
       "      <td>487.674018</td>\n",
       "    </tr>\n",
       "    <tr>\n",
       "      <th>1972</th>\n",
       "      <td>China</td>\n",
       "      <td>Asia</td>\n",
       "      <td>63.11888</td>\n",
       "      <td>862030000</td>\n",
       "      <td>676.900092</td>\n",
       "    </tr>\n",
       "  </tbody>\n",
       "</table>\n",
       "</div>"
      ],
      "text/plain": [
       "     country continent   lifeExp        pop   gdpPercap\n",
       "year                                                   \n",
       "1952   China      Asia  44.00000  556263527  400.448611\n",
       "1962   China      Asia  44.50136  665770000  487.674018\n",
       "1972   China      Asia  63.11888  862030000  676.900092"
      ]
     },
     "execution_count": 9,
     "metadata": {},
     "output_type": "execute_result"
    }
   ],
   "source": [
    "china_df.loc[[1952, 1962, 1972]]"
   ]
  },
  {
   "cell_type": "markdown",
   "id": "3479774e",
   "metadata": {},
   "source": [
    "##### 示例3：获取所有行的 country、pop、gdpPercap 列的数据"
   ]
  },
  {
   "cell_type": "code",
   "execution_count": 10,
   "id": "9a5804cc",
   "metadata": {},
   "outputs": [
    {
     "data": {
      "text/html": [
       "<div>\n",
       "<style scoped>\n",
       "    .dataframe tbody tr th:only-of-type {\n",
       "        vertical-align: middle;\n",
       "    }\n",
       "\n",
       "    .dataframe tbody tr th {\n",
       "        vertical-align: top;\n",
       "    }\n",
       "\n",
       "    .dataframe thead th {\n",
       "        text-align: right;\n",
       "    }\n",
       "</style>\n",
       "<table border=\"1\" class=\"dataframe\">\n",
       "  <thead>\n",
       "    <tr style=\"text-align: right;\">\n",
       "      <th></th>\n",
       "      <th>country</th>\n",
       "      <th>pop</th>\n",
       "      <th>gdpPercap</th>\n",
       "    </tr>\n",
       "    <tr>\n",
       "      <th>year</th>\n",
       "      <th></th>\n",
       "      <th></th>\n",
       "      <th></th>\n",
       "    </tr>\n",
       "  </thead>\n",
       "  <tbody>\n",
       "    <tr>\n",
       "      <th>1952</th>\n",
       "      <td>China</td>\n",
       "      <td>556263527</td>\n",
       "      <td>400.448611</td>\n",
       "    </tr>\n",
       "    <tr>\n",
       "      <th>1957</th>\n",
       "      <td>China</td>\n",
       "      <td>637408000</td>\n",
       "      <td>575.987001</td>\n",
       "    </tr>\n",
       "    <tr>\n",
       "      <th>1962</th>\n",
       "      <td>China</td>\n",
       "      <td>665770000</td>\n",
       "      <td>487.674018</td>\n",
       "    </tr>\n",
       "    <tr>\n",
       "      <th>1967</th>\n",
       "      <td>China</td>\n",
       "      <td>754550000</td>\n",
       "      <td>612.705693</td>\n",
       "    </tr>\n",
       "    <tr>\n",
       "      <th>1972</th>\n",
       "      <td>China</td>\n",
       "      <td>862030000</td>\n",
       "      <td>676.900092</td>\n",
       "    </tr>\n",
       "    <tr>\n",
       "      <th>1977</th>\n",
       "      <td>China</td>\n",
       "      <td>943455000</td>\n",
       "      <td>741.237470</td>\n",
       "    </tr>\n",
       "    <tr>\n",
       "      <th>1982</th>\n",
       "      <td>China</td>\n",
       "      <td>1000281000</td>\n",
       "      <td>962.421381</td>\n",
       "    </tr>\n",
       "    <tr>\n",
       "      <th>1987</th>\n",
       "      <td>China</td>\n",
       "      <td>1084035000</td>\n",
       "      <td>1378.904018</td>\n",
       "    </tr>\n",
       "    <tr>\n",
       "      <th>1992</th>\n",
       "      <td>China</td>\n",
       "      <td>1164970000</td>\n",
       "      <td>1655.784158</td>\n",
       "    </tr>\n",
       "    <tr>\n",
       "      <th>1997</th>\n",
       "      <td>China</td>\n",
       "      <td>1230075000</td>\n",
       "      <td>2289.234136</td>\n",
       "    </tr>\n",
       "    <tr>\n",
       "      <th>2002</th>\n",
       "      <td>China</td>\n",
       "      <td>1280400000</td>\n",
       "      <td>3119.280896</td>\n",
       "    </tr>\n",
       "    <tr>\n",
       "      <th>2007</th>\n",
       "      <td>China</td>\n",
       "      <td>1318683096</td>\n",
       "      <td>4959.114854</td>\n",
       "    </tr>\n",
       "  </tbody>\n",
       "</table>\n",
       "</div>"
      ],
      "text/plain": [
       "     country         pop    gdpPercap\n",
       "year                                 \n",
       "1952   China   556263527   400.448611\n",
       "1957   China   637408000   575.987001\n",
       "1962   China   665770000   487.674018\n",
       "1967   China   754550000   612.705693\n",
       "1972   China   862030000   676.900092\n",
       "1977   China   943455000   741.237470\n",
       "1982   China  1000281000   962.421381\n",
       "1987   China  1084035000  1378.904018\n",
       "1992   China  1164970000  1655.784158\n",
       "1997   China  1230075000  2289.234136\n",
       "2002   China  1280400000  3119.280896\n",
       "2007   China  1318683096  4959.114854"
      ]
     },
     "execution_count": 10,
     "metadata": {},
     "output_type": "execute_result"
    }
   ],
   "source": [
    "china_df.loc[:, ['country', 'pop', 'gdpPercap']]"
   ]
  },
  {
   "cell_type": "markdown",
   "id": "ba96d51c",
   "metadata": {},
   "source": [
    "##### 示例4：获取行标签为 1957 行的所有列的数据"
   ]
  },
  {
   "cell_type": "code",
   "execution_count": 11,
   "id": "3df996e9",
   "metadata": {},
   "outputs": [
    {
     "data": {
      "text/plain": [
       "country          China\n",
       "continent         Asia\n",
       "lifeExp         50.549\n",
       "pop          637408000\n",
       "gdpPercap      575.987\n",
       "Name: 1957, dtype: object"
      ]
     },
     "execution_count": 11,
     "metadata": {},
     "output_type": "execute_result"
    }
   ],
   "source": [
    "china_df.loc[1957]"
   ]
  },
  {
   "cell_type": "markdown",
   "id": "6a560f79",
   "metadata": {},
   "source": [
    "##### 示例5：获取行标签为 1957 行的 lifeExp 列的数据"
   ]
  },
  {
   "cell_type": "code",
   "execution_count": 12,
   "id": "75a4dcb1",
   "metadata": {},
   "outputs": [
    {
     "data": {
      "text/html": [
       "<div>\n",
       "<style scoped>\n",
       "    .dataframe tbody tr th:only-of-type {\n",
       "        vertical-align: middle;\n",
       "    }\n",
       "\n",
       "    .dataframe tbody tr th {\n",
       "        vertical-align: top;\n",
       "    }\n",
       "\n",
       "    .dataframe thead th {\n",
       "        text-align: right;\n",
       "    }\n",
       "</style>\n",
       "<table border=\"1\" class=\"dataframe\">\n",
       "  <thead>\n",
       "    <tr style=\"text-align: right;\">\n",
       "      <th></th>\n",
       "      <th>country</th>\n",
       "      <th>continent</th>\n",
       "      <th>lifeExp</th>\n",
       "      <th>pop</th>\n",
       "      <th>gdpPercap</th>\n",
       "    </tr>\n",
       "    <tr>\n",
       "      <th>year</th>\n",
       "      <th></th>\n",
       "      <th></th>\n",
       "      <th></th>\n",
       "      <th></th>\n",
       "      <th></th>\n",
       "    </tr>\n",
       "  </thead>\n",
       "  <tbody>\n",
       "    <tr>\n",
       "      <th>1957</th>\n",
       "      <td>China</td>\n",
       "      <td>Asia</td>\n",
       "      <td>50.54896</td>\n",
       "      <td>637408000</td>\n",
       "      <td>575.987001</td>\n",
       "    </tr>\n",
       "  </tbody>\n",
       "</table>\n",
       "</div>"
      ],
      "text/plain": [
       "     country continent   lifeExp        pop   gdpPercap\n",
       "year                                                   \n",
       "1957   China      Asia  50.54896  637408000  575.987001"
      ]
     },
     "execution_count": 12,
     "metadata": {},
     "output_type": "execute_result"
    }
   ],
   "source": [
    "china_df.loc[[1957]]"
   ]
  },
  {
   "cell_type": "markdown",
   "id": "87664972",
   "metadata": {},
   "source": [
    "## iloc函数获取指定行列的数据"
   ]
  },
  {
   "cell_type": "markdown",
   "id": "6b8d7869",
   "metadata": {},
   "source": [
    "##### 示例1：获取行位置为 0, 2, 4 行的 0、1、2 列的数据"
   ]
  },
  {
   "cell_type": "code",
   "execution_count": 30,
   "id": "8ecfbd8e",
   "metadata": {},
   "outputs": [
    {
     "data": {
      "text/html": [
       "<div>\n",
       "<style scoped>\n",
       "    .dataframe tbody tr th:only-of-type {\n",
       "        vertical-align: middle;\n",
       "    }\n",
       "\n",
       "    .dataframe tbody tr th {\n",
       "        vertical-align: top;\n",
       "    }\n",
       "\n",
       "    .dataframe thead th {\n",
       "        text-align: right;\n",
       "    }\n",
       "</style>\n",
       "<table border=\"1\" class=\"dataframe\">\n",
       "  <thead>\n",
       "    <tr style=\"text-align: right;\">\n",
       "      <th></th>\n",
       "      <th>country</th>\n",
       "      <th>continent</th>\n",
       "      <th>lifeExp</th>\n",
       "    </tr>\n",
       "    <tr>\n",
       "      <th>year</th>\n",
       "      <th></th>\n",
       "      <th></th>\n",
       "      <th></th>\n",
       "    </tr>\n",
       "  </thead>\n",
       "  <tbody>\n",
       "    <tr>\n",
       "      <th>1952</th>\n",
       "      <td>China</td>\n",
       "      <td>Asia</td>\n",
       "      <td>44.00000</td>\n",
       "    </tr>\n",
       "    <tr>\n",
       "      <th>1962</th>\n",
       "      <td>China</td>\n",
       "      <td>Asia</td>\n",
       "      <td>44.50136</td>\n",
       "    </tr>\n",
       "    <tr>\n",
       "      <th>1972</th>\n",
       "      <td>China</td>\n",
       "      <td>Asia</td>\n",
       "      <td>63.11888</td>\n",
       "    </tr>\n",
       "  </tbody>\n",
       "</table>\n",
       "</div>"
      ],
      "text/plain": [
       "     country continent   lifeExp\n",
       "year                            \n",
       "1952   China      Asia  44.00000\n",
       "1962   China      Asia  44.50136\n",
       "1972   China      Asia  63.11888"
      ]
     },
     "execution_count": 30,
     "metadata": {},
     "output_type": "execute_result"
    }
   ],
   "source": [
    "china_df.iloc[[0, 2, 4], [0, 1, 2]]"
   ]
  },
  {
   "cell_type": "markdown",
   "id": "edb0193e",
   "metadata": {},
   "source": [
    "##### 示例2：获取行位置为 0, 2, 4 行的所有列的数据"
   ]
  },
  {
   "cell_type": "code",
   "execution_count": 31,
   "id": "6eeda1f3",
   "metadata": {},
   "outputs": [
    {
     "data": {
      "text/html": [
       "<div>\n",
       "<style scoped>\n",
       "    .dataframe tbody tr th:only-of-type {\n",
       "        vertical-align: middle;\n",
       "    }\n",
       "\n",
       "    .dataframe tbody tr th {\n",
       "        vertical-align: top;\n",
       "    }\n",
       "\n",
       "    .dataframe thead th {\n",
       "        text-align: right;\n",
       "    }\n",
       "</style>\n",
       "<table border=\"1\" class=\"dataframe\">\n",
       "  <thead>\n",
       "    <tr style=\"text-align: right;\">\n",
       "      <th></th>\n",
       "      <th>country</th>\n",
       "      <th>continent</th>\n",
       "      <th>lifeExp</th>\n",
       "      <th>pop</th>\n",
       "      <th>gdpPercap</th>\n",
       "    </tr>\n",
       "    <tr>\n",
       "      <th>year</th>\n",
       "      <th></th>\n",
       "      <th></th>\n",
       "      <th></th>\n",
       "      <th></th>\n",
       "      <th></th>\n",
       "    </tr>\n",
       "  </thead>\n",
       "  <tbody>\n",
       "    <tr>\n",
       "      <th>1952</th>\n",
       "      <td>China</td>\n",
       "      <td>Asia</td>\n",
       "      <td>44.00000</td>\n",
       "      <td>556263527</td>\n",
       "      <td>400.448611</td>\n",
       "    </tr>\n",
       "    <tr>\n",
       "      <th>1962</th>\n",
       "      <td>China</td>\n",
       "      <td>Asia</td>\n",
       "      <td>44.50136</td>\n",
       "      <td>665770000</td>\n",
       "      <td>487.674018</td>\n",
       "    </tr>\n",
       "    <tr>\n",
       "      <th>1972</th>\n",
       "      <td>China</td>\n",
       "      <td>Asia</td>\n",
       "      <td>63.11888</td>\n",
       "      <td>862030000</td>\n",
       "      <td>676.900092</td>\n",
       "    </tr>\n",
       "  </tbody>\n",
       "</table>\n",
       "</div>"
      ],
      "text/plain": [
       "     country continent   lifeExp        pop   gdpPercap\n",
       "year                                                   \n",
       "1952   China      Asia  44.00000  556263527  400.448611\n",
       "1962   China      Asia  44.50136  665770000  487.674018\n",
       "1972   China      Asia  63.11888  862030000  676.900092"
      ]
     },
     "execution_count": 31,
     "metadata": {},
     "output_type": "execute_result"
    }
   ],
   "source": [
    "china_df.iloc[[0, 2, 4]]"
   ]
  },
  {
   "cell_type": "markdown",
   "id": "a1a1ec28",
   "metadata": {},
   "source": [
    "##### 示例3：获取所有行的列位置为 0、1、2 列的数据"
   ]
  },
  {
   "cell_type": "code",
   "execution_count": 32,
   "id": "e5e14289",
   "metadata": {},
   "outputs": [
    {
     "data": {
      "text/html": [
       "<div>\n",
       "<style scoped>\n",
       "    .dataframe tbody tr th:only-of-type {\n",
       "        vertical-align: middle;\n",
       "    }\n",
       "\n",
       "    .dataframe tbody tr th {\n",
       "        vertical-align: top;\n",
       "    }\n",
       "\n",
       "    .dataframe thead th {\n",
       "        text-align: right;\n",
       "    }\n",
       "</style>\n",
       "<table border=\"1\" class=\"dataframe\">\n",
       "  <thead>\n",
       "    <tr style=\"text-align: right;\">\n",
       "      <th></th>\n",
       "      <th>country</th>\n",
       "      <th>continent</th>\n",
       "      <th>lifeExp</th>\n",
       "    </tr>\n",
       "    <tr>\n",
       "      <th>year</th>\n",
       "      <th></th>\n",
       "      <th></th>\n",
       "      <th></th>\n",
       "    </tr>\n",
       "  </thead>\n",
       "  <tbody>\n",
       "    <tr>\n",
       "      <th>1952</th>\n",
       "      <td>China</td>\n",
       "      <td>Asia</td>\n",
       "      <td>44.00000</td>\n",
       "    </tr>\n",
       "    <tr>\n",
       "      <th>1957</th>\n",
       "      <td>China</td>\n",
       "      <td>Asia</td>\n",
       "      <td>50.54896</td>\n",
       "    </tr>\n",
       "    <tr>\n",
       "      <th>1962</th>\n",
       "      <td>China</td>\n",
       "      <td>Asia</td>\n",
       "      <td>44.50136</td>\n",
       "    </tr>\n",
       "    <tr>\n",
       "      <th>1967</th>\n",
       "      <td>China</td>\n",
       "      <td>Asia</td>\n",
       "      <td>58.38112</td>\n",
       "    </tr>\n",
       "    <tr>\n",
       "      <th>1972</th>\n",
       "      <td>China</td>\n",
       "      <td>Asia</td>\n",
       "      <td>63.11888</td>\n",
       "    </tr>\n",
       "    <tr>\n",
       "      <th>1977</th>\n",
       "      <td>China</td>\n",
       "      <td>Asia</td>\n",
       "      <td>63.96736</td>\n",
       "    </tr>\n",
       "    <tr>\n",
       "      <th>1982</th>\n",
       "      <td>China</td>\n",
       "      <td>Asia</td>\n",
       "      <td>65.52500</td>\n",
       "    </tr>\n",
       "    <tr>\n",
       "      <th>1987</th>\n",
       "      <td>China</td>\n",
       "      <td>Asia</td>\n",
       "      <td>67.27400</td>\n",
       "    </tr>\n",
       "    <tr>\n",
       "      <th>1992</th>\n",
       "      <td>China</td>\n",
       "      <td>Asia</td>\n",
       "      <td>68.69000</td>\n",
       "    </tr>\n",
       "    <tr>\n",
       "      <th>1997</th>\n",
       "      <td>China</td>\n",
       "      <td>Asia</td>\n",
       "      <td>70.42600</td>\n",
       "    </tr>\n",
       "    <tr>\n",
       "      <th>2002</th>\n",
       "      <td>China</td>\n",
       "      <td>Asia</td>\n",
       "      <td>72.02800</td>\n",
       "    </tr>\n",
       "    <tr>\n",
       "      <th>2007</th>\n",
       "      <td>China</td>\n",
       "      <td>Asia</td>\n",
       "      <td>72.96100</td>\n",
       "    </tr>\n",
       "  </tbody>\n",
       "</table>\n",
       "</div>"
      ],
      "text/plain": [
       "     country continent   lifeExp\n",
       "year                            \n",
       "1952   China      Asia  44.00000\n",
       "1957   China      Asia  50.54896\n",
       "1962   China      Asia  44.50136\n",
       "1967   China      Asia  58.38112\n",
       "1972   China      Asia  63.11888\n",
       "1977   China      Asia  63.96736\n",
       "1982   China      Asia  65.52500\n",
       "1987   China      Asia  67.27400\n",
       "1992   China      Asia  68.69000\n",
       "1997   China      Asia  70.42600\n",
       "2002   China      Asia  72.02800\n",
       "2007   China      Asia  72.96100"
      ]
     },
     "execution_count": 32,
     "metadata": {},
     "output_type": "execute_result"
    }
   ],
   "source": [
    "china_df.iloc[:, [0, 1, 2]]"
   ]
  },
  {
   "cell_type": "markdown",
   "id": "1683852e",
   "metadata": {},
   "source": [
    "##### 示例4：获取行位置为 1 行的所有列的数据"
   ]
  },
  {
   "cell_type": "code",
   "execution_count": 33,
   "id": "547c609f",
   "metadata": {},
   "outputs": [
    {
     "data": {
      "text/plain": [
       "country          China\n",
       "continent         Asia\n",
       "lifeExp         50.549\n",
       "pop          637408000\n",
       "gdpPercap      575.987\n",
       "Name: 1957, dtype: object"
      ]
     },
     "execution_count": 33,
     "metadata": {},
     "output_type": "execute_result"
    }
   ],
   "source": [
    "china_df.iloc[1]"
   ]
  },
  {
   "cell_type": "markdown",
   "id": "8bb04f2b",
   "metadata": {},
   "source": [
    "##### 示例5：获取行位置为 1 行的列位置为 2 列的数据"
   ]
  },
  {
   "cell_type": "code",
   "execution_count": 34,
   "id": "abdcc245",
   "metadata": {},
   "outputs": [
    {
     "data": {
      "text/plain": [
       "50.54896"
      ]
     },
     "execution_count": 34,
     "metadata": {},
     "output_type": "execute_result"
    }
   ],
   "source": [
    "china_df.iloc[[1], 2]\n",
    "\n",
    "china_df.iloc[1, [2]]\n",
    "\n",
    "china_df.iloc[1, 2]"
   ]
  },
  {
   "cell_type": "markdown",
   "id": "b1f9cfd1",
   "metadata": {},
   "source": [
    "## loc和iloc的切片操作"
   ]
  },
  {
   "cell_type": "markdown",
   "id": "00a4349e",
   "metadata": {},
   "source": [
    "##### 示例1：获取 china_df 中前三行的前三列的数据，分别使用上面介绍的loc和iloc实现"
   ]
  },
  {
   "cell_type": "code",
   "execution_count": 35,
   "id": "918c82dc",
   "metadata": {},
   "outputs": [
    {
     "data": {
      "text/html": [
       "<div>\n",
       "<style scoped>\n",
       "    .dataframe tbody tr th:only-of-type {\n",
       "        vertical-align: middle;\n",
       "    }\n",
       "\n",
       "    .dataframe tbody tr th {\n",
       "        vertical-align: top;\n",
       "    }\n",
       "\n",
       "    .dataframe thead th {\n",
       "        text-align: right;\n",
       "    }\n",
       "</style>\n",
       "<table border=\"1\" class=\"dataframe\">\n",
       "  <thead>\n",
       "    <tr style=\"text-align: right;\">\n",
       "      <th></th>\n",
       "      <th>country</th>\n",
       "      <th>continent</th>\n",
       "      <th>lifeExp</th>\n",
       "    </tr>\n",
       "    <tr>\n",
       "      <th>year</th>\n",
       "      <th></th>\n",
       "      <th></th>\n",
       "      <th></th>\n",
       "    </tr>\n",
       "  </thead>\n",
       "  <tbody>\n",
       "    <tr>\n",
       "      <th>1952</th>\n",
       "      <td>China</td>\n",
       "      <td>Asia</td>\n",
       "      <td>44.00000</td>\n",
       "    </tr>\n",
       "    <tr>\n",
       "      <th>1957</th>\n",
       "      <td>China</td>\n",
       "      <td>Asia</td>\n",
       "      <td>50.54896</td>\n",
       "    </tr>\n",
       "    <tr>\n",
       "      <th>1962</th>\n",
       "      <td>China</td>\n",
       "      <td>Asia</td>\n",
       "      <td>44.50136</td>\n",
       "    </tr>\n",
       "  </tbody>\n",
       "</table>\n",
       "</div>"
      ],
      "text/plain": [
       "     country continent   lifeExp\n",
       "year                            \n",
       "1952   China      Asia  44.00000\n",
       "1957   China      Asia  50.54896\n",
       "1962   China      Asia  44.50136"
      ]
     },
     "execution_count": 35,
     "metadata": {},
     "output_type": "execute_result"
    }
   ],
   "source": [
    "china_df.loc[1952:1962, 'country':'lifeExp']"
   ]
  },
  {
   "cell_type": "code",
   "execution_count": 36,
   "id": "eabd2acc",
   "metadata": {},
   "outputs": [
    {
     "data": {
      "text/html": [
       "<div>\n",
       "<style scoped>\n",
       "    .dataframe tbody tr th:only-of-type {\n",
       "        vertical-align: middle;\n",
       "    }\n",
       "\n",
       "    .dataframe tbody tr th {\n",
       "        vertical-align: top;\n",
       "    }\n",
       "\n",
       "    .dataframe thead th {\n",
       "        text-align: right;\n",
       "    }\n",
       "</style>\n",
       "<table border=\"1\" class=\"dataframe\">\n",
       "  <thead>\n",
       "    <tr style=\"text-align: right;\">\n",
       "      <th></th>\n",
       "      <th>country</th>\n",
       "      <th>continent</th>\n",
       "      <th>lifeExp</th>\n",
       "    </tr>\n",
       "    <tr>\n",
       "      <th>year</th>\n",
       "      <th></th>\n",
       "      <th></th>\n",
       "      <th></th>\n",
       "    </tr>\n",
       "  </thead>\n",
       "  <tbody>\n",
       "    <tr>\n",
       "      <th>1952</th>\n",
       "      <td>China</td>\n",
       "      <td>Asia</td>\n",
       "      <td>44.00000</td>\n",
       "    </tr>\n",
       "    <tr>\n",
       "      <th>1957</th>\n",
       "      <td>China</td>\n",
       "      <td>Asia</td>\n",
       "      <td>50.54896</td>\n",
       "    </tr>\n",
       "    <tr>\n",
       "      <th>1962</th>\n",
       "      <td>China</td>\n",
       "      <td>Asia</td>\n",
       "      <td>44.50136</td>\n",
       "    </tr>\n",
       "  </tbody>\n",
       "</table>\n",
       "</div>"
      ],
      "text/plain": [
       "     country continent   lifeExp\n",
       "year                            \n",
       "1952   China      Asia  44.00000\n",
       "1957   China      Asia  50.54896\n",
       "1962   China      Asia  44.50136"
      ]
     },
     "execution_count": 36,
     "metadata": {},
     "output_type": "execute_result"
    }
   ],
   "source": [
    "china_df.iloc[0:3, 0:3]"
   ]
  },
  {
   "cell_type": "markdown",
   "id": "36c87526",
   "metadata": {},
   "source": [
    "## [] 语法获取指定行列的数据"
   ]
  },
  {
   "cell_type": "markdown",
   "id": "c314abab",
   "metadata": {},
   "source": [
    "##### 示例1：获取所有行的 country、pop、gdpPercap 列的数据"
   ]
  },
  {
   "cell_type": "code",
   "execution_count": 17,
   "id": "7ed6e94e",
   "metadata": {},
   "outputs": [
    {
     "data": {
      "text/html": [
       "<div>\n",
       "<style scoped>\n",
       "    .dataframe tbody tr th:only-of-type {\n",
       "        vertical-align: middle;\n",
       "    }\n",
       "\n",
       "    .dataframe tbody tr th {\n",
       "        vertical-align: top;\n",
       "    }\n",
       "\n",
       "    .dataframe thead th {\n",
       "        text-align: right;\n",
       "    }\n",
       "</style>\n",
       "<table border=\"1\" class=\"dataframe\">\n",
       "  <thead>\n",
       "    <tr style=\"text-align: right;\">\n",
       "      <th></th>\n",
       "      <th>country</th>\n",
       "      <th>pop</th>\n",
       "      <th>gdpPercap</th>\n",
       "    </tr>\n",
       "    <tr>\n",
       "      <th>year</th>\n",
       "      <th></th>\n",
       "      <th></th>\n",
       "      <th></th>\n",
       "    </tr>\n",
       "  </thead>\n",
       "  <tbody>\n",
       "    <tr>\n",
       "      <th>1952</th>\n",
       "      <td>China</td>\n",
       "      <td>556263527</td>\n",
       "      <td>400.448611</td>\n",
       "    </tr>\n",
       "    <tr>\n",
       "      <th>1957</th>\n",
       "      <td>China</td>\n",
       "      <td>637408000</td>\n",
       "      <td>575.987001</td>\n",
       "    </tr>\n",
       "    <tr>\n",
       "      <th>1962</th>\n",
       "      <td>China</td>\n",
       "      <td>665770000</td>\n",
       "      <td>487.674018</td>\n",
       "    </tr>\n",
       "    <tr>\n",
       "      <th>1967</th>\n",
       "      <td>China</td>\n",
       "      <td>754550000</td>\n",
       "      <td>612.705693</td>\n",
       "    </tr>\n",
       "    <tr>\n",
       "      <th>1972</th>\n",
       "      <td>China</td>\n",
       "      <td>862030000</td>\n",
       "      <td>676.900092</td>\n",
       "    </tr>\n",
       "    <tr>\n",
       "      <th>1977</th>\n",
       "      <td>China</td>\n",
       "      <td>943455000</td>\n",
       "      <td>741.237470</td>\n",
       "    </tr>\n",
       "    <tr>\n",
       "      <th>1982</th>\n",
       "      <td>China</td>\n",
       "      <td>1000281000</td>\n",
       "      <td>962.421381</td>\n",
       "    </tr>\n",
       "    <tr>\n",
       "      <th>1987</th>\n",
       "      <td>China</td>\n",
       "      <td>1084035000</td>\n",
       "      <td>1378.904018</td>\n",
       "    </tr>\n",
       "    <tr>\n",
       "      <th>1992</th>\n",
       "      <td>China</td>\n",
       "      <td>1164970000</td>\n",
       "      <td>1655.784158</td>\n",
       "    </tr>\n",
       "    <tr>\n",
       "      <th>1997</th>\n",
       "      <td>China</td>\n",
       "      <td>1230075000</td>\n",
       "      <td>2289.234136</td>\n",
       "    </tr>\n",
       "    <tr>\n",
       "      <th>2002</th>\n",
       "      <td>China</td>\n",
       "      <td>1280400000</td>\n",
       "      <td>3119.280896</td>\n",
       "    </tr>\n",
       "    <tr>\n",
       "      <th>2007</th>\n",
       "      <td>China</td>\n",
       "      <td>1318683096</td>\n",
       "      <td>4959.114854</td>\n",
       "    </tr>\n",
       "  </tbody>\n",
       "</table>\n",
       "</div>"
      ],
      "text/plain": [
       "     country         pop    gdpPercap\n",
       "year                                 \n",
       "1952   China   556263527   400.448611\n",
       "1957   China   637408000   575.987001\n",
       "1962   China   665770000   487.674018\n",
       "1967   China   754550000   612.705693\n",
       "1972   China   862030000   676.900092\n",
       "1977   China   943455000   741.237470\n",
       "1982   China  1000281000   962.421381\n",
       "1987   China  1084035000  1378.904018\n",
       "1992   China  1164970000  1655.784158\n",
       "1997   China  1230075000  2289.234136\n",
       "2002   China  1280400000  3119.280896\n",
       "2007   China  1318683096  4959.114854"
      ]
     },
     "execution_count": 17,
     "metadata": {},
     "output_type": "execute_result"
    }
   ],
   "source": [
    "# 示例1：获取所有行的 country、pop、gdpPercap 列的数据\n",
    "china_df[['country', 'pop', 'gdpPercap']]"
   ]
  },
  {
   "cell_type": "markdown",
   "id": "99f489da",
   "metadata": {},
   "source": [
    "##### 示例2：获取所有行的 pop 列的数据"
   ]
  },
  {
   "cell_type": "code",
   "execution_count": 18,
   "id": "1fdc257e",
   "metadata": {},
   "outputs": [
    {
     "data": {
      "text/plain": [
       "year\n",
       "1952     556263527\n",
       "1957     637408000\n",
       "1962     665770000\n",
       "1967     754550000\n",
       "1972     862030000\n",
       "1977     943455000\n",
       "1982    1000281000\n",
       "1987    1084035000\n",
       "1992    1164970000\n",
       "1997    1230075000\n",
       "2002    1280400000\n",
       "2007    1318683096\n",
       "Name: pop, dtype: int64"
      ]
     },
     "execution_count": 18,
     "metadata": {},
     "output_type": "execute_result"
    }
   ],
   "source": [
    "china_df['pop']"
   ]
  },
  {
   "cell_type": "markdown",
   "id": "5ba5930f",
   "metadata": {},
   "source": [
    "##### 示例3：获取前三行的数据"
   ]
  },
  {
   "cell_type": "code",
   "execution_count": 19,
   "id": "041a9cb2",
   "metadata": {},
   "outputs": [
    {
     "data": {
      "text/html": [
       "<div>\n",
       "<style scoped>\n",
       "    .dataframe tbody tr th:only-of-type {\n",
       "        vertical-align: middle;\n",
       "    }\n",
       "\n",
       "    .dataframe tbody tr th {\n",
       "        vertical-align: top;\n",
       "    }\n",
       "\n",
       "    .dataframe thead th {\n",
       "        text-align: right;\n",
       "    }\n",
       "</style>\n",
       "<table border=\"1\" class=\"dataframe\">\n",
       "  <thead>\n",
       "    <tr style=\"text-align: right;\">\n",
       "      <th></th>\n",
       "      <th>country</th>\n",
       "      <th>continent</th>\n",
       "      <th>lifeExp</th>\n",
       "      <th>pop</th>\n",
       "      <th>gdpPercap</th>\n",
       "    </tr>\n",
       "    <tr>\n",
       "      <th>year</th>\n",
       "      <th></th>\n",
       "      <th></th>\n",
       "      <th></th>\n",
       "      <th></th>\n",
       "      <th></th>\n",
       "    </tr>\n",
       "  </thead>\n",
       "  <tbody>\n",
       "    <tr>\n",
       "      <th>1952</th>\n",
       "      <td>China</td>\n",
       "      <td>Asia</td>\n",
       "      <td>44.00000</td>\n",
       "      <td>556263527</td>\n",
       "      <td>400.448611</td>\n",
       "    </tr>\n",
       "    <tr>\n",
       "      <th>1957</th>\n",
       "      <td>China</td>\n",
       "      <td>Asia</td>\n",
       "      <td>50.54896</td>\n",
       "      <td>637408000</td>\n",
       "      <td>575.987001</td>\n",
       "    </tr>\n",
       "    <tr>\n",
       "      <th>1962</th>\n",
       "      <td>China</td>\n",
       "      <td>Asia</td>\n",
       "      <td>44.50136</td>\n",
       "      <td>665770000</td>\n",
       "      <td>487.674018</td>\n",
       "    </tr>\n",
       "  </tbody>\n",
       "</table>\n",
       "</div>"
      ],
      "text/plain": [
       "     country continent   lifeExp        pop   gdpPercap\n",
       "year                                                   \n",
       "1952   China      Asia  44.00000  556263527  400.448611\n",
       "1957   China      Asia  50.54896  637408000  575.987001\n",
       "1962   China      Asia  44.50136  665770000  487.674018"
      ]
     },
     "execution_count": 19,
     "metadata": {},
     "output_type": "execute_result"
    }
   ],
   "source": [
    "china_df[0:3]"
   ]
  },
  {
   "cell_type": "markdown",
   "id": "fe5d1f00",
   "metadata": {},
   "source": [
    "##### 示例4：从第一行开始，每隔一行获取一行数据，一共获取3行"
   ]
  },
  {
   "cell_type": "code",
   "execution_count": 20,
   "id": "bcf9939f",
   "metadata": {},
   "outputs": [
    {
     "data": {
      "text/html": [
       "<div>\n",
       "<style scoped>\n",
       "    .dataframe tbody tr th:only-of-type {\n",
       "        vertical-align: middle;\n",
       "    }\n",
       "\n",
       "    .dataframe tbody tr th {\n",
       "        vertical-align: top;\n",
       "    }\n",
       "\n",
       "    .dataframe thead th {\n",
       "        text-align: right;\n",
       "    }\n",
       "</style>\n",
       "<table border=\"1\" class=\"dataframe\">\n",
       "  <thead>\n",
       "    <tr style=\"text-align: right;\">\n",
       "      <th></th>\n",
       "      <th>country</th>\n",
       "      <th>continent</th>\n",
       "      <th>lifeExp</th>\n",
       "      <th>pop</th>\n",
       "      <th>gdpPercap</th>\n",
       "    </tr>\n",
       "    <tr>\n",
       "      <th>year</th>\n",
       "      <th></th>\n",
       "      <th></th>\n",
       "      <th></th>\n",
       "      <th></th>\n",
       "      <th></th>\n",
       "    </tr>\n",
       "  </thead>\n",
       "  <tbody>\n",
       "    <tr>\n",
       "      <th>1952</th>\n",
       "      <td>China</td>\n",
       "      <td>Asia</td>\n",
       "      <td>44.00000</td>\n",
       "      <td>556263527</td>\n",
       "      <td>400.448611</td>\n",
       "    </tr>\n",
       "    <tr>\n",
       "      <th>1962</th>\n",
       "      <td>China</td>\n",
       "      <td>Asia</td>\n",
       "      <td>44.50136</td>\n",
       "      <td>665770000</td>\n",
       "      <td>487.674018</td>\n",
       "    </tr>\n",
       "    <tr>\n",
       "      <th>1972</th>\n",
       "      <td>China</td>\n",
       "      <td>Asia</td>\n",
       "      <td>63.11888</td>\n",
       "      <td>862030000</td>\n",
       "      <td>676.900092</td>\n",
       "    </tr>\n",
       "  </tbody>\n",
       "</table>\n",
       "</div>"
      ],
      "text/plain": [
       "     country continent   lifeExp        pop   gdpPercap\n",
       "year                                                   \n",
       "1952   China      Asia  44.00000  556263527  400.448611\n",
       "1962   China      Asia  44.50136  665770000  487.674018\n",
       "1972   China      Asia  63.11888  862030000  676.900092"
      ]
     },
     "execution_count": 20,
     "metadata": {},
     "output_type": "execute_result"
    }
   ],
   "source": [
    "china_df[0:6:2]"
   ]
  },
  {
   "cell_type": "code",
   "execution_count": null,
   "id": "8120d984",
   "metadata": {},
   "outputs": [],
   "source": []
  }
 ],
 "metadata": {
  "kernelspec": {
   "display_name": "Python [conda env:datasci] *",
   "language": "python",
   "name": "conda-env-datasci-py"
  },
  "language_info": {
   "codemirror_mode": {
    "name": "ipython",
    "version": 3
   },
   "file_extension": ".py",
   "mimetype": "text/x-python",
   "name": "python",
   "nbconvert_exporter": "python",
   "pygments_lexer": "ipython3",
   "version": "3.8.12"
  },
  "toc": {
   "base_numbering": 1,
   "nav_menu": {},
   "number_sections": true,
   "sideBar": true,
   "skip_h1_title": false,
   "title_cell": "Table of Contents",
   "title_sidebar": "Contents",
   "toc_cell": false,
   "toc_position": {},
   "toc_section_display": true,
   "toc_window_display": true
  }
 },
 "nbformat": 4,
 "nbformat_minor": 5
}
