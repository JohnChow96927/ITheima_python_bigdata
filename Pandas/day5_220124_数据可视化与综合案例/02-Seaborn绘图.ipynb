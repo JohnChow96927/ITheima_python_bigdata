{
 "cells": [
  {
   "cell_type": "code",
   "execution_count": 1,
   "id": "deb645a8",
   "metadata": {},
   "outputs": [],
   "source": [
    "import seaborn as sns"
   ]
  },
  {
   "cell_type": "markdown",
   "id": "2317fc45",
   "metadata": {},
   "source": [
    "# 加载数据"
   ]
  },
  {
   "cell_type": "code",
   "execution_count": 2,
   "id": "a3fd9e9f",
   "metadata": {},
   "outputs": [
    {
     "data": {
      "text/html": [
       "<div>\n",
       "<style scoped>\n",
       "    .dataframe tbody tr th:only-of-type {\n",
       "        vertical-align: middle;\n",
       "    }\n",
       "\n",
       "    .dataframe tbody tr th {\n",
       "        vertical-align: top;\n",
       "    }\n",
       "\n",
       "    .dataframe thead th {\n",
       "        text-align: right;\n",
       "    }\n",
       "</style>\n",
       "<table border=\"1\" class=\"dataframe\">\n",
       "  <thead>\n",
       "    <tr style=\"text-align: right;\">\n",
       "      <th></th>\n",
       "      <th>total_bill</th>\n",
       "      <th>tip</th>\n",
       "      <th>sex</th>\n",
       "      <th>smoker</th>\n",
       "      <th>day</th>\n",
       "      <th>time</th>\n",
       "      <th>size</th>\n",
       "    </tr>\n",
       "  </thead>\n",
       "  <tbody>\n",
       "    <tr>\n",
       "      <th>0</th>\n",
       "      <td>16.99</td>\n",
       "      <td>1.01</td>\n",
       "      <td>Female</td>\n",
       "      <td>No</td>\n",
       "      <td>Sun</td>\n",
       "      <td>Dinner</td>\n",
       "      <td>2</td>\n",
       "    </tr>\n",
       "    <tr>\n",
       "      <th>1</th>\n",
       "      <td>10.34</td>\n",
       "      <td>1.66</td>\n",
       "      <td>Male</td>\n",
       "      <td>No</td>\n",
       "      <td>Sun</td>\n",
       "      <td>Dinner</td>\n",
       "      <td>3</td>\n",
       "    </tr>\n",
       "    <tr>\n",
       "      <th>2</th>\n",
       "      <td>21.01</td>\n",
       "      <td>3.50</td>\n",
       "      <td>Male</td>\n",
       "      <td>No</td>\n",
       "      <td>Sun</td>\n",
       "      <td>Dinner</td>\n",
       "      <td>3</td>\n",
       "    </tr>\n",
       "    <tr>\n",
       "      <th>3</th>\n",
       "      <td>23.68</td>\n",
       "      <td>3.31</td>\n",
       "      <td>Male</td>\n",
       "      <td>No</td>\n",
       "      <td>Sun</td>\n",
       "      <td>Dinner</td>\n",
       "      <td>2</td>\n",
       "    </tr>\n",
       "    <tr>\n",
       "      <th>4</th>\n",
       "      <td>24.59</td>\n",
       "      <td>3.61</td>\n",
       "      <td>Female</td>\n",
       "      <td>No</td>\n",
       "      <td>Sun</td>\n",
       "      <td>Dinner</td>\n",
       "      <td>4</td>\n",
       "    </tr>\n",
       "    <tr>\n",
       "      <th>...</th>\n",
       "      <td>...</td>\n",
       "      <td>...</td>\n",
       "      <td>...</td>\n",
       "      <td>...</td>\n",
       "      <td>...</td>\n",
       "      <td>...</td>\n",
       "      <td>...</td>\n",
       "    </tr>\n",
       "    <tr>\n",
       "      <th>239</th>\n",
       "      <td>29.03</td>\n",
       "      <td>5.92</td>\n",
       "      <td>Male</td>\n",
       "      <td>No</td>\n",
       "      <td>Sat</td>\n",
       "      <td>Dinner</td>\n",
       "      <td>3</td>\n",
       "    </tr>\n",
       "    <tr>\n",
       "      <th>240</th>\n",
       "      <td>27.18</td>\n",
       "      <td>2.00</td>\n",
       "      <td>Female</td>\n",
       "      <td>Yes</td>\n",
       "      <td>Sat</td>\n",
       "      <td>Dinner</td>\n",
       "      <td>2</td>\n",
       "    </tr>\n",
       "    <tr>\n",
       "      <th>241</th>\n",
       "      <td>22.67</td>\n",
       "      <td>2.00</td>\n",
       "      <td>Male</td>\n",
       "      <td>Yes</td>\n",
       "      <td>Sat</td>\n",
       "      <td>Dinner</td>\n",
       "      <td>2</td>\n",
       "    </tr>\n",
       "    <tr>\n",
       "      <th>242</th>\n",
       "      <td>17.82</td>\n",
       "      <td>1.75</td>\n",
       "      <td>Male</td>\n",
       "      <td>No</td>\n",
       "      <td>Sat</td>\n",
       "      <td>Dinner</td>\n",
       "      <td>2</td>\n",
       "    </tr>\n",
       "    <tr>\n",
       "      <th>243</th>\n",
       "      <td>18.78</td>\n",
       "      <td>3.00</td>\n",
       "      <td>Female</td>\n",
       "      <td>No</td>\n",
       "      <td>Thur</td>\n",
       "      <td>Dinner</td>\n",
       "      <td>2</td>\n",
       "    </tr>\n",
       "  </tbody>\n",
       "</table>\n",
       "<p>244 rows × 7 columns</p>\n",
       "</div>"
      ],
      "text/plain": [
       "     total_bill   tip     sex smoker   day    time  size\n",
       "0         16.99  1.01  Female     No   Sun  Dinner     2\n",
       "1         10.34  1.66    Male     No   Sun  Dinner     3\n",
       "2         21.01  3.50    Male     No   Sun  Dinner     3\n",
       "3         23.68  3.31    Male     No   Sun  Dinner     2\n",
       "4         24.59  3.61  Female     No   Sun  Dinner     4\n",
       "..          ...   ...     ...    ...   ...     ...   ...\n",
       "239       29.03  5.92    Male     No   Sat  Dinner     3\n",
       "240       27.18  2.00  Female    Yes   Sat  Dinner     2\n",
       "241       22.67  2.00    Male    Yes   Sat  Dinner     2\n",
       "242       17.82  1.75    Male     No   Sat  Dinner     2\n",
       "243       18.78  3.00  Female     No  Thur  Dinner     2\n",
       "\n",
       "[244 rows x 7 columns]"
      ]
     },
     "execution_count": 2,
     "metadata": {},
     "output_type": "execute_result"
    }
   ],
   "source": [
    "tips = sns.load_dataset('tips')\n",
    "tips"
   ]
  },
  {
   "cell_type": "markdown",
   "id": "85b4e1a3",
   "metadata": {},
   "source": [
    "# 单变量绘图"
   ]
  },
  {
   "cell_type": "markdown",
   "id": "7ccc77f4",
   "metadata": {},
   "source": [
    "## 直方图 vs 密度图"
   ]
  },
  {
   "cell_type": "markdown",
   "id": "f97381ad",
   "metadata": {},
   "source": [
    "**示例：查看客户消费金额 total_bill 的分布情况**"
   ]
  },
  {
   "cell_type": "code",
   "execution_count": 3,
   "id": "44d74707",
   "metadata": {},
   "outputs": [],
   "source": [
    "# 直方图\n"
   ]
  },
  {
   "cell_type": "code",
   "execution_count": 4,
   "id": "a02eaf88",
   "metadata": {},
   "outputs": [],
   "source": [
    "# 密度图\n"
   ]
  },
  {
   "cell_type": "code",
   "execution_count": 5,
   "id": "14465a2e",
   "metadata": {},
   "outputs": [],
   "source": [
    "# 直方图 vs 密度图\n"
   ]
  },
  {
   "cell_type": "markdown",
   "id": "08811a19",
   "metadata": {},
   "source": [
    "## 箱线图 vs 小提琴图"
   ]
  },
  {
   "cell_type": "markdown",
   "id": "090745dd",
   "metadata": {},
   "source": [
    "**示例：查看客户消费金额 total_bill 的分布情况**"
   ]
  },
  {
   "cell_type": "code",
   "execution_count": 6,
   "id": "ca1b0b27",
   "metadata": {},
   "outputs": [],
   "source": [
    "# 箱线图\n"
   ]
  },
  {
   "cell_type": "code",
   "execution_count": null,
   "id": "9a17d272",
   "metadata": {},
   "outputs": [],
   "source": []
  },
  {
   "cell_type": "code",
   "execution_count": 7,
   "id": "c1d0c372",
   "metadata": {},
   "outputs": [],
   "source": [
    "# 小提琴图\n"
   ]
  },
  {
   "cell_type": "markdown",
   "id": "62f446a4",
   "metadata": {},
   "source": [
    "## 条形图 vs 计数条形图"
   ]
  },
  {
   "cell_type": "markdown",
   "id": "620b5cb3",
   "metadata": {},
   "source": [
    "**示例：按照 day(周几) 统计每天的消费数量**"
   ]
  },
  {
   "cell_type": "code",
   "execution_count": 8,
   "id": "dbe698dc",
   "metadata": {},
   "outputs": [
    {
     "data": {
      "text/plain": [
       "Sat     87\n",
       "Sun     76\n",
       "Thur    62\n",
       "Fri     19\n",
       "Name: day, dtype: int64"
      ]
     },
     "execution_count": 8,
     "metadata": {},
     "output_type": "execute_result"
    }
   ],
   "source": [
    "# 条形图\n",
    "result = tips['day'].value_counts()\n",
    "result"
   ]
  },
  {
   "cell_type": "code",
   "execution_count": null,
   "id": "95188b6f",
   "metadata": {},
   "outputs": [],
   "source": []
  },
  {
   "cell_type": "code",
   "execution_count": 9,
   "id": "7021da2d",
   "metadata": {},
   "outputs": [],
   "source": [
    "# 计数条形图\n"
   ]
  },
  {
   "cell_type": "code",
   "execution_count": null,
   "id": "33969e90",
   "metadata": {},
   "outputs": [],
   "source": []
  },
  {
   "cell_type": "markdown",
   "id": "c07a3bcf",
   "metadata": {},
   "source": [
    "# 双变量绘图"
   ]
  },
  {
   "cell_type": "markdown",
   "id": "16550f98",
   "metadata": {},
   "source": [
    "## 散点图 vs 蜂巢图"
   ]
  },
  {
   "cell_type": "markdown",
   "id": "c0ce741b",
   "metadata": {},
   "source": [
    "**示例：查看消费数据中消费 tip 随着消费金额 total_bill 的变化情况**"
   ]
  },
  {
   "cell_type": "code",
   "execution_count": 10,
   "id": "6e7eaa80",
   "metadata": {},
   "outputs": [],
   "source": [
    "# 散点图\n"
   ]
  },
  {
   "cell_type": "code",
   "execution_count": 11,
   "id": "4d6b5c2e",
   "metadata": {},
   "outputs": [],
   "source": [
    "# 蜂巢图\n"
   ]
  },
  {
   "cell_type": "markdown",
   "id": "cf79e548",
   "metadata": {},
   "source": [
    "## 条形图 vs 折线图"
   ]
  },
  {
   "cell_type": "markdown",
   "id": "725c1d82",
   "metadata": {},
   "source": [
    "**示例：按 day(周几) 统计每餐消费的平均值并绘图**"
   ]
  },
  {
   "cell_type": "code",
   "execution_count": 12,
   "id": "9aad79e6",
   "metadata": {},
   "outputs": [
    {
     "data": {
      "text/plain": [
       "day\n",
       "Thur    17.682742\n",
       "Fri     17.151579\n",
       "Sat     20.441379\n",
       "Sun     21.410000\n",
       "Name: total_bill, dtype: float64"
      ]
     },
     "execution_count": 12,
     "metadata": {},
     "output_type": "execute_result"
    }
   ],
   "source": [
    "# 条形图\n",
    "result = tips.groupby('day').total_bill.mean()\n",
    "result"
   ]
  },
  {
   "cell_type": "code",
   "execution_count": null,
   "id": "607ff3e8",
   "metadata": {},
   "outputs": [],
   "source": []
  },
  {
   "cell_type": "code",
   "execution_count": null,
   "id": "af11c772",
   "metadata": {},
   "outputs": [],
   "source": []
  },
  {
   "cell_type": "markdown",
   "id": "39f92fe3",
   "metadata": {},
   "source": [
    "**示例：按 day(周几) 统计每餐消费的平均值并绘图**"
   ]
  },
  {
   "cell_type": "code",
   "execution_count": 13,
   "id": "93e4f239",
   "metadata": {},
   "outputs": [
    {
     "data": {
      "text/plain": [
       "day\n",
       "Thur    17.682742\n",
       "Fri     17.151579\n",
       "Sat     20.441379\n",
       "Sun     21.410000\n",
       "Name: total_bill, dtype: float64"
      ]
     },
     "execution_count": 13,
     "metadata": {},
     "output_type": "execute_result"
    }
   ],
   "source": [
    "# 折线图\n",
    "result = tips.groupby('day').total_bill.mean()\n",
    "result"
   ]
  },
  {
   "cell_type": "code",
   "execution_count": null,
   "id": "9c6924ed",
   "metadata": {},
   "outputs": [],
   "source": []
  },
  {
   "cell_type": "code",
   "execution_count": null,
   "id": "b9b182ae",
   "metadata": {},
   "outputs": [],
   "source": []
  },
  {
   "cell_type": "markdown",
   "id": "c55a8506",
   "metadata": {},
   "source": [
    "# 多变量绘图"
   ]
  },
  {
   "cell_type": "markdown",
   "id": "91b18a94",
   "metadata": {},
   "source": [
    "## 散点图 vs 折线图"
   ]
  },
  {
   "cell_type": "code",
   "execution_count": 14,
   "id": "67665a0d",
   "metadata": {},
   "outputs": [],
   "source": [
    "# 散点图：查看不同性别的消费客户中，消费 tip 随着消费金额 total_bill 的变化情况\n"
   ]
  },
  {
   "cell_type": "code",
   "execution_count": 15,
   "id": "f0587a3c",
   "metadata": {},
   "outputs": [],
   "source": [
    "# 折线图：查看不同性别的消费客户中，消费金额 total_bill 随着 day 的变化情况\n"
   ]
  },
  {
   "cell_type": "code",
   "execution_count": null,
   "id": "ba17bad3",
   "metadata": {},
   "outputs": [],
   "source": []
  }
 ],
 "metadata": {
  "kernelspec": {
   "display_name": "Python 3 (ipykernel)",
   "language": "python",
   "name": "python3"
  },
  "language_info": {
   "codemirror_mode": {
    "name": "ipython",
    "version": 3
   },
   "file_extension": ".py",
   "mimetype": "text/x-python",
   "name": "python",
   "nbconvert_exporter": "python",
   "pygments_lexer": "ipython3",
   "version": "3.8.12"
  },
  "toc": {
   "base_numbering": 1,
   "nav_menu": {},
   "number_sections": true,
   "sideBar": true,
   "skip_h1_title": false,
   "title_cell": "Table of Contents",
   "title_sidebar": "Contents",
   "toc_cell": false,
   "toc_position": {
    "height": "calc(100% - 180px)",
    "left": "10px",
    "top": "150px",
    "width": "300.8px"
   },
   "toc_section_display": true,
   "toc_window_display": true
  }
 },
 "nbformat": 4,
 "nbformat_minor": 5
}
