{
 "cells": [
  {
   "cell_type": "code",
   "execution_count": 57,
   "id": "10d11afe",
   "metadata": {},
   "outputs": [],
   "source": [
    "import pandas as pd\n",
    "# 不显示警告信息\n",
    "import warnings\n",
    "warnings.filterwarnings('ignore')"
   ]
  },
  {
   "cell_type": "markdown",
   "id": "0ec518d7",
   "metadata": {},
   "source": [
    "# 加载数据"
   ]
  },
  {
   "cell_type": "markdown",
   "id": "fb8a9210",
   "metadata": {},
   "source": [
    "**加载 sales.xlsx 的数据，包含5个sheet：'2015'、'2016'、'2017'、'2018'、'会员等级'**"
   ]
  },
  {
   "cell_type": "code",
   "execution_count": null,
   "id": "ebebb5f3",
   "metadata": {},
   "outputs": [],
   "source": []
  },
  {
   "cell_type": "markdown",
   "id": "fb4156f6",
   "metadata": {},
   "source": [
    "**zip方法的使用**"
   ]
  },
  {
   "cell_type": "code",
   "execution_count": 4,
   "id": "2a93e9eb",
   "metadata": {},
   "outputs": [
    {
     "name": "stdout",
     "output_type": "stream",
     "text": [
      "2015 数据1\n",
      "2016 数据2\n",
      "2017 数据3\n",
      "2018 数据4\n",
      "会员等级 数据5\n"
     ]
    }
   ],
   "source": [
    "sheet_names = ['2015', '2016', '2017', '2018', '会员等级']\n",
    "sheet_datas = ['数据1', '数据2', '数据3', '数据4', '数据5']\n",
    "\n",
    "for a, b in zip(sheet_names, sheet_datas):\n",
    "    print(a, b)"
   ]
  },
  {
   "cell_type": "markdown",
   "id": "cc43a4fc",
   "metadata": {},
   "source": [
    "**any方法的使用**"
   ]
  },
  {
   "cell_type": "code",
   "execution_count": 8,
   "id": "f80956eb",
   "metadata": {},
   "outputs": [
    {
     "data": {
      "text/html": [
       "<div>\n",
       "<style scoped>\n",
       "    .dataframe tbody tr th:only-of-type {\n",
       "        vertical-align: middle;\n",
       "    }\n",
       "\n",
       "    .dataframe tbody tr th {\n",
       "        vertical-align: top;\n",
       "    }\n",
       "\n",
       "    .dataframe thead th {\n",
       "        text-align: right;\n",
       "    }\n",
       "</style>\n",
       "<table border=\"1\" class=\"dataframe\">\n",
       "  <thead>\n",
       "    <tr style=\"text-align: right;\">\n",
       "      <th></th>\n",
       "      <th>a</th>\n",
       "      <th>b</th>\n",
       "      <th>c</th>\n",
       "    </tr>\n",
       "  </thead>\n",
       "  <tbody>\n",
       "    <tr>\n",
       "      <th>0</th>\n",
       "      <td>1.0</td>\n",
       "      <td>2.0</td>\n",
       "      <td>3</td>\n",
       "    </tr>\n",
       "    <tr>\n",
       "      <th>1</th>\n",
       "      <td>NaN</td>\n",
       "      <td>4.0</td>\n",
       "      <td>5</td>\n",
       "    </tr>\n",
       "    <tr>\n",
       "      <th>2</th>\n",
       "      <td>4.0</td>\n",
       "      <td>5.0</td>\n",
       "      <td>6</td>\n",
       "    </tr>\n",
       "    <tr>\n",
       "      <th>3</th>\n",
       "      <td>7.0</td>\n",
       "      <td>NaN</td>\n",
       "      <td>8</td>\n",
       "    </tr>\n",
       "  </tbody>\n",
       "</table>\n",
       "</div>"
      ],
      "text/plain": [
       "     a    b  c\n",
       "0  1.0  2.0  3\n",
       "1  NaN  4.0  5\n",
       "2  4.0  5.0  6\n",
       "3  7.0  NaN  8"
      ]
     },
     "execution_count": 8,
     "metadata": {},
     "output_type": "execute_result"
    }
   ],
   "source": [
    "import numpy as np\n",
    "\n",
    "df = pd.DataFrame([\n",
    "    [1, 2, 3],\n",
    "    [np.nan, 4, 5],\n",
    "    [4, 5, 6],\n",
    "    [7, np.nan, 8]\n",
    "], columns=['a', 'b', 'c'])\n",
    "df"
   ]
  },
  {
   "cell_type": "code",
   "execution_count": 9,
   "id": "c2ce22b2",
   "metadata": {},
   "outputs": [
    {
     "data": {
      "text/html": [
       "<div>\n",
       "<style scoped>\n",
       "    .dataframe tbody tr th:only-of-type {\n",
       "        vertical-align: middle;\n",
       "    }\n",
       "\n",
       "    .dataframe tbody tr th {\n",
       "        vertical-align: top;\n",
       "    }\n",
       "\n",
       "    .dataframe thead th {\n",
       "        text-align: right;\n",
       "    }\n",
       "</style>\n",
       "<table border=\"1\" class=\"dataframe\">\n",
       "  <thead>\n",
       "    <tr style=\"text-align: right;\">\n",
       "      <th></th>\n",
       "      <th>a</th>\n",
       "      <th>b</th>\n",
       "      <th>c</th>\n",
       "    </tr>\n",
       "  </thead>\n",
       "  <tbody>\n",
       "    <tr>\n",
       "      <th>0</th>\n",
       "      <td>False</td>\n",
       "      <td>False</td>\n",
       "      <td>False</td>\n",
       "    </tr>\n",
       "    <tr>\n",
       "      <th>1</th>\n",
       "      <td>True</td>\n",
       "      <td>False</td>\n",
       "      <td>False</td>\n",
       "    </tr>\n",
       "    <tr>\n",
       "      <th>2</th>\n",
       "      <td>False</td>\n",
       "      <td>False</td>\n",
       "      <td>False</td>\n",
       "    </tr>\n",
       "    <tr>\n",
       "      <th>3</th>\n",
       "      <td>False</td>\n",
       "      <td>True</td>\n",
       "      <td>False</td>\n",
       "    </tr>\n",
       "  </tbody>\n",
       "</table>\n",
       "</div>"
      ],
      "text/plain": [
       "       a      b      c\n",
       "0  False  False  False\n",
       "1   True  False  False\n",
       "2  False  False  False\n",
       "3  False   True  False"
      ]
     },
     "execution_count": 9,
     "metadata": {},
     "output_type": "execute_result"
    }
   ],
   "source": [
    "df.isnull()"
   ]
  },
  {
   "cell_type": "code",
   "execution_count": 10,
   "id": "15315a04",
   "metadata": {},
   "outputs": [
    {
     "data": {
      "text/plain": [
       "a     True\n",
       "b     True\n",
       "c    False\n",
       "dtype: bool"
      ]
     },
     "execution_count": 10,
     "metadata": {},
     "output_type": "execute_result"
    }
   ],
   "source": [
    "df.isnull().any()"
   ]
  },
  {
   "cell_type": "code",
   "execution_count": 11,
   "id": "19418eb0",
   "metadata": {},
   "outputs": [
    {
     "data": {
      "text/plain": [
       "0    False\n",
       "1     True\n",
       "2    False\n",
       "3     True\n",
       "dtype: bool"
      ]
     },
     "execution_count": 11,
     "metadata": {},
     "output_type": "execute_result"
    }
   ],
   "source": [
    "df.isnull().any(axis=1)"
   ]
  },
  {
   "cell_type": "code",
   "execution_count": 12,
   "id": "63481d05",
   "metadata": {},
   "outputs": [
    {
     "data": {
      "text/plain": [
       "2"
      ]
     },
     "execution_count": 12,
     "metadata": {},
     "output_type": "execute_result"
    }
   ],
   "source": [
    "df.isnull().any(axis=1).sum()"
   ]
  },
  {
   "cell_type": "markdown",
   "id": "0af73651",
   "metadata": {},
   "source": [
    "# 数据预处理"
   ]
  },
  {
   "cell_type": "markdown",
   "id": "a26b05f4",
   "metadata": {},
   "source": [
    "**缺失值和异常数据的处理**"
   ]
  },
  {
   "cell_type": "code",
   "execution_count": null,
   "id": "6fd77f5d",
   "metadata": {},
   "outputs": [],
   "source": []
  },
  {
   "cell_type": "code",
   "execution_count": null,
   "id": "b506a65f",
   "metadata": {},
   "outputs": [],
   "source": []
  },
  {
   "cell_type": "code",
   "execution_count": null,
   "id": "3b977747",
   "metadata": {},
   "outputs": [],
   "source": []
  },
  {
   "cell_type": "markdown",
   "id": "cb750f22",
   "metadata": {},
   "source": [
    "**合并 2016-2018 这四年的订单数据**"
   ]
  },
  {
   "cell_type": "code",
   "execution_count": null,
   "id": "7f62255e",
   "metadata": {},
   "outputs": [],
   "source": []
  },
  {
   "cell_type": "markdown",
   "id": "e59ba378",
   "metadata": {},
   "source": [
    "**对订单数据进行处理，增加两列：year、date_interval**"
   ]
  },
  {
   "cell_type": "code",
   "execution_count": null,
   "id": "69957aff",
   "metadata": {},
   "outputs": [],
   "source": []
  },
  {
   "cell_type": "code",
   "execution_count": null,
   "id": "c134feff",
   "metadata": {},
   "outputs": [],
   "source": []
  },
  {
   "cell_type": "code",
   "execution_count": null,
   "id": "f37d49f1",
   "metadata": {},
   "outputs": [],
   "source": []
  },
  {
   "cell_type": "code",
   "execution_count": null,
   "id": "e1de3262",
   "metadata": {},
   "outputs": [],
   "source": []
  },
  {
   "cell_type": "markdown",
   "id": "33c6a8bf",
   "metadata": {},
   "source": [
    "**汇总每1年每个会员RFM的原始数据**"
   ]
  },
  {
   "cell_type": "code",
   "execution_count": null,
   "id": "f91dc75d",
   "metadata": {},
   "outputs": [],
   "source": []
  },
  {
   "cell_type": "code",
   "execution_count": null,
   "id": "16ec95c7",
   "metadata": {},
   "outputs": [],
   "source": []
  },
  {
   "cell_type": "markdown",
   "id": "05041196",
   "metadata": {},
   "source": [
    "# RFM 计算"
   ]
  },
  {
   "cell_type": "markdown",
   "id": "a9d5ec1c",
   "metadata": {},
   "source": [
    "**确定 RFM 划分区间的边界值**"
   ]
  },
  {
   "cell_type": "code",
   "execution_count": null,
   "id": "90b4cbc6",
   "metadata": {},
   "outputs": [],
   "source": []
  },
  {
   "cell_type": "code",
   "execution_count": null,
   "id": "0bcaf222",
   "metadata": {},
   "outputs": [],
   "source": []
  },
  {
   "cell_type": "markdown",
   "id": "8a4432ae",
   "metadata": {},
   "source": [
    "**定义区间边界**"
   ]
  },
  {
   "cell_type": "code",
   "execution_count": null,
   "id": "fd281da4",
   "metadata": {},
   "outputs": [],
   "source": []
  },
  {
   "cell_type": "markdown",
   "id": "c7835afc",
   "metadata": {},
   "source": [
    "**将 r、f、m 这 3 列划分区间**"
   ]
  },
  {
   "cell_type": "code",
   "execution_count": null,
   "id": "ab418f0d",
   "metadata": {},
   "outputs": [],
   "source": []
  },
  {
   "cell_type": "markdown",
   "id": "12a5eec5",
   "metadata": {},
   "source": [
    "**将r_score、f_score、m_score三列转换为str类型**"
   ]
  },
  {
   "cell_type": "code",
   "execution_count": null,
   "id": "c2f42ab8",
   "metadata": {},
   "outputs": [],
   "source": []
  },
  {
   "cell_type": "markdown",
   "id": "b4580ac6",
   "metadata": {},
   "source": [
    "**将 r_score、f_score、m_score这3列的内容进行拼接**"
   ]
  },
  {
   "cell_type": "code",
   "execution_count": null,
   "id": "c7b03dbd",
   "metadata": {},
   "outputs": [],
   "source": []
  },
  {
   "cell_type": "markdown",
   "id": "f71d5536",
   "metadata": {},
   "source": [
    "# RFM 结果保存"
   ]
  },
  {
   "cell_type": "markdown",
   "id": "71752601",
   "metadata": {},
   "source": [
    "**将 rfm 的结果保存到 excel 文件**"
   ]
  },
  {
   "cell_type": "code",
   "execution_count": 47,
   "id": "a79681af",
   "metadata": {
    "scrolled": true
   },
   "outputs": [],
   "source": [
    "rfm_group.to_excel('./data/sales_rfm_score.xlsx', index=False)"
   ]
  },
  {
   "cell_type": "markdown",
   "id": "c22609cf",
   "metadata": {},
   "source": [
    "**将 rfm 的结果保存到 sales_rfm_score 表中**"
   ]
  },
  {
   "cell_type": "code",
   "execution_count": null,
   "id": "16df9fe6",
   "metadata": {},
   "outputs": [],
   "source": []
  },
  {
   "cell_type": "markdown",
   "id": "c22f845f",
   "metadata": {},
   "source": [
    "# RFM 结果可视化"
   ]
  },
  {
   "cell_type": "markdown",
   "id": "ba65bee2",
   "metadata": {},
   "source": [
    "**使用 pyecharts 绘制 3D 柱形图**"
   ]
  },
  {
   "cell_type": "code",
   "execution_count": null,
   "id": "455f08c2",
   "metadata": {},
   "outputs": [],
   "source": []
  },
  {
   "cell_type": "code",
   "execution_count": null,
   "id": "87d89800",
   "metadata": {},
   "outputs": [],
   "source": []
  }
 ],
 "metadata": {
  "kernelspec": {
   "display_name": "Python 3 (ipykernel)",
   "language": "python",
   "name": "python3"
  },
  "language_info": {
   "codemirror_mode": {
    "name": "ipython",
    "version": 3
   },
   "file_extension": ".py",
   "mimetype": "text/x-python",
   "name": "python",
   "nbconvert_exporter": "python",
   "pygments_lexer": "ipython3",
   "version": "3.8.12"
  },
  "toc": {
   "base_numbering": 1,
   "nav_menu": {},
   "number_sections": true,
   "sideBar": true,
   "skip_h1_title": false,
   "title_cell": "Table of Contents",
   "title_sidebar": "Contents",
   "toc_cell": false,
   "toc_position": {},
   "toc_section_display": true,
   "toc_window_display": true
  }
 },
 "nbformat": 4,
 "nbformat_minor": 5
}
