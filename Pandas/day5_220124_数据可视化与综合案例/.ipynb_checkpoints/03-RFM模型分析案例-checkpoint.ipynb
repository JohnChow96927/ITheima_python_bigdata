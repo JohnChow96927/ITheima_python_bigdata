{
 "cells": [
  {
   "cell_type": "code",
   "execution_count": 1,
   "id": "10d11afe",
   "metadata": {},
   "outputs": [],
   "source": [
    "import pandas as pd\n",
    "import numpy as np\n",
    "import time\n",
    "import pymysql\n",
    "# 不显示警告信息\n",
    "import warnings\n",
    "warnings.filterwarnings('ignore')\n",
    "\n",
    "from pyecharts.charts import Bar3D"
   ]
  },
  {
   "cell_type": "markdown",
   "id": "0ec518d7",
   "metadata": {},
   "source": [
    "# 加载数据"
   ]
  },
  {
   "cell_type": "markdown",
   "id": "fb8a9210",
   "metadata": {},
   "source": [
    "**加载 sales.xlsx 的数据，包含5个sheet：'2015'、'2016'、'2017'、'2018'、'会员等级'**"
   ]
  },
  {
   "cell_type": "code",
   "execution_count": 2,
   "id": "ebebb5f3",
   "metadata": {},
   "outputs": [
    {
     "data": {
      "text/plain": [
       "[              会员ID         订单号       提交日期    订单金额\n",
       " 0      15278002468  3000304681 2015-01-01   499.0\n",
       " 1      39236378972  3000305791 2015-01-01  2588.0\n",
       " 2      38722039578  3000641787 2015-01-01   498.0\n",
       " 3      11049640063  3000798913 2015-01-01  1572.0\n",
       " 4      35038752292  3000821546 2015-01-01    10.1\n",
       " ...            ...         ...        ...     ...\n",
       " 30769  39368100847  4281994827 2015-12-31   828.0\n",
       " 30770       409757  4282010457 2015-12-31   199.0\n",
       " 30771  38380526114  4282017675 2015-12-31   208.0\n",
       " 30772     28074988  4282019440 2015-12-31    89.0\n",
       " 30773  39460363230  4282025309 2015-12-31   719.0\n",
       " \n",
       " [30774 rows x 4 columns],\n",
       "               会员ID         订单号       提交日期     订单金额\n",
       " 0      39288120141  4282025766 2016-01-01    76.00\n",
       " 1      39293812118  4282037929 2016-01-01  7599.00\n",
       " 2      27596340905  4282038740 2016-01-01   802.00\n",
       " 3      15111475509  4282043819 2016-01-01    65.00\n",
       " 4      38896594001  4282051044 2016-01-01    95.00\n",
       " ...            ...         ...        ...      ...\n",
       " 41273  35336052906  4324910145 2016-12-31    99.00\n",
       " 41274  39305835721  4324910148 2016-12-31   238.89\n",
       " 41275  39296945352  4324910770 2016-12-31   765.00\n",
       " 41276  14791026234  4324911025 2016-12-31    45.80\n",
       " 41277  16779755770  4324911048 2016-12-31   119.00\n",
       " \n",
       " [41278 rows x 4 columns],\n",
       "               会员ID         订单号       提交日期    订单金额\n",
       " 0      38765290840  4324911135 2017-01-01  1799.0\n",
       " 1      39305832102  4324911213 2017-01-01   369.0\n",
       " 2      34190994969  4324911251 2017-01-01   189.0\n",
       " 3      38986333210  4324911283 2017-01-01   169.0\n",
       " 4          4271359  4324911355 2017-01-01    78.0\n",
       " ...            ...         ...        ...     ...\n",
       " 50834  39155833075  4338762307 2017-12-31    96.0\n",
       " 50835  29523124076  4338762514 2017-12-31    99.0\n",
       " 50836      7807573  4338762906 2017-12-31   258.0\n",
       " 50837  36642530033  4338762958 2017-12-31   286.0\n",
       " 50838  39155901156  4338763879 2017-12-31   249.0\n",
       " \n",
       " [50839 rows x 4 columns],\n",
       "               会员ID         订单号       提交日期    订单金额\n",
       " 0      39229691808  4338764262 2018-01-01  3646.0\n",
       " 1      39293668916  4338764363 2018-01-01  3999.0\n",
       " 2      35059646224  4338764376 2018-01-01    10.1\n",
       " 3          1084397  4338770013 2018-01-01   828.0\n",
       " 4          3349915  4338770121 2018-01-01  3758.0\n",
       " ...            ...         ...        ...     ...\n",
       " 81344  39229485704  4354225182 2018-12-31   249.0\n",
       " 81345  39229021075  4354225188 2018-12-31    89.0\n",
       " 81346  39288976750  4354230034 2018-12-31    48.5\n",
       " 81347     26772630  4354230163 2018-12-31  3196.0\n",
       " 81348  39455580335  4354235084 2018-12-31  2999.0\n",
       " \n",
       " [81349 rows x 4 columns],\n",
       "                会员ID  会员等级\n",
       " 0            100090     3\n",
       " 1       10012905801     1\n",
       " 2       10012935109     1\n",
       " 3       10013498043     1\n",
       " 4       10014087899     4\n",
       " ...             ...   ...\n",
       " 154380       998138     3\n",
       " 154381       998298     1\n",
       " 154382       998571     4\n",
       " 154383       999563     4\n",
       " 154384       999951     1\n",
       " \n",
       " [154385 rows x 2 columns]]"
      ]
     },
     "execution_count": 2,
     "metadata": {},
     "output_type": "execute_result"
    }
   ],
   "source": [
    "sheet_names = ['2015', '2016', '2017', '2018', '会员等级']\n",
    "sheet_datas = [pd.read_excel('./data/sales.xlsx', sheet_name=i, engine='openpyxl') for i in sheet_names]\n",
    "sheet_datas"
   ]
  },
  {
   "cell_type": "markdown",
   "id": "fb4156f6",
   "metadata": {},
   "source": [
    "**zip方法的使用**"
   ]
  },
  {
   "cell_type": "code",
   "execution_count": 10,
   "id": "2a93e9eb",
   "metadata": {},
   "outputs": [
    {
     "name": "stdout",
     "output_type": "stream",
     "text": [
      "2015 数据1\n",
      "2016 数据2\n",
      "2017 数据3\n",
      "2018 数据4\n",
      "会员等级 数据5\n"
     ]
    }
   ],
   "source": [
    "# sheet_names = ['2015', '2016', '2017', '2018', '会员等级']\n",
    "# sheet_datas = ['数据1', '数据2', '数据3', '数据4', '数据5']\n",
    "\n",
    "# for a, b in zip(sheet_names, sheet_datas):\n",
    "#     print(a, b)"
   ]
  },
  {
   "cell_type": "markdown",
   "id": "cc43a4fc",
   "metadata": {},
   "source": [
    "**any方法的使用**"
   ]
  },
  {
   "cell_type": "code",
   "execution_count": 4,
   "id": "f80956eb",
   "metadata": {},
   "outputs": [
    {
     "data": {
      "text/html": [
       "<div>\n",
       "<style scoped>\n",
       "    .dataframe tbody tr th:only-of-type {\n",
       "        vertical-align: middle;\n",
       "    }\n",
       "\n",
       "    .dataframe tbody tr th {\n",
       "        vertical-align: top;\n",
       "    }\n",
       "\n",
       "    .dataframe thead th {\n",
       "        text-align: right;\n",
       "    }\n",
       "</style>\n",
       "<table border=\"1\" class=\"dataframe\">\n",
       "  <thead>\n",
       "    <tr style=\"text-align: right;\">\n",
       "      <th></th>\n",
       "      <th>a</th>\n",
       "      <th>b</th>\n",
       "      <th>c</th>\n",
       "    </tr>\n",
       "  </thead>\n",
       "  <tbody>\n",
       "    <tr>\n",
       "      <th>0</th>\n",
       "      <td>1.0</td>\n",
       "      <td>2.0</td>\n",
       "      <td>3</td>\n",
       "    </tr>\n",
       "    <tr>\n",
       "      <th>1</th>\n",
       "      <td>NaN</td>\n",
       "      <td>4.0</td>\n",
       "      <td>5</td>\n",
       "    </tr>\n",
       "    <tr>\n",
       "      <th>2</th>\n",
       "      <td>4.0</td>\n",
       "      <td>5.0</td>\n",
       "      <td>6</td>\n",
       "    </tr>\n",
       "    <tr>\n",
       "      <th>3</th>\n",
       "      <td>7.0</td>\n",
       "      <td>NaN</td>\n",
       "      <td>8</td>\n",
       "    </tr>\n",
       "  </tbody>\n",
       "</table>\n",
       "</div>"
      ],
      "text/plain": [
       "     a    b  c\n",
       "0  1.0  2.0  3\n",
       "1  NaN  4.0  5\n",
       "2  4.0  5.0  6\n",
       "3  7.0  NaN  8"
      ]
     },
     "execution_count": 4,
     "metadata": {},
     "output_type": "execute_result"
    }
   ],
   "source": [
    "df = pd.DataFrame([\n",
    "    [1, 2, 3],\n",
    "    [np.nan, 4, 5],\n",
    "    [4, 5, 6],\n",
    "    [7, np.nan, 8]\n",
    "], columns=['a', 'b', 'c'])\n",
    "df"
   ]
  },
  {
   "cell_type": "code",
   "execution_count": 5,
   "id": "c2ce22b2",
   "metadata": {},
   "outputs": [
    {
     "data": {
      "text/html": [
       "<div>\n",
       "<style scoped>\n",
       "    .dataframe tbody tr th:only-of-type {\n",
       "        vertical-align: middle;\n",
       "    }\n",
       "\n",
       "    .dataframe tbody tr th {\n",
       "        vertical-align: top;\n",
       "    }\n",
       "\n",
       "    .dataframe thead th {\n",
       "        text-align: right;\n",
       "    }\n",
       "</style>\n",
       "<table border=\"1\" class=\"dataframe\">\n",
       "  <thead>\n",
       "    <tr style=\"text-align: right;\">\n",
       "      <th></th>\n",
       "      <th>a</th>\n",
       "      <th>b</th>\n",
       "      <th>c</th>\n",
       "    </tr>\n",
       "  </thead>\n",
       "  <tbody>\n",
       "    <tr>\n",
       "      <th>0</th>\n",
       "      <td>False</td>\n",
       "      <td>False</td>\n",
       "      <td>False</td>\n",
       "    </tr>\n",
       "    <tr>\n",
       "      <th>1</th>\n",
       "      <td>True</td>\n",
       "      <td>False</td>\n",
       "      <td>False</td>\n",
       "    </tr>\n",
       "    <tr>\n",
       "      <th>2</th>\n",
       "      <td>False</td>\n",
       "      <td>False</td>\n",
       "      <td>False</td>\n",
       "    </tr>\n",
       "    <tr>\n",
       "      <th>3</th>\n",
       "      <td>False</td>\n",
       "      <td>True</td>\n",
       "      <td>False</td>\n",
       "    </tr>\n",
       "  </tbody>\n",
       "</table>\n",
       "</div>"
      ],
      "text/plain": [
       "       a      b      c\n",
       "0  False  False  False\n",
       "1   True  False  False\n",
       "2  False  False  False\n",
       "3  False   True  False"
      ]
     },
     "execution_count": 5,
     "metadata": {},
     "output_type": "execute_result"
    }
   ],
   "source": [
    "df.isnull()"
   ]
  },
  {
   "cell_type": "code",
   "execution_count": 6,
   "id": "15315a04",
   "metadata": {},
   "outputs": [
    {
     "data": {
      "text/plain": [
       "a     True\n",
       "b     True\n",
       "c    False\n",
       "dtype: bool"
      ]
     },
     "execution_count": 6,
     "metadata": {},
     "output_type": "execute_result"
    }
   ],
   "source": [
    "df.isnull().any()"
   ]
  },
  {
   "cell_type": "code",
   "execution_count": 7,
   "id": "19418eb0",
   "metadata": {},
   "outputs": [
    {
     "data": {
      "text/plain": [
       "0    False\n",
       "1     True\n",
       "2    False\n",
       "3     True\n",
       "dtype: bool"
      ]
     },
     "execution_count": 7,
     "metadata": {},
     "output_type": "execute_result"
    }
   ],
   "source": [
    "df.isnull().any(axis=1)"
   ]
  },
  {
   "cell_type": "code",
   "execution_count": 8,
   "id": "63481d05",
   "metadata": {},
   "outputs": [
    {
     "data": {
      "text/plain": [
       "2"
      ]
     },
     "execution_count": 8,
     "metadata": {},
     "output_type": "execute_result"
    }
   ],
   "source": [
    "df.isnull().any(axis=1).sum()"
   ]
  },
  {
   "cell_type": "code",
   "execution_count": 9,
   "id": "c0ba297a",
   "metadata": {},
   "outputs": [
    {
     "name": "stdout",
     "output_type": "stream",
     "text": [
      "[data summary for =============2015===============]\n"
     ]
    },
    {
     "ename": "AttributeError",
     "evalue": "'str' object has no attribute 'head'",
     "output_type": "error",
     "traceback": [
      "\u001b[0;31m---------------------------------------------------------------------------\u001b[0m",
      "\u001b[0;31mAttributeError\u001b[0m                            Traceback (most recent call last)",
      "\u001b[0;32m/var/folders/qj/p7t463bd1kqbxrjtymhqhzl00000gn/T/ipykernel_7336/844444830.py\u001b[0m in \u001b[0;36m<module>\u001b[0;34m\u001b[0m\n\u001b[1;32m      1\u001b[0m \u001b[0;32mfor\u001b[0m \u001b[0meach_name\u001b[0m\u001b[0;34m,\u001b[0m \u001b[0meach_data\u001b[0m \u001b[0;32min\u001b[0m \u001b[0mzip\u001b[0m\u001b[0;34m(\u001b[0m\u001b[0msheet_names\u001b[0m\u001b[0;34m,\u001b[0m \u001b[0msheet_datas\u001b[0m\u001b[0;34m)\u001b[0m\u001b[0;34m:\u001b[0m\u001b[0;34m\u001b[0m\u001b[0;34m\u001b[0m\u001b[0m\n\u001b[1;32m      2\u001b[0m     \u001b[0mprint\u001b[0m\u001b[0;34m(\u001b[0m\u001b[0;34m'[data summary for ============={}===============]'\u001b[0m\u001b[0;34m.\u001b[0m\u001b[0mformat\u001b[0m\u001b[0;34m(\u001b[0m\u001b[0meach_name\u001b[0m\u001b[0;34m)\u001b[0m\u001b[0;34m)\u001b[0m\u001b[0;34m\u001b[0m\u001b[0;34m\u001b[0m\u001b[0m\n\u001b[0;32m----> 3\u001b[0;31m     \u001b[0mprint\u001b[0m\u001b[0;34m(\u001b[0m\u001b[0;34m'Overview:'\u001b[0m\u001b[0;34m,\u001b[0m \u001b[0;34m'\\n'\u001b[0m\u001b[0;34m,\u001b[0m \u001b[0meach_data\u001b[0m\u001b[0;34m.\u001b[0m\u001b[0mhead\u001b[0m\u001b[0;34m(\u001b[0m\u001b[0;36m4\u001b[0m\u001b[0;34m)\u001b[0m\u001b[0;34m)\u001b[0m\u001b[0;31m# 展示数据前4条\u001b[0m\u001b[0;34m\u001b[0m\u001b[0;34m\u001b[0m\u001b[0m\n\u001b[0m\u001b[1;32m      4\u001b[0m     \u001b[0mprint\u001b[0m\u001b[0;34m(\u001b[0m\u001b[0;34m'DESC:'\u001b[0m\u001b[0;34m,\u001b[0m \u001b[0;34m'\\n'\u001b[0m\u001b[0;34m,\u001b[0m \u001b[0meach_data\u001b[0m\u001b[0;34m.\u001b[0m\u001b[0mdescribe\u001b[0m\u001b[0;34m(\u001b[0m\u001b[0;34m)\u001b[0m\u001b[0;34m)\u001b[0m\u001b[0;31m# 数据描述性信息\u001b[0m\u001b[0;34m\u001b[0m\u001b[0;34m\u001b[0m\u001b[0m\n\u001b[1;32m      5\u001b[0m     \u001b[0mprint\u001b[0m\u001b[0;34m(\u001b[0m\u001b[0;34m'NA records'\u001b[0m\u001b[0;34m,\u001b[0m \u001b[0meach_data\u001b[0m\u001b[0;34m.\u001b[0m\u001b[0misnull\u001b[0m\u001b[0;34m(\u001b[0m\u001b[0;34m)\u001b[0m\u001b[0;34m.\u001b[0m\u001b[0many\u001b[0m\u001b[0;34m(\u001b[0m\u001b[0maxis\u001b[0m\u001b[0;34m=\u001b[0m\u001b[0;36m1\u001b[0m\u001b[0;34m)\u001b[0m\u001b[0;34m.\u001b[0m\u001b[0msum\u001b[0m\u001b[0;34m(\u001b[0m\u001b[0;34m)\u001b[0m\u001b[0;34m)\u001b[0m \u001b[0;31m# 缺失值记录数\u001b[0m\u001b[0;34m\u001b[0m\u001b[0;34m\u001b[0m\u001b[0m\n",
      "\u001b[0;31mAttributeError\u001b[0m: 'str' object has no attribute 'head'"
     ]
    }
   ],
   "source": [
    "for each_name, each_data in zip(sheet_names, sheet_datas):\n",
    "    print('[data summary for ============={}===============]'.format(each_name))\n",
    "    print('Overview:', '\\n', each_data.head(4))# 展示数据前4条\n",
    "    print('DESC:', '\\n', each_data.describe())# 数据描述性信息\n",
    "    print('NA records', each_data.isnull().any(axis=1).sum()) # 缺失值记录数    \n",
    "    print('Dtypes', each_data.dtypes) # 数据类型"
   ]
  },
  {
   "cell_type": "markdown",
   "id": "0af73651",
   "metadata": {},
   "source": [
    "# 数据预处理"
   ]
  },
  {
   "cell_type": "markdown",
   "id": "a26b05f4",
   "metadata": {},
   "source": [
    "**缺失值和异常数据的处理**"
   ]
  },
  {
   "cell_type": "code",
   "execution_count": null,
   "id": "6fd77f5d",
   "metadata": {},
   "outputs": [],
   "source": [
    "# 去除缺失值和异常值\n",
    "for i, each_data in enumerate(sheet_datas[:-1]):\n",
    "    sheet_datas[i] = each_data.dropna()\n",
    "    sheet_datas[i] = each_data[each_data['订单金额'] > 1]\n",
    "    sheet_datas[i]['max_year_date'] = each_data['提交日期'].max()"
   ]
  },
  {
   "cell_type": "code",
   "execution_count": null,
   "id": "b506a65f",
   "metadata": {},
   "outputs": [],
   "source": []
  },
  {
   "cell_type": "code",
   "execution_count": null,
   "id": "3b977747",
   "metadata": {},
   "outputs": [],
   "source": []
  },
  {
   "cell_type": "markdown",
   "id": "cb750f22",
   "metadata": {},
   "source": [
    "**合并 2016-2018 这四年的订单数据**"
   ]
  },
  {
   "cell_type": "code",
   "execution_count": null,
   "id": "7f62255e",
   "metadata": {},
   "outputs": [],
   "source": [
    "# 汇总所有数据\n",
    "data_merge = pd.concat(sheet_datas[:-1])\n",
    "data_merge"
   ]
  },
  {
   "cell_type": "markdown",
   "id": "e59ba378",
   "metadata": {},
   "source": [
    "**对订单数据进行处理，增加两列：year、date_interval**"
   ]
  },
  {
   "cell_type": "code",
   "execution_count": null,
   "id": "69957aff",
   "metadata": {},
   "outputs": [],
   "source": []
  },
  {
   "cell_type": "code",
   "execution_count": null,
   "id": "c134feff",
   "metadata": {},
   "outputs": [],
   "source": []
  },
  {
   "cell_type": "code",
   "execution_count": null,
   "id": "f37d49f1",
   "metadata": {},
   "outputs": [],
   "source": []
  },
  {
   "cell_type": "code",
   "execution_count": null,
   "id": "e1de3262",
   "metadata": {},
   "outputs": [],
   "source": []
  },
  {
   "cell_type": "markdown",
   "id": "33c6a8bf",
   "metadata": {},
   "source": [
    "**汇总每1年每个会员RFM的原始数据**"
   ]
  },
  {
   "cell_type": "code",
   "execution_count": null,
   "id": "f91dc75d",
   "metadata": {},
   "outputs": [],
   "source": []
  },
  {
   "cell_type": "code",
   "execution_count": null,
   "id": "16ec95c7",
   "metadata": {},
   "outputs": [],
   "source": []
  },
  {
   "cell_type": "markdown",
   "id": "05041196",
   "metadata": {},
   "source": [
    "# RFM 计算"
   ]
  },
  {
   "cell_type": "markdown",
   "id": "a9d5ec1c",
   "metadata": {},
   "source": [
    "**确定 RFM 划分区间的边界值**"
   ]
  },
  {
   "cell_type": "code",
   "execution_count": null,
   "id": "90b4cbc6",
   "metadata": {},
   "outputs": [],
   "source": []
  },
  {
   "cell_type": "code",
   "execution_count": null,
   "id": "0bcaf222",
   "metadata": {},
   "outputs": [],
   "source": []
  },
  {
   "cell_type": "markdown",
   "id": "8a4432ae",
   "metadata": {},
   "source": [
    "**定义区间边界**"
   ]
  },
  {
   "cell_type": "code",
   "execution_count": null,
   "id": "fd281da4",
   "metadata": {},
   "outputs": [],
   "source": []
  },
  {
   "cell_type": "markdown",
   "id": "c7835afc",
   "metadata": {},
   "source": [
    "**将 r、f、m 这 3 列划分区间**"
   ]
  },
  {
   "cell_type": "code",
   "execution_count": null,
   "id": "ab418f0d",
   "metadata": {},
   "outputs": [],
   "source": []
  },
  {
   "cell_type": "markdown",
   "id": "12a5eec5",
   "metadata": {},
   "source": [
    "**将r_score、f_score、m_score三列转换为str类型**"
   ]
  },
  {
   "cell_type": "code",
   "execution_count": null,
   "id": "c2f42ab8",
   "metadata": {},
   "outputs": [],
   "source": []
  },
  {
   "cell_type": "markdown",
   "id": "b4580ac6",
   "metadata": {},
   "source": [
    "**将 r_score、f_score、m_score这3列的内容进行拼接**"
   ]
  },
  {
   "cell_type": "code",
   "execution_count": null,
   "id": "c7b03dbd",
   "metadata": {},
   "outputs": [],
   "source": []
  },
  {
   "cell_type": "markdown",
   "id": "f71d5536",
   "metadata": {},
   "source": [
    "# RFM 结果保存"
   ]
  },
  {
   "cell_type": "markdown",
   "id": "71752601",
   "metadata": {},
   "source": [
    "**将 rfm 的结果保存到 excel 文件**"
   ]
  },
  {
   "cell_type": "code",
   "execution_count": null,
   "id": "a79681af",
   "metadata": {
    "scrolled": true
   },
   "outputs": [],
   "source": [
    "rfm_group.to_excel('./data/sales_rfm_score.xlsx', index=False)"
   ]
  },
  {
   "cell_type": "markdown",
   "id": "c22609cf",
   "metadata": {},
   "source": [
    "**将 rfm 的结果保存到 sales_rfm_score 表中**"
   ]
  },
  {
   "cell_type": "code",
   "execution_count": null,
   "id": "16df9fe6",
   "metadata": {},
   "outputs": [],
   "source": []
  },
  {
   "cell_type": "markdown",
   "id": "c22f845f",
   "metadata": {},
   "source": [
    "# RFM 结果可视化"
   ]
  },
  {
   "cell_type": "markdown",
   "id": "ba65bee2",
   "metadata": {},
   "source": [
    "**使用 pyecharts 绘制 3D 柱形图**"
   ]
  },
  {
   "cell_type": "code",
   "execution_count": null,
   "id": "455f08c2",
   "metadata": {},
   "outputs": [],
   "source": []
  },
  {
   "cell_type": "code",
   "execution_count": null,
   "id": "87d89800",
   "metadata": {},
   "outputs": [],
   "source": []
  }
 ],
 "metadata": {
  "kernelspec": {
   "display_name": "Python [conda env:datasci] *",
   "language": "python",
   "name": "conda-env-datasci-py"
  },
  "language_info": {
   "codemirror_mode": {
    "name": "ipython",
    "version": 3
   },
   "file_extension": ".py",
   "mimetype": "text/x-python",
   "name": "python",
   "nbconvert_exporter": "python",
   "pygments_lexer": "ipython3",
   "version": "3.8.12"
  },
  "toc": {
   "base_numbering": 1,
   "nav_menu": {},
   "number_sections": true,
   "sideBar": true,
   "skip_h1_title": false,
   "title_cell": "Table of Contents",
   "title_sidebar": "Contents",
   "toc_cell": false,
   "toc_position": {
    "height": "calc(100% - 180px)",
    "left": "10px",
    "top": "150px",
    "width": "165px"
   },
   "toc_section_display": true,
   "toc_window_display": true
  }
 },
 "nbformat": 4,
 "nbformat_minor": 5
}
