{
 "cells": [
  {
   "cell_type": "code",
   "execution_count": 1,
   "id": "d13c632e",
   "metadata": {},
   "outputs": [],
   "source": [
    "import pandas as pd"
   ]
  },
  {
   "cell_type": "markdown",
   "id": "78fe20df",
   "metadata": {},
   "source": [
    "#### 加载 data 目录下 banklist.csv 数据集"
   ]
  },
  {
   "cell_type": "code",
   "execution_count": 3,
   "id": "201214d3",
   "metadata": {},
   "outputs": [
    {
     "data": {
      "text/html": [
       "<div>\n",
       "<style scoped>\n",
       "    .dataframe tbody tr th:only-of-type {\n",
       "        vertical-align: middle;\n",
       "    }\n",
       "\n",
       "    .dataframe tbody tr th {\n",
       "        vertical-align: top;\n",
       "    }\n",
       "\n",
       "    .dataframe thead th {\n",
       "        text-align: right;\n",
       "    }\n",
       "</style>\n",
       "<table border=\"1\" class=\"dataframe\">\n",
       "  <thead>\n",
       "    <tr style=\"text-align: right;\">\n",
       "      <th></th>\n",
       "      <th>Bank Name</th>\n",
       "      <th>City</th>\n",
       "      <th>ST</th>\n",
       "      <th>CERT</th>\n",
       "      <th>Acquiring Institution</th>\n",
       "      <th>Closing Date</th>\n",
       "      <th>Updated Date</th>\n",
       "    </tr>\n",
       "  </thead>\n",
       "  <tbody>\n",
       "    <tr>\n",
       "      <th>0</th>\n",
       "      <td>Fayette County Bank</td>\n",
       "      <td>Saint Elmo</td>\n",
       "      <td>IL</td>\n",
       "      <td>1802</td>\n",
       "      <td>United Fidelity Bank, fsb</td>\n",
       "      <td>26-May-17</td>\n",
       "      <td>26-Jul-17</td>\n",
       "    </tr>\n",
       "    <tr>\n",
       "      <th>1</th>\n",
       "      <td>Guaranty Bank, (d/b/a BestBank in Georgia &amp; Mi...</td>\n",
       "      <td>Milwaukee</td>\n",
       "      <td>WI</td>\n",
       "      <td>30003</td>\n",
       "      <td>First-Citizens Bank &amp; Trust Company</td>\n",
       "      <td>5-May-17</td>\n",
       "      <td>26-Jul-17</td>\n",
       "    </tr>\n",
       "    <tr>\n",
       "      <th>2</th>\n",
       "      <td>First NBC Bank</td>\n",
       "      <td>New Orleans</td>\n",
       "      <td>LA</td>\n",
       "      <td>58302</td>\n",
       "      <td>Whitney Bank</td>\n",
       "      <td>28-Apr-17</td>\n",
       "      <td>26-Jul-17</td>\n",
       "    </tr>\n",
       "    <tr>\n",
       "      <th>3</th>\n",
       "      <td>Proficio Bank</td>\n",
       "      <td>Cottonwood Heights</td>\n",
       "      <td>UT</td>\n",
       "      <td>35495</td>\n",
       "      <td>Cache Valley Bank</td>\n",
       "      <td>3-Mar-17</td>\n",
       "      <td>18-May-17</td>\n",
       "    </tr>\n",
       "    <tr>\n",
       "      <th>4</th>\n",
       "      <td>Seaway Bank and Trust Company</td>\n",
       "      <td>Chicago</td>\n",
       "      <td>IL</td>\n",
       "      <td>19328</td>\n",
       "      <td>State Bank of Texas</td>\n",
       "      <td>27-Jan-17</td>\n",
       "      <td>18-May-17</td>\n",
       "    </tr>\n",
       "    <tr>\n",
       "      <th>...</th>\n",
       "      <td>...</td>\n",
       "      <td>...</td>\n",
       "      <td>...</td>\n",
       "      <td>...</td>\n",
       "      <td>...</td>\n",
       "      <td>...</td>\n",
       "      <td>...</td>\n",
       "    </tr>\n",
       "    <tr>\n",
       "      <th>548</th>\n",
       "      <td>Superior Bank, FSB</td>\n",
       "      <td>Hinsdale</td>\n",
       "      <td>IL</td>\n",
       "      <td>32646</td>\n",
       "      <td>Superior Federal, FSB</td>\n",
       "      <td>27-Jul-01</td>\n",
       "      <td>19-Aug-14</td>\n",
       "    </tr>\n",
       "    <tr>\n",
       "      <th>549</th>\n",
       "      <td>Malta National Bank</td>\n",
       "      <td>Malta</td>\n",
       "      <td>OH</td>\n",
       "      <td>6629</td>\n",
       "      <td>North Valley Bank</td>\n",
       "      <td>3-May-01</td>\n",
       "      <td>18-Nov-02</td>\n",
       "    </tr>\n",
       "    <tr>\n",
       "      <th>550</th>\n",
       "      <td>First Alliance Bank &amp; Trust Co.</td>\n",
       "      <td>Manchester</td>\n",
       "      <td>NH</td>\n",
       "      <td>34264</td>\n",
       "      <td>Southern New Hampshire Bank &amp; Trust</td>\n",
       "      <td>2-Feb-01</td>\n",
       "      <td>18-Feb-03</td>\n",
       "    </tr>\n",
       "    <tr>\n",
       "      <th>551</th>\n",
       "      <td>National State Bank of Metropolis</td>\n",
       "      <td>Metropolis</td>\n",
       "      <td>IL</td>\n",
       "      <td>3815</td>\n",
       "      <td>Banterra Bank of Marion</td>\n",
       "      <td>14-Dec-00</td>\n",
       "      <td>17-Mar-05</td>\n",
       "    </tr>\n",
       "    <tr>\n",
       "      <th>552</th>\n",
       "      <td>Bank of Honolulu</td>\n",
       "      <td>Honolulu</td>\n",
       "      <td>HI</td>\n",
       "      <td>21029</td>\n",
       "      <td>Bank of the Orient</td>\n",
       "      <td>13-Oct-00</td>\n",
       "      <td>17-Mar-05</td>\n",
       "    </tr>\n",
       "  </tbody>\n",
       "</table>\n",
       "<p>553 rows × 7 columns</p>\n",
       "</div>"
      ],
      "text/plain": [
       "                                             Bank Name                City  \\\n",
       "0                                  Fayette County Bank          Saint Elmo   \n",
       "1    Guaranty Bank, (d/b/a BestBank in Georgia & Mi...           Milwaukee   \n",
       "2                                       First NBC Bank         New Orleans   \n",
       "3                                        Proficio Bank  Cottonwood Heights   \n",
       "4                        Seaway Bank and Trust Company             Chicago   \n",
       "..                                                 ...                 ...   \n",
       "548                                 Superior Bank, FSB            Hinsdale   \n",
       "549                                Malta National Bank               Malta   \n",
       "550                    First Alliance Bank & Trust Co.          Manchester   \n",
       "551                  National State Bank of Metropolis          Metropolis   \n",
       "552                                   Bank of Honolulu            Honolulu   \n",
       "\n",
       "     ST   CERT                Acquiring Institution Closing Date Updated Date  \n",
       "0    IL   1802            United Fidelity Bank, fsb    26-May-17    26-Jul-17  \n",
       "1    WI  30003  First-Citizens Bank & Trust Company     5-May-17    26-Jul-17  \n",
       "2    LA  58302                         Whitney Bank    28-Apr-17    26-Jul-17  \n",
       "3    UT  35495                    Cache Valley Bank     3-Mar-17    18-May-17  \n",
       "4    IL  19328                  State Bank of Texas    27-Jan-17    18-May-17  \n",
       "..   ..    ...                                  ...          ...          ...  \n",
       "548  IL  32646                Superior Federal, FSB    27-Jul-01    19-Aug-14  \n",
       "549  OH   6629                    North Valley Bank     3-May-01    18-Nov-02  \n",
       "550  NH  34264  Southern New Hampshire Bank & Trust     2-Feb-01    18-Feb-03  \n",
       "551  IL   3815              Banterra Bank of Marion    14-Dec-00    17-Mar-05  \n",
       "552  HI  21029                   Bank of the Orient    13-Oct-00    17-Mar-05  \n",
       "\n",
       "[553 rows x 7 columns]"
      ]
     },
     "execution_count": 3,
     "metadata": {},
     "output_type": "execute_result"
    }
   ],
   "source": [
    "banks = pd.read_csv('./data/banklist.csv')\n",
    "banks"
   ]
  },
  {
   "cell_type": "markdown",
   "id": "178c25e0",
   "metadata": {},
   "source": [
    "#### 查看加载数据集中列的信息"
   ]
  },
  {
   "cell_type": "code",
   "execution_count": 4,
   "id": "de193955",
   "metadata": {},
   "outputs": [
    {
     "name": "stdout",
     "output_type": "stream",
     "text": [
      "<class 'pandas.core.frame.DataFrame'>\n",
      "RangeIndex: 553 entries, 0 to 552\n",
      "Data columns (total 7 columns):\n",
      " #   Column                 Non-Null Count  Dtype \n",
      "---  ------                 --------------  ----- \n",
      " 0   Bank Name              553 non-null    object\n",
      " 1   City                   553 non-null    object\n",
      " 2   ST                     553 non-null    object\n",
      " 3   CERT                   553 non-null    int64 \n",
      " 4   Acquiring Institution  553 non-null    object\n",
      " 5   Closing Date           553 non-null    object\n",
      " 6   Updated Date           553 non-null    object\n",
      "dtypes: int64(1), object(6)\n",
      "memory usage: 30.4+ KB\n"
     ]
    }
   ],
   "source": [
    "banks.info()"
   ]
  },
  {
   "cell_type": "markdown",
   "id": "f3708dba",
   "metadata": {},
   "source": [
    "#### 使用可视化的方式查看数据集中 CERT 这一列的数据分布情况"
   ]
  },
  {
   "cell_type": "code",
   "execution_count": 9,
   "id": "1158bba3",
   "metadata": {},
   "outputs": [
    {
     "data": {
      "image/png": "[encoded data removed]",
      "text/plain": [
       "<Figure size 432x288 with 1 Axes>"
      ]
     },
     "metadata": {
      "needs_background": "light"
     },
     "output_type": "display_data"
    }
   ],
   "source": [
    "import matplotlib.pyplot as plt\n",
    "# 创建图和坐标系\n",
    "fig = plt.figure()\n",
    "axes = fig.subplots(1, 1)\n",
    "\n",
    "# 直方图\n",
    "axes.hist(banks['CERT'], bins=10)\n",
    "\n",
    "# 显示图形\n",
    "plt.show()"
   ]
  },
  {
   "cell_type": "code",
   "execution_count": 10,
   "id": "500ae955",
   "metadata": {},
   "outputs": [
    {
     "data": {
      "image/png": "[encoded data removed]",
      "text/plain": [
       "<Figure size 432x288 with 1 Axes>"
      ]
     },
     "metadata": {
      "needs_background": "light"
     },
     "output_type": "display_data"
    }
   ],
   "source": [
    "# 箱线图\n",
    "# 创建图和坐标系\n",
    "fig = plt.figure()\n",
    "axes = fig.subplots(1, 1)\n",
    "\n",
    "# 直方图\n",
    "axes.boxplot(banks['CERT'])\n",
    "\n",
    "# 显示图形\n",
    "plt.show()"
   ]
  },
  {
   "cell_type": "markdown",
   "id": "5feae7fc",
   "metadata": {},
   "source": [
    "#### 统计银行数量最多的5个城市并进行可视化"
   ]
  },
  {
   "cell_type": "code",
   "execution_count": 18,
   "id": "937a8ca4",
   "metadata": {},
   "outputs": [
    {
     "data": {
      "image/png": "[encoded data removed]",
      "text/plain": [
       "<Figure size 432x288 with 1 Axes>"
      ]
     },
     "metadata": {
      "needs_background": "light"
     },
     "output_type": "display_data"
    }
   ],
   "source": [
    "# 统计银行数量最多的5个城市并进行可视化\n",
    "result = banks['City'].value_counts().head()\n",
    "\n",
    "# 创建图和坐标系\n",
    "fig = plt.figure()\n",
    "axes = fig.subplots(1, 1)\n",
    "\n",
    "# 条形图\n",
    "axes.bar(result.index, result.values)\n",
    "\n",
    "# 显示图形\n",
    "plt.show()"
   ]
  },
  {
   "cell_type": "code",
   "execution_count": 23,
   "id": "84f25ffd",
   "metadata": {},
   "outputs": [
    {
     "data": {
      "image/png": "[encoded data removed]",
      "text/plain": [
       "<Figure size 432x288 with 1 Axes>"
      ]
     },
     "metadata": {},
     "output_type": "display_data"
    }
   ],
   "source": [
    "# 创建图和坐标系\n",
    "fig = plt.figure()\n",
    "axes = fig.subplots(1, 1)\n",
    "\n",
    "# # 饼图\n",
    "axes.pie(result.values, labels=result.index, autopct='%.2f%%')\n",
    "\n",
    "# 显示图形\n",
    "plt.show()"
   ]
  },
  {
   "cell_type": "markdown",
   "id": "27261e9e",
   "metadata": {},
   "source": [
    "#### 将数据集中的 Closing Date 这一列转换为 datetime 类型"
   ]
  },
  {
   "cell_type": "code",
   "execution_count": 25,
   "id": "1d1e4d08",
   "metadata": {},
   "outputs": [
    {
     "name": "stdout",
     "output_type": "stream",
     "text": [
      "<class 'pandas.core.frame.DataFrame'>\n",
      "RangeIndex: 553 entries, 0 to 552\n",
      "Data columns (total 7 columns):\n",
      " #   Column                 Non-Null Count  Dtype         \n",
      "---  ------                 --------------  -----         \n",
      " 0   Bank Name              553 non-null    object        \n",
      " 1   City                   553 non-null    object        \n",
      " 2   ST                     553 non-null    object        \n",
      " 3   CERT                   553 non-null    int64         \n",
      " 4   Acquiring Institution  553 non-null    object        \n",
      " 5   Closing Date           553 non-null    datetime64[ns]\n",
      " 6   Updated Date           553 non-null    object        \n",
      "dtypes: datetime64[ns](1), int64(1), object(5)\n",
      "memory usage: 30.4+ KB\n"
     ]
    }
   ],
   "source": [
    "banks['Closing Date'] = pd.to_datetime(banks['Closing Date'])\n",
    "banks.info()"
   ]
  },
  {
   "cell_type": "markdown",
   "id": "742ce0d3",
   "metadata": {},
   "source": [
    "#### 在数据集中增加银行关闭 year 年份这一列"
   ]
  },
  {
   "cell_type": "code",
   "execution_count": 27,
   "id": "a8ef086e",
   "metadata": {},
   "outputs": [
    {
     "data": {
      "text/html": [
       "<div>\n",
       "<style scoped>\n",
       "    .dataframe tbody tr th:only-of-type {\n",
       "        vertical-align: middle;\n",
       "    }\n",
       "\n",
       "    .dataframe tbody tr th {\n",
       "        vertical-align: top;\n",
       "    }\n",
       "\n",
       "    .dataframe thead th {\n",
       "        text-align: right;\n",
       "    }\n",
       "</style>\n",
       "<table border=\"1\" class=\"dataframe\">\n",
       "  <thead>\n",
       "    <tr style=\"text-align: right;\">\n",
       "      <th></th>\n",
       "      <th>Bank Name</th>\n",
       "      <th>City</th>\n",
       "      <th>ST</th>\n",
       "      <th>CERT</th>\n",
       "      <th>Acquiring Institution</th>\n",
       "      <th>Closing Date</th>\n",
       "      <th>Updated Date</th>\n",
       "      <th>year</th>\n",
       "    </tr>\n",
       "  </thead>\n",
       "  <tbody>\n",
       "    <tr>\n",
       "      <th>0</th>\n",
       "      <td>Fayette County Bank</td>\n",
       "      <td>Saint Elmo</td>\n",
       "      <td>IL</td>\n",
       "      <td>1802</td>\n",
       "      <td>United Fidelity Bank, fsb</td>\n",
       "      <td>2017-05-26</td>\n",
       "      <td>26-Jul-17</td>\n",
       "      <td>2017</td>\n",
       "    </tr>\n",
       "    <tr>\n",
       "      <th>1</th>\n",
       "      <td>Guaranty Bank, (d/b/a BestBank in Georgia &amp; Mi...</td>\n",
       "      <td>Milwaukee</td>\n",
       "      <td>WI</td>\n",
       "      <td>30003</td>\n",
       "      <td>First-Citizens Bank &amp; Trust Company</td>\n",
       "      <td>2017-05-05</td>\n",
       "      <td>26-Jul-17</td>\n",
       "      <td>2017</td>\n",
       "    </tr>\n",
       "    <tr>\n",
       "      <th>2</th>\n",
       "      <td>First NBC Bank</td>\n",
       "      <td>New Orleans</td>\n",
       "      <td>LA</td>\n",
       "      <td>58302</td>\n",
       "      <td>Whitney Bank</td>\n",
       "      <td>2017-04-28</td>\n",
       "      <td>26-Jul-17</td>\n",
       "      <td>2017</td>\n",
       "    </tr>\n",
       "    <tr>\n",
       "      <th>3</th>\n",
       "      <td>Proficio Bank</td>\n",
       "      <td>Cottonwood Heights</td>\n",
       "      <td>UT</td>\n",
       "      <td>35495</td>\n",
       "      <td>Cache Valley Bank</td>\n",
       "      <td>2017-03-03</td>\n",
       "      <td>18-May-17</td>\n",
       "      <td>2017</td>\n",
       "    </tr>\n",
       "    <tr>\n",
       "      <th>4</th>\n",
       "      <td>Seaway Bank and Trust Company</td>\n",
       "      <td>Chicago</td>\n",
       "      <td>IL</td>\n",
       "      <td>19328</td>\n",
       "      <td>State Bank of Texas</td>\n",
       "      <td>2017-01-27</td>\n",
       "      <td>18-May-17</td>\n",
       "      <td>2017</td>\n",
       "    </tr>\n",
       "    <tr>\n",
       "      <th>...</th>\n",
       "      <td>...</td>\n",
       "      <td>...</td>\n",
       "      <td>...</td>\n",
       "      <td>...</td>\n",
       "      <td>...</td>\n",
       "      <td>...</td>\n",
       "      <td>...</td>\n",
       "      <td>...</td>\n",
       "    </tr>\n",
       "    <tr>\n",
       "      <th>548</th>\n",
       "      <td>Superior Bank, FSB</td>\n",
       "      <td>Hinsdale</td>\n",
       "      <td>IL</td>\n",
       "      <td>32646</td>\n",
       "      <td>Superior Federal, FSB</td>\n",
       "      <td>2001-07-27</td>\n",
       "      <td>19-Aug-14</td>\n",
       "      <td>2001</td>\n",
       "    </tr>\n",
       "    <tr>\n",
       "      <th>549</th>\n",
       "      <td>Malta National Bank</td>\n",
       "      <td>Malta</td>\n",
       "      <td>OH</td>\n",
       "      <td>6629</td>\n",
       "      <td>North Valley Bank</td>\n",
       "      <td>2001-05-03</td>\n",
       "      <td>18-Nov-02</td>\n",
       "      <td>2001</td>\n",
       "    </tr>\n",
       "    <tr>\n",
       "      <th>550</th>\n",
       "      <td>First Alliance Bank &amp; Trust Co.</td>\n",
       "      <td>Manchester</td>\n",
       "      <td>NH</td>\n",
       "      <td>34264</td>\n",
       "      <td>Southern New Hampshire Bank &amp; Trust</td>\n",
       "      <td>2001-02-02</td>\n",
       "      <td>18-Feb-03</td>\n",
       "      <td>2001</td>\n",
       "    </tr>\n",
       "    <tr>\n",
       "      <th>551</th>\n",
       "      <td>National State Bank of Metropolis</td>\n",
       "      <td>Metropolis</td>\n",
       "      <td>IL</td>\n",
       "      <td>3815</td>\n",
       "      <td>Banterra Bank of Marion</td>\n",
       "      <td>2000-12-14</td>\n",
       "      <td>17-Mar-05</td>\n",
       "      <td>2000</td>\n",
       "    </tr>\n",
       "    <tr>\n",
       "      <th>552</th>\n",
       "      <td>Bank of Honolulu</td>\n",
       "      <td>Honolulu</td>\n",
       "      <td>HI</td>\n",
       "      <td>21029</td>\n",
       "      <td>Bank of the Orient</td>\n",
       "      <td>2000-10-13</td>\n",
       "      <td>17-Mar-05</td>\n",
       "      <td>2000</td>\n",
       "    </tr>\n",
       "  </tbody>\n",
       "</table>\n",
       "<p>553 rows × 8 columns</p>\n",
       "</div>"
      ],
      "text/plain": [
       "                                             Bank Name                City  \\\n",
       "0                                  Fayette County Bank          Saint Elmo   \n",
       "1    Guaranty Bank, (d/b/a BestBank in Georgia & Mi...           Milwaukee   \n",
       "2                                       First NBC Bank         New Orleans   \n",
       "3                                        Proficio Bank  Cottonwood Heights   \n",
       "4                        Seaway Bank and Trust Company             Chicago   \n",
       "..                                                 ...                 ...   \n",
       "548                                 Superior Bank, FSB            Hinsdale   \n",
       "549                                Malta National Bank               Malta   \n",
       "550                    First Alliance Bank & Trust Co.          Manchester   \n",
       "551                  National State Bank of Metropolis          Metropolis   \n",
       "552                                   Bank of Honolulu            Honolulu   \n",
       "\n",
       "     ST   CERT                Acquiring Institution Closing Date Updated Date  \\\n",
       "0    IL   1802            United Fidelity Bank, fsb   2017-05-26    26-Jul-17   \n",
       "1    WI  30003  First-Citizens Bank & Trust Company   2017-05-05    26-Jul-17   \n",
       "2    LA  58302                         Whitney Bank   2017-04-28    26-Jul-17   \n",
       "3    UT  35495                    Cache Valley Bank   2017-03-03    18-May-17   \n",
       "4    IL  19328                  State Bank of Texas   2017-01-27    18-May-17   \n",
       "..   ..    ...                                  ...          ...          ...   \n",
       "548  IL  32646                Superior Federal, FSB   2001-07-27    19-Aug-14   \n",
       "549  OH   6629                    North Valley Bank   2001-05-03    18-Nov-02   \n",
       "550  NH  34264  Southern New Hampshire Bank & Trust   2001-02-02    18-Feb-03   \n",
       "551  IL   3815              Banterra Bank of Marion   2000-12-14    17-Mar-05   \n",
       "552  HI  21029                   Bank of the Orient   2000-10-13    17-Mar-05   \n",
       "\n",
       "     year  \n",
       "0    2017  \n",
       "1    2017  \n",
       "2    2017  \n",
       "3    2017  \n",
       "4    2017  \n",
       "..    ...  \n",
       "548  2001  \n",
       "549  2001  \n",
       "550  2001  \n",
       "551  2000  \n",
       "552  2000  \n",
       "\n",
       "[553 rows x 8 columns]"
      ]
     },
     "execution_count": 27,
     "metadata": {},
     "output_type": "execute_result"
    }
   ],
   "source": [
    "banks['year'] = banks['Closing Date'].dt.year\n",
    "banks"
   ]
  },
  {
   "cell_type": "markdown",
   "id": "e4047d76",
   "metadata": {},
   "source": [
    "#### 统计每年倒闭的银行数据并进行可视化"
   ]
  },
  {
   "cell_type": "code",
   "execution_count": 29,
   "id": "933cc9b7",
   "metadata": {},
   "outputs": [
    {
     "data": {
      "text/plain": [
       "year\n",
       "2000      2\n",
       "2001      4\n",
       "2002     11\n",
       "2003      3\n",
       "2004      4\n",
       "2007      3\n",
       "2008     25\n",
       "2009    140\n",
       "2010    157\n",
       "2011     92\n",
       "2012     51\n",
       "2013     24\n",
       "2014     18\n",
       "2015      8\n",
       "2016      5\n",
       "2017      6\n",
       "dtype: int64"
      ]
     },
     "execution_count": 29,
     "metadata": {},
     "output_type": "execute_result"
    }
   ],
   "source": [
    "result = banks.groupby('year').size()\n",
    "result"
   ]
  },
  {
   "cell_type": "code",
   "execution_count": 42,
   "id": "22d44b2e",
   "metadata": {},
   "outputs": [
    {
     "data": {
      "image/png": "[encoded data removed]",
      "text/plain": [
       "<Figure size 432x288 with 1 Axes>"
      ]
     },
     "metadata": {
      "needs_background": "light"
     },
     "output_type": "display_data"
    }
   ],
   "source": [
    "# 创建图和坐标系\n",
    "fig = plt.figure()\n",
    "axes = fig.subplots(1, 1)\n",
    "\n",
    "# 折线图\n",
    "axes.plot(result.index, result.values)\n",
    "\n",
    "# 设置x轴刻度\n",
    "axes.set_xlim(result.index[0], result.index[-1])\n",
    "\n",
    "# 显示图形\n",
    "plt.show()"
   ]
  },
  {
   "cell_type": "code",
   "execution_count": 43,
   "id": "ba2d652a",
   "metadata": {},
   "outputs": [
    {
     "data": {
      "text/plain": [
       "(2000.0, 2017.0)"
      ]
     },
     "execution_count": 43,
     "metadata": {},
     "output_type": "execute_result"
    },
    {
     "data": {
      "image/png": "[encoded data removed]",
      "text/plain": [
       "<Figure size 432x288 with 1 Axes>"
      ]
     },
     "metadata": {
      "needs_background": "light"
     },
     "output_type": "display_data"
    }
   ],
   "source": [
    "import seaborn as sns\n",
    "\n",
    "# 折线图\n",
    "axes = sns.lineplot(x=result.index, y=result.values)\n",
    "\n",
    "# 设置x轴刻度\n",
    "axes.set_xlim(result.index[0], result.index[-1])"
   ]
  },
  {
   "cell_type": "code",
   "execution_count": null,
   "id": "a706636c",
   "metadata": {},
   "outputs": [],
   "source": []
  }
 ],
 "metadata": {
  "kernelspec": {
   "display_name": "Python 3 (ipykernel)",
   "language": "python",
   "name": "python3"
  },
  "language_info": {
   "codemirror_mode": {
    "name": "ipython",
    "version": 3
   },
   "file_extension": ".py",
   "mimetype": "text/x-python",
   "name": "python",
   "nbconvert_exporter": "python",
   "pygments_lexer": "ipython3",
   "version": "3.8.12"
  },
  "toc": {
   "base_numbering": 1,
   "nav_menu": {},
   "number_sections": true,
   "sideBar": true,
   "skip_h1_title": false,
   "title_cell": "Table of Contents",
   "title_sidebar": "Contents",
   "toc_cell": false,
   "toc_position": {
    "height": "calc(100% - 180px)",
    "left": "10px",
    "top": "150px",
    "width": "302.712px"
   },
   "toc_section_display": true,
   "toc_window_display": true
  }
 },
 "nbformat": 4,
 "nbformat_minor": 5
}
