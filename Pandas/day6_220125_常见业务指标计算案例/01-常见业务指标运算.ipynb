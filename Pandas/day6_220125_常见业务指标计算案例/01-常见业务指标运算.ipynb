{
 "cells": [
  {
   "cell_type": "code",
   "execution_count": 1,
   "id": "f73817c1",
   "metadata": {},
   "outputs": [],
   "source": [
    "import pandas as pd\n",
    "import matplotlib.pyplot as plt"
   ]
  },
  {
   "cell_type": "markdown",
   "id": "c3aecf8b",
   "metadata": {},
   "source": [
    "# 加载数据"
   ]
  },
  {
   "cell_type": "code",
   "execution_count": null,
   "id": "1cdb10a8",
   "metadata": {},
   "outputs": [],
   "source": []
  },
  {
   "cell_type": "code",
   "execution_count": null,
   "id": "1e76ffab",
   "metadata": {},
   "outputs": [],
   "source": []
  },
  {
   "cell_type": "code",
   "execution_count": null,
   "id": "db756894",
   "metadata": {},
   "outputs": [],
   "source": []
  },
  {
   "cell_type": "markdown",
   "id": "ff5d4df7",
   "metadata": {},
   "source": [
    "# 数据清洗"
   ]
  },
  {
   "cell_type": "code",
   "execution_count": null,
   "id": "bbea3c2c",
   "metadata": {},
   "outputs": [],
   "source": []
  },
  {
   "cell_type": "code",
   "execution_count": null,
   "id": "83a76603",
   "metadata": {},
   "outputs": [],
   "source": []
  },
  {
   "cell_type": "code",
   "execution_count": null,
   "id": "c97731ab",
   "metadata": {},
   "outputs": [],
   "source": []
  },
  {
   "cell_type": "markdown",
   "id": "ce3bb8a6",
   "metadata": {},
   "source": [
    "# 业务指标计算"
   ]
  },
  {
   "cell_type": "markdown",
   "id": "689fea01",
   "metadata": {},
   "source": [
    "## 计算月交易额(月GMV)"
   ]
  },
  {
   "cell_type": "code",
   "execution_count": null,
   "id": "7f5548e5",
   "metadata": {},
   "outputs": [],
   "source": []
  },
  {
   "cell_type": "code",
   "execution_count": null,
   "id": "d5992d16",
   "metadata": {},
   "outputs": [],
   "source": []
  },
  {
   "cell_type": "code",
   "execution_count": null,
   "id": "d2a22641",
   "metadata": {},
   "outputs": [],
   "source": []
  },
  {
   "cell_type": "markdown",
   "id": "22bec3e1",
   "metadata": {},
   "source": [
    "## 计算月销售额环比"
   ]
  },
  {
   "cell_type": "code",
   "execution_count": null,
   "id": "ce09ea83",
   "metadata": {},
   "outputs": [],
   "source": []
  },
  {
   "cell_type": "code",
   "execution_count": null,
   "id": "5e02a57b",
   "metadata": {},
   "outputs": [],
   "source": []
  },
  {
   "cell_type": "code",
   "execution_count": null,
   "id": "a4eff2e2",
   "metadata": {},
   "outputs": [],
   "source": []
  },
  {
   "cell_type": "markdown",
   "id": "e033fb0f",
   "metadata": {},
   "source": [
    "## 月均活跃用户分析"
   ]
  },
  {
   "cell_type": "code",
   "execution_count": 2,
   "id": "c29fa023",
   "metadata": {},
   "outputs": [],
   "source": [
    "# 将用户ID有缺失的行删除\n"
   ]
  },
  {
   "cell_type": "code",
   "execution_count": 3,
   "id": "cc408f6e",
   "metadata": {},
   "outputs": [],
   "source": [
    "# 活跃用户的定义：当月发生购买行为的用户"
   ]
  },
  {
   "cell_type": "code",
   "execution_count": null,
   "id": "3464a440",
   "metadata": {},
   "outputs": [],
   "source": []
  },
  {
   "cell_type": "code",
   "execution_count": null,
   "id": "7647dbdb",
   "metadata": {},
   "outputs": [],
   "source": []
  },
  {
   "cell_type": "code",
   "execution_count": null,
   "id": "9d4990ab",
   "metadata": {},
   "outputs": [],
   "source": []
  },
  {
   "cell_type": "markdown",
   "id": "0c935a94",
   "metadata": {},
   "source": [
    "## 月客单价(活跃用户平均消费金额)"
   ]
  },
  {
   "cell_type": "code",
   "execution_count": 4,
   "id": "0aa61627",
   "metadata": {},
   "outputs": [],
   "source": [
    "# 客单价 = 月GMV / 月活跃用户数"
   ]
  },
  {
   "cell_type": "code",
   "execution_count": null,
   "id": "6cc8615e",
   "metadata": {},
   "outputs": [],
   "source": []
  },
  {
   "cell_type": "code",
   "execution_count": null,
   "id": "1c479504",
   "metadata": {},
   "outputs": [],
   "source": []
  },
  {
   "cell_type": "code",
   "execution_count": null,
   "id": "974f5aab",
   "metadata": {},
   "outputs": [],
   "source": []
  },
  {
   "cell_type": "markdown",
   "id": "8ee86927",
   "metadata": {},
   "source": [
    "## 新用户占比"
   ]
  },
  {
   "cell_type": "code",
   "execution_count": 5,
   "id": "529597fc",
   "metadata": {},
   "outputs": [],
   "source": [
    "# 按用户的第一次购买时间区分新老用户"
   ]
  },
  {
   "cell_type": "code",
   "execution_count": 6,
   "id": "6fa74f11",
   "metadata": {},
   "outputs": [],
   "source": [
    "# 月新老用户销售额\n"
   ]
  },
  {
   "cell_type": "code",
   "execution_count": 7,
   "id": "8ff5b632",
   "metadata": {},
   "outputs": [],
   "source": [
    "# 月新用户占比\n"
   ]
  },
  {
   "cell_type": "code",
   "execution_count": null,
   "id": "52a4dc32",
   "metadata": {},
   "outputs": [],
   "source": []
  },
  {
   "cell_type": "code",
   "execution_count": null,
   "id": "45dc0d6e",
   "metadata": {},
   "outputs": [],
   "source": []
  },
  {
   "cell_type": "markdown",
   "id": "e80bfbd8",
   "metadata": {},
   "source": [
    "## 激活率计算"
   ]
  },
  {
   "cell_type": "code",
   "execution_count": null,
   "id": "7c21cb95",
   "metadata": {},
   "outputs": [],
   "source": []
  },
  {
   "cell_type": "code",
   "execution_count": null,
   "id": "dd535c8e",
   "metadata": {},
   "outputs": [],
   "source": []
  },
  {
   "cell_type": "code",
   "execution_count": null,
   "id": "782c3603",
   "metadata": {},
   "outputs": [],
   "source": []
  },
  {
   "cell_type": "markdown",
   "id": "1d3bea28",
   "metadata": {},
   "source": [
    "## 月留存率计算"
   ]
  },
  {
   "cell_type": "code",
   "execution_count": null,
   "id": "5d93edde",
   "metadata": {},
   "outputs": [],
   "source": []
  },
  {
   "cell_type": "code",
   "execution_count": null,
   "id": "4f8d8da6",
   "metadata": {},
   "outputs": [],
   "source": []
  },
  {
   "cell_type": "code",
   "execution_count": null,
   "id": "d318e96d",
   "metadata": {},
   "outputs": [],
   "source": []
  }
 ],
 "metadata": {
  "kernelspec": {
   "display_name": "Python [conda env:datasci] *",
   "language": "python",
   "name": "conda-env-datasci-py"
  },
  "language_info": {
   "codemirror_mode": {
    "name": "ipython",
    "version": 3
   },
   "file_extension": ".py",
   "mimetype": "text/x-python",
   "name": "python",
   "nbconvert_exporter": "python",
   "pygments_lexer": "ipython3",
   "version": "3.8.12"
  },
  "toc": {
   "base_numbering": 1,
   "nav_menu": {},
   "number_sections": true,
   "sideBar": true,
   "skip_h1_title": false,
   "title_cell": "Table of Contents",
   "title_sidebar": "Contents",
   "toc_cell": false,
   "toc_position": {},
   "toc_section_display": true,
   "toc_window_display": true
  }
 },
 "nbformat": 4,
 "nbformat_minor": 5
}
