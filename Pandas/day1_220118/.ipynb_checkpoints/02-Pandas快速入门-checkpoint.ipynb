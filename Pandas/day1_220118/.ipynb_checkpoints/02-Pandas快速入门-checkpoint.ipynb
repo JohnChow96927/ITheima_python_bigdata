{
 "cells": [
  {
   "cell_type": "code",
   "execution_count": 1,
   "id": "1702134c",
   "metadata": {},
   "outputs": [],
   "source": [
    "import pandas as pd"
   ]
  },
  {
   "cell_type": "markdown",
   "id": "874dd6a0",
   "metadata": {},
   "source": [
    "# 加载 csv 和 tsv 数据"
   ]
  },
  {
   "cell_type": "markdown",
   "id": "df195745",
   "metadata": {},
   "source": [
    "##### 加载 csv 数据"
   ]
  },
  {
   "cell_type": "markdown",
   "id": "b3145e4d",
   "metadata": {},
   "source": []
  },
  {
   "cell_type": "code",
   "execution_count": null,
   "id": "a3889196",
   "metadata": {},
   "outputs": [],
   "source": []
  },
  {
   "cell_type": "markdown",
   "id": "33266294",
   "metadata": {},
   "source": [
    "##### 加载 tsv 数据"
   ]
  },
  {
   "cell_type": "code",
   "execution_count": null,
   "id": "cada0388",
   "metadata": {},
   "outputs": [],
   "source": []
  },
  {
   "cell_type": "code",
   "execution_count": null,
   "id": "515d7d75",
   "metadata": {},
   "outputs": [],
   "source": []
  },
  {
   "cell_type": "markdown",
   "id": "689faa86",
   "metadata": {},
   "source": [
    "# DataFrame 获取指定行列的数据"
   ]
  },
  {
   "cell_type": "markdown",
   "id": "7edf8072",
   "metadata": {},
   "source": [
    "## DataFrame 行标签和列标签"
   ]
  },
  {
   "cell_type": "code",
   "execution_count": null,
   "id": "3482f70b",
   "metadata": {},
   "outputs": [],
   "source": []
  },
  {
   "cell_type": "code",
   "execution_count": null,
   "id": "622b65ca",
   "metadata": {},
   "outputs": [],
   "source": []
  },
  {
   "cell_type": "markdown",
   "id": "ae5e9a8d",
   "metadata": {},
   "source": [
    "## loc函数获取指定行列的数据"
   ]
  },
  {
   "cell_type": "markdown",
   "id": "83b33a0b",
   "metadata": {},
   "source": [
    "##### 示例1：获取行标签为 1952, 1962, 1972 行的 country、pop、gdpPercap 列的数据"
   ]
  },
  {
   "cell_type": "code",
   "execution_count": null,
   "id": "0f02c31f",
   "metadata": {},
   "outputs": [],
   "source": []
  },
  {
   "cell_type": "markdown",
   "id": "8d1c5384",
   "metadata": {},
   "source": [
    "##### 示例2：获取行标签为 1952, 1962, 1972 行的所有列的数据"
   ]
  },
  {
   "cell_type": "code",
   "execution_count": null,
   "id": "2d705bc8",
   "metadata": {},
   "outputs": [],
   "source": []
  },
  {
   "cell_type": "markdown",
   "id": "3479774e",
   "metadata": {},
   "source": [
    "##### 示例3：获取所有行的 country、pop、gdpPercap 列的数据"
   ]
  },
  {
   "cell_type": "code",
   "execution_count": null,
   "id": "9a5804cc",
   "metadata": {},
   "outputs": [],
   "source": []
  },
  {
   "cell_type": "markdown",
   "id": "ba96d51c",
   "metadata": {},
   "source": [
    "##### 示例4：获取行标签为 1957 行的所有列的数据"
   ]
  },
  {
   "cell_type": "code",
   "execution_count": null,
   "id": "3df996e9",
   "metadata": {},
   "outputs": [],
   "source": []
  },
  {
   "cell_type": "markdown",
   "id": "6a560f79",
   "metadata": {},
   "source": [
    "##### 示例5：获取行标签为 1957 行的 lifeExp 列的数据"
   ]
  },
  {
   "cell_type": "code",
   "execution_count": null,
   "id": "75a4dcb1",
   "metadata": {},
   "outputs": [],
   "source": []
  },
  {
   "cell_type": "markdown",
   "id": "87664972",
   "metadata": {},
   "source": [
    "## iloc函数获取指定行列的数据"
   ]
  },
  {
   "cell_type": "markdown",
   "id": "6b8d7869",
   "metadata": {},
   "source": [
    "##### 示例1：获取行位置为 0, 2, 4 行的 0、1、2 列的数据"
   ]
  },
  {
   "cell_type": "code",
   "execution_count": null,
   "id": "8ecfbd8e",
   "metadata": {},
   "outputs": [],
   "source": []
  },
  {
   "cell_type": "markdown",
   "id": "edb0193e",
   "metadata": {},
   "source": [
    "##### 示例2：获取行位置为 0, 2, 4 行的所有列的数据"
   ]
  },
  {
   "cell_type": "code",
   "execution_count": null,
   "id": "6eeda1f3",
   "metadata": {},
   "outputs": [],
   "source": []
  },
  {
   "cell_type": "markdown",
   "id": "a1a1ec28",
   "metadata": {},
   "source": [
    "##### 示例3：获取所有行的列位置为 0、1、2 列的数据"
   ]
  },
  {
   "cell_type": "code",
   "execution_count": null,
   "id": "e5e14289",
   "metadata": {},
   "outputs": [],
   "source": []
  },
  {
   "cell_type": "markdown",
   "id": "1683852e",
   "metadata": {},
   "source": [
    "##### 示例4：获取行位置为 1 行的所有列的数据"
   ]
  },
  {
   "cell_type": "code",
   "execution_count": null,
   "id": "547c609f",
   "metadata": {},
   "outputs": [],
   "source": []
  },
  {
   "cell_type": "markdown",
   "id": "8bb04f2b",
   "metadata": {},
   "source": [
    "##### 示例5：获取行位置为 1 行的列位置为 2 列的数据"
   ]
  },
  {
   "cell_type": "code",
   "execution_count": null,
   "id": "abdcc245",
   "metadata": {},
   "outputs": [],
   "source": []
  },
  {
   "cell_type": "markdown",
   "id": "b1f9cfd1",
   "metadata": {},
   "source": [
    "## loc和iloc的切片操作"
   ]
  },
  {
   "cell_type": "markdown",
   "id": "00a4349e",
   "metadata": {},
   "source": [
    "##### 示例1：获取 china_df 中前三行的前三列的数据，分别使用上面介绍的loc和iloc实现"
   ]
  },
  {
   "cell_type": "code",
   "execution_count": null,
   "id": "918c82dc",
   "metadata": {},
   "outputs": [],
   "source": []
  },
  {
   "cell_type": "code",
   "execution_count": null,
   "id": "eabd2acc",
   "metadata": {},
   "outputs": [],
   "source": []
  },
  {
   "cell_type": "markdown",
   "id": "36c87526",
   "metadata": {},
   "source": [
    "## [] 语法获取指定行列的数据"
   ]
  },
  {
   "cell_type": "markdown",
   "id": "c314abab",
   "metadata": {},
   "source": [
    "##### 示例1：获取所有行的 country、pop、gdpPercap 列的数据"
   ]
  },
  {
   "cell_type": "code",
   "execution_count": null,
   "id": "7ed6e94e",
   "metadata": {},
   "outputs": [],
   "source": []
  },
  {
   "cell_type": "markdown",
   "id": "99f489da",
   "metadata": {},
   "source": [
    "##### 示例2：获取所有行的 pop 列的数据"
   ]
  },
  {
   "cell_type": "code",
   "execution_count": null,
   "id": "1fdc257e",
   "metadata": {},
   "outputs": [],
   "source": []
  },
  {
   "cell_type": "markdown",
   "id": "5ba5930f",
   "metadata": {},
   "source": [
    "##### 示例3：获取前三行的数据"
   ]
  },
  {
   "cell_type": "code",
   "execution_count": null,
   "id": "041a9cb2",
   "metadata": {},
   "outputs": [],
   "source": []
  },
  {
   "cell_type": "markdown",
   "id": "fe5d1f00",
   "metadata": {},
   "source": [
    "##### 示例4：从第一行开始，每隔一行获取一行数据，一共获取3行"
   ]
  },
  {
   "cell_type": "code",
   "execution_count": null,
   "id": "bcf9939f",
   "metadata": {},
   "outputs": [],
   "source": []
  }
 ],
 "metadata": {
  "kernelspec": {
   "display_name": "Python [conda env:datasci] *",
   "language": "python",
   "name": "conda-env-datasci-py"
  },
  "language_info": {
   "codemirror_mode": {
    "name": "ipython",
    "version": 3
   },
   "file_extension": ".py",
   "mimetype": "text/x-python",
   "name": "python",
   "nbconvert_exporter": "python",
   "pygments_lexer": "ipython3",
   "version": "3.8.12"
  },
  "toc": {
   "base_numbering": 1,
   "nav_menu": {},
   "number_sections": true,
   "sideBar": true,
   "skip_h1_title": false,
   "title_cell": "Table of Contents",
   "title_sidebar": "Contents",
   "toc_cell": false,
   "toc_position": {},
   "toc_section_display": true,
   "toc_window_display": true
  }
 },
 "nbformat": 4,
 "nbformat_minor": 5
}
