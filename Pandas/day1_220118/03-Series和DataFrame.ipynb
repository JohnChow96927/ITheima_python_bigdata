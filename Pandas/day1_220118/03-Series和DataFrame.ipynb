{
 "cells": [
  {
   "cell_type": "code",
   "execution_count": 1,
   "id": "24e8531a",
   "metadata": {},
   "outputs": [],
   "source": [
    "import pandas as pd"
   ]
  },
  {
   "cell_type": "markdown",
   "id": "3f0f0737",
   "metadata": {},
   "source": [
    "# Series 详解"
   ]
  },
  {
   "cell_type": "markdown",
   "id": "40334bdc",
   "metadata": {},
   "source": [
    "## 创建 Series"
   ]
  },
  {
   "cell_type": "code",
   "execution_count": 2,
   "id": "77d2dc1a",
   "metadata": {},
   "outputs": [
    {
     "name": "stdout",
     "output_type": "stream",
     "text": [
      "0    banana\n",
      "1        42\n",
      "dtype: object\n",
      "<class 'pandas.core.series.Series'>\n"
     ]
    }
   ],
   "source": [
    "s = pd.Series(['banana', 42])\n",
    "print(s)\n",
    "print(type(s))"
   ]
  },
  {
   "cell_type": "code",
   "execution_count": 3,
   "id": "d6e54e7f",
   "metadata": {},
   "outputs": [
    {
     "name": "stdout",
     "output_type": "stream",
     "text": [
      "0    banana\n",
      "1     apple\n",
      "dtype: object\n",
      "<class 'pandas.core.series.Series'>\n"
     ]
    }
   ],
   "source": [
    "s = pd.Series(['banana', 'apple'])\n",
    "print(s)\n",
    "print(type(s))"
   ]
  },
  {
   "cell_type": "code",
   "execution_count": 4,
   "id": "371167af",
   "metadata": {},
   "outputs": [
    {
     "name": "stdout",
     "output_type": "stream",
     "text": [
      "0    50\n",
      "1    42\n",
      "dtype: int64\n",
      "<class 'pandas.core.series.Series'>\n"
     ]
    }
   ],
   "source": [
    "s = pd.Series([50, 42])\n",
    "print(s)\n",
    "print(type(s))"
   ]
  },
  {
   "cell_type": "code",
   "execution_count": 5,
   "id": "af6e340a",
   "metadata": {},
   "outputs": [
    {
     "name": "stdout",
     "output_type": "stream",
     "text": [
      "name    smart\n",
      "age        18\n",
      "dtype: object\n",
      "<class 'pandas.core.series.Series'>\n"
     ]
    }
   ],
   "source": [
    "s = pd.Series(['smart', 18], index=['name', 'age'])\n",
    "print(s)\n",
    "print(type(s))"
   ]
  },
  {
   "cell_type": "markdown",
   "id": "09317ffc",
   "metadata": {},
   "source": [
    "## Series 常用操作"
   ]
  },
  {
   "cell_type": "code",
   "execution_count": 6,
   "id": "0d8def67",
   "metadata": {},
   "outputs": [
    {
     "data": {
      "text/html": [
       "<div>\n",
       "<style scoped>\n",
       "    .dataframe tbody tr th:only-of-type {\n",
       "        vertical-align: middle;\n",
       "    }\n",
       "\n",
       "    .dataframe tbody tr th {\n",
       "        vertical-align: top;\n",
       "    }\n",
       "\n",
       "    .dataframe thead th {\n",
       "        text-align: right;\n",
       "    }\n",
       "</style>\n",
       "<table border=\"1\" class=\"dataframe\">\n",
       "  <thead>\n",
       "    <tr style=\"text-align: right;\">\n",
       "      <th></th>\n",
       "      <th>Name</th>\n",
       "      <th>Born</th>\n",
       "      <th>Died</th>\n",
       "      <th>Age</th>\n",
       "      <th>Occupation</th>\n",
       "    </tr>\n",
       "  </thead>\n",
       "  <tbody>\n",
       "    <tr>\n",
       "      <th>0</th>\n",
       "      <td>Rosaline Franklin</td>\n",
       "      <td>1920/7/25</td>\n",
       "      <td>1958/4/16</td>\n",
       "      <td>37</td>\n",
       "      <td>Chemist</td>\n",
       "    </tr>\n",
       "    <tr>\n",
       "      <th>1</th>\n",
       "      <td>William Gosset</td>\n",
       "      <td>1876-06-13</td>\n",
       "      <td>1937/10/16</td>\n",
       "      <td>61</td>\n",
       "      <td>Statistician</td>\n",
       "    </tr>\n",
       "    <tr>\n",
       "      <th>2</th>\n",
       "      <td>Florence Nightingale</td>\n",
       "      <td>1820-05-12</td>\n",
       "      <td>1910/8/13</td>\n",
       "      <td>90</td>\n",
       "      <td>Nurse</td>\n",
       "    </tr>\n",
       "    <tr>\n",
       "      <th>3</th>\n",
       "      <td>Marie Curie</td>\n",
       "      <td>1867-11-07</td>\n",
       "      <td>1934/7/4</td>\n",
       "      <td>66</td>\n",
       "      <td>Chemist</td>\n",
       "    </tr>\n",
       "    <tr>\n",
       "      <th>4</th>\n",
       "      <td>Rachel Carson</td>\n",
       "      <td>1907/5/27</td>\n",
       "      <td>1964/4/14</td>\n",
       "      <td>56</td>\n",
       "      <td>Biologist</td>\n",
       "    </tr>\n",
       "    <tr>\n",
       "      <th>5</th>\n",
       "      <td>John Snow</td>\n",
       "      <td>1813-03-15</td>\n",
       "      <td>1858-06-16</td>\n",
       "      <td>45</td>\n",
       "      <td>Physician</td>\n",
       "    </tr>\n",
       "    <tr>\n",
       "      <th>6</th>\n",
       "      <td>Alan Turing</td>\n",
       "      <td>NaN</td>\n",
       "      <td>1954/6/7</td>\n",
       "      <td>41</td>\n",
       "      <td>Computer Scientist</td>\n",
       "    </tr>\n",
       "    <tr>\n",
       "      <th>7</th>\n",
       "      <td>Johann Gauss</td>\n",
       "      <td>1777-04-30</td>\n",
       "      <td>1855-02-23</td>\n",
       "      <td>77</td>\n",
       "      <td>Mathematician</td>\n",
       "    </tr>\n",
       "  </tbody>\n",
       "</table>\n",
       "</div>"
      ],
      "text/plain": [
       "                   Name        Born        Died  Age          Occupation\n",
       "0     Rosaline Franklin   1920/7/25   1958/4/16   37             Chemist\n",
       "1        William Gosset  1876-06-13  1937/10/16   61        Statistician\n",
       "2  Florence Nightingale  1820-05-12   1910/8/13   90               Nurse\n",
       "3           Marie Curie  1867-11-07    1934/7/4   66             Chemist\n",
       "4         Rachel Carson   1907/5/27   1964/4/14   56           Biologist\n",
       "5             John Snow  1813-03-15  1858-06-16   45           Physician\n",
       "6           Alan Turing         NaN    1954/6/7   41  Computer Scientist\n",
       "7          Johann Gauss  1777-04-30  1855-02-23   77       Mathematician"
      ]
     },
     "execution_count": 6,
     "metadata": {},
     "output_type": "execute_result"
    }
   ],
   "source": [
    "scientists = pd.read_csv('./data/scientists.csv')\n",
    "scientists"
   ]
  },
  {
   "cell_type": "markdown",
   "id": "cefb30f1",
   "metadata": {},
   "source": [
    "##### 常用属性和方法"
   ]
  },
  {
   "cell_type": "code",
   "execution_count": 7,
   "id": "2e1ed96d",
   "metadata": {},
   "outputs": [
    {
     "name": "stdout",
     "output_type": "stream",
     "text": [
      "0    37\n",
      "1    61\n",
      "2    90\n",
      "3    66\n",
      "4    56\n",
      "5    45\n",
      "6    41\n",
      "7    77\n",
      "Name: Age, dtype: int64\n",
      "<class 'pandas.core.series.Series'>\n"
     ]
    }
   ],
   "source": [
    "# 并获取 Age 列的数据\n",
    "age_series = scientists['Age']\n",
    "print(age_series)\n",
    "print(type(age_series))"
   ]
  },
  {
   "cell_type": "code",
   "execution_count": 9,
   "id": "e712ece0",
   "metadata": {},
   "outputs": [
    {
     "data": {
      "text/plain": [
       "(8,)"
      ]
     },
     "execution_count": 9,
     "metadata": {},
     "output_type": "execute_result"
    }
   ],
   "source": [
    "age_series.shape"
   ]
  },
  {
   "cell_type": "code",
   "execution_count": 10,
   "id": "f8f2aa23",
   "metadata": {},
   "outputs": [
    {
     "data": {
      "text/plain": [
       "8"
      ]
     },
     "execution_count": 10,
     "metadata": {},
     "output_type": "execute_result"
    }
   ],
   "source": [
    "age_series.size"
   ]
  },
  {
   "cell_type": "code",
   "execution_count": 11,
   "id": "bfb363e2",
   "metadata": {},
   "outputs": [
    {
     "data": {
      "text/plain": [
       "RangeIndex(start=0, stop=8, step=1)"
      ]
     },
     "execution_count": 11,
     "metadata": {},
     "output_type": "execute_result"
    }
   ],
   "source": [
    "age_series.index"
   ]
  },
  {
   "cell_type": "code",
   "execution_count": 12,
   "id": "ce0e42cb",
   "metadata": {},
   "outputs": [
    {
     "data": {
      "text/plain": [
       "array([37, 61, 90, 66, 56, 45, 41, 77])"
      ]
     },
     "execution_count": 12,
     "metadata": {},
     "output_type": "execute_result"
    }
   ],
   "source": [
    "age_series.values"
   ]
  },
  {
   "cell_type": "code",
   "execution_count": 13,
   "id": "8b9d5f38",
   "metadata": {},
   "outputs": [
    {
     "data": {
      "text/plain": [
       "RangeIndex(start=0, stop=8, step=1)"
      ]
     },
     "execution_count": 13,
     "metadata": {},
     "output_type": "execute_result"
    }
   ],
   "source": [
    "age_series.keys()"
   ]
  },
  {
   "cell_type": "code",
   "execution_count": 14,
   "id": "84d0c1f1",
   "metadata": {},
   "outputs": [
    {
     "data": {
      "text/plain": [
       "61"
      ]
     },
     "execution_count": 14,
     "metadata": {},
     "output_type": "execute_result"
    }
   ],
   "source": [
    "age_series.loc[1]"
   ]
  },
  {
   "cell_type": "code",
   "execution_count": 15,
   "id": "2a13990b",
   "metadata": {},
   "outputs": [
    {
     "data": {
      "text/plain": [
       "61"
      ]
     },
     "execution_count": 15,
     "metadata": {},
     "output_type": "execute_result"
    }
   ],
   "source": [
    "age_series.iloc[1]"
   ]
  },
  {
   "cell_type": "code",
   "execution_count": 16,
   "id": "cf27f803",
   "metadata": {},
   "outputs": [
    {
     "data": {
      "text/plain": [
       "dtype('int64')"
      ]
     },
     "execution_count": 16,
     "metadata": {},
     "output_type": "execute_result"
    }
   ],
   "source": [
    "age_series.dtypes"
   ]
  },
  {
   "cell_type": "markdown",
   "id": "d3fe3b00",
   "metadata": {},
   "source": [
    "##### 常用统计方法"
   ]
  },
  {
   "cell_type": "code",
   "execution_count": 17,
   "id": "b663409a",
   "metadata": {},
   "outputs": [
    {
     "data": {
      "text/plain": [
       "59.125"
      ]
     },
     "execution_count": 17,
     "metadata": {},
     "output_type": "execute_result"
    }
   ],
   "source": [
    "# 计算年龄的平均值\n",
    "age_series.mean()"
   ]
  },
  {
   "cell_type": "code",
   "execution_count": 18,
   "id": "7c7742dc",
   "metadata": {},
   "outputs": [
    {
     "data": {
      "text/plain": [
       "90"
      ]
     },
     "execution_count": 18,
     "metadata": {},
     "output_type": "execute_result"
    }
   ],
   "source": [
    "# 计算年龄的最大值\n",
    "age_series.max()"
   ]
  },
  {
   "cell_type": "code",
   "execution_count": 19,
   "id": "806f36f5",
   "metadata": {},
   "outputs": [
    {
     "data": {
      "text/plain": [
       "37"
      ]
     },
     "execution_count": 19,
     "metadata": {},
     "output_type": "execute_result"
    }
   ],
   "source": [
    "# 计算年龄的最小值\n",
    "age_series.min()"
   ]
  },
  {
   "cell_type": "code",
   "execution_count": 20,
   "id": "64aa51db",
   "metadata": {},
   "outputs": [
    {
     "data": {
      "text/plain": [
       "18.325918413937288"
      ]
     },
     "execution_count": 20,
     "metadata": {},
     "output_type": "execute_result"
    }
   ],
   "source": [
    "# 计算年龄的标准差\n",
    "age_series.std()"
   ]
  },
  {
   "cell_type": "code",
   "execution_count": 21,
   "id": "90475970",
   "metadata": {},
   "outputs": [
    {
     "name": "stdout",
     "output_type": "stream",
     "text": [
      "0               Chemist\n",
      "1          Statistician\n",
      "2                 Nurse\n",
      "3               Chemist\n",
      "4             Biologist\n",
      "5             Physician\n",
      "6    Computer Scientist\n",
      "7         Mathematician\n",
      "Name: Occupation, dtype: object\n"
     ]
    },
    {
     "data": {
      "text/plain": [
       "Chemist               2\n",
       "Physician             1\n",
       "Biologist             1\n",
       "Nurse                 1\n",
       "Computer Scientist    1\n",
       "Mathematician         1\n",
       "Statistician          1\n",
       "Name: Occupation, dtype: int64"
      ]
     },
     "execution_count": 21,
     "metadata": {},
     "output_type": "execute_result"
    }
   ],
   "source": [
    "# 获取职业这一列数据\n",
    "occupation_series = scientists['Occupation']\n",
    "print(occupation_series)\n",
    "occupation_series.value_counts()"
   ]
  },
  {
   "cell_type": "code",
   "execution_count": 22,
   "id": "df4acd1b",
   "metadata": {},
   "outputs": [
    {
     "data": {
      "text/plain": [
       "7"
      ]
     },
     "execution_count": 22,
     "metadata": {},
     "output_type": "execute_result"
    }
   ],
   "source": [
    "# 统计 Born 这一列非空元素的个数\n",
    "scientists['Born'].count()"
   ]
  },
  {
   "cell_type": "code",
   "execution_count": 23,
   "id": "6c3c295b",
   "metadata": {},
   "outputs": [
    {
     "data": {
      "text/plain": [
       "count     8.000000\n",
       "mean     59.125000\n",
       "std      18.325918\n",
       "min      37.000000\n",
       "25%      44.000000\n",
       "50%      58.500000\n",
       "75%      68.750000\n",
       "max      90.000000\n",
       "Name: Age, dtype: float64"
      ]
     },
     "execution_count": 23,
     "metadata": {},
     "output_type": "execute_result"
    }
   ],
   "source": [
    "# age_series 是数值型数据\n",
    "age_series.describe()"
   ]
  },
  {
   "cell_type": "code",
   "execution_count": 24,
   "id": "ba8a0cdf",
   "metadata": {},
   "outputs": [
    {
     "data": {
      "text/plain": [
       "count           8\n",
       "unique          7\n",
       "top       Chemist\n",
       "freq            2\n",
       "Name: Occupation, dtype: object"
      ]
     },
     "execution_count": 24,
     "metadata": {},
     "output_type": "execute_result"
    }
   ],
   "source": [
    "# occupation_series 是非数值型数据\n",
    "occupation_series.describe()"
   ]
  },
  {
   "cell_type": "markdown",
   "id": "c6c156e8",
   "metadata": {},
   "source": [
    "## bool 索引"
   ]
  },
  {
   "cell_type": "code",
   "execution_count": 25,
   "id": "124a74ac",
   "metadata": {},
   "outputs": [
    {
     "data": {
      "text/plain": [
       "0    37\n",
       "1    61\n",
       "2    90\n",
       "3    66\n",
       "4    56\n",
       "5    45\n",
       "6    41\n",
       "7    77\n",
       "Name: Age, dtype: int64"
      ]
     },
     "execution_count": 25,
     "metadata": {},
     "output_type": "execute_result"
    }
   ],
   "source": [
    "age_series"
   ]
  },
  {
   "cell_type": "code",
   "execution_count": 26,
   "id": "2af893ca",
   "metadata": {},
   "outputs": [
    {
     "data": {
      "text/plain": [
       "1    61\n",
       "2    90\n",
       "3    66\n",
       "7    77\n",
       "Name: Age, dtype: int64"
      ]
     },
     "execution_count": 26,
     "metadata": {},
     "output_type": "execute_result"
    }
   ],
   "source": [
    "bool_values = [False, True, True, True, False, False, False, True]\n",
    "age_series[bool_values]"
   ]
  },
  {
   "cell_type": "code",
   "execution_count": 27,
   "id": "5f25e3b2",
   "metadata": {},
   "outputs": [
    {
     "data": {
      "text/plain": [
       "1    61\n",
       "2    90\n",
       "3    66\n",
       "7    77\n",
       "Name: Age, dtype: int64"
      ]
     },
     "execution_count": 27,
     "metadata": {},
     "output_type": "execute_result"
    }
   ],
   "source": [
    "# 应用：从 age_series 中删选出年龄大于平均值的数据\n",
    "age_series[age_series>age_series.mean()]"
   ]
  },
  {
   "cell_type": "code",
   "execution_count": 28,
   "id": "52a46842",
   "metadata": {},
   "outputs": [
    {
     "data": {
      "text/plain": [
       "0    False\n",
       "1     True\n",
       "2     True\n",
       "3     True\n",
       "4    False\n",
       "5    False\n",
       "6    False\n",
       "7     True\n",
       "Name: Age, dtype: bool"
      ]
     },
     "execution_count": 28,
     "metadata": {},
     "output_type": "execute_result"
    }
   ],
   "source": [
    "age_series > age_series.mean()"
   ]
  },
  {
   "cell_type": "markdown",
   "id": "88fbf0ce",
   "metadata": {},
   "source": [
    "## Series 运算"
   ]
  },
  {
   "cell_type": "markdown",
   "id": "afe11b7c",
   "metadata": {},
   "source": [
    "##### Series 和 数值型数据运算"
   ]
  },
  {
   "cell_type": "code",
   "execution_count": null,
   "id": "fc452015",
   "metadata": {},
   "outputs": [],
   "source": []
  },
  {
   "cell_type": "code",
   "execution_count": null,
   "id": "1d375ea7",
   "metadata": {},
   "outputs": [],
   "source": []
  },
  {
   "cell_type": "markdown",
   "id": "1d004677",
   "metadata": {},
   "source": [
    "##### Series 和 另一 Series 运算"
   ]
  },
  {
   "cell_type": "code",
   "execution_count": null,
   "id": "35a5f91a",
   "metadata": {},
   "outputs": [],
   "source": []
  },
  {
   "cell_type": "code",
   "execution_count": null,
   "id": "e8fc88a4",
   "metadata": {},
   "outputs": [],
   "source": []
  },
  {
   "cell_type": "markdown",
   "id": "d438bc1a",
   "metadata": {},
   "source": [
    "# DataFrame 详解"
   ]
  },
  {
   "cell_type": "markdown",
   "id": "f6b829eb",
   "metadata": {},
   "source": [
    "## 创建 DataFrame"
   ]
  },
  {
   "cell_type": "markdown",
   "id": "f6595d9b",
   "metadata": {},
   "source": [
    "##### 利用字典创建 DataFrame"
   ]
  },
  {
   "cell_type": "code",
   "execution_count": null,
   "id": "c743c707",
   "metadata": {},
   "outputs": [],
   "source": []
  },
  {
   "cell_type": "code",
   "execution_count": null,
   "id": "7e7f4cad",
   "metadata": {},
   "outputs": [],
   "source": []
  },
  {
   "cell_type": "markdown",
   "id": "6a71ffd7",
   "metadata": {},
   "source": [
    "##### 利用嵌套列表创建 DataFrame"
   ]
  },
  {
   "cell_type": "code",
   "execution_count": null,
   "id": "f5ab87e0",
   "metadata": {},
   "outputs": [],
   "source": []
  },
  {
   "cell_type": "code",
   "execution_count": null,
   "id": "008a3a5f",
   "metadata": {},
   "outputs": [],
   "source": []
  },
  {
   "cell_type": "markdown",
   "id": "022d8a03",
   "metadata": {},
   "source": [
    "## DataFrame 常用操作"
   ]
  },
  {
   "cell_type": "markdown",
   "id": "04eeb02c",
   "metadata": {},
   "source": [
    "##### 常用属性和方法"
   ]
  },
  {
   "cell_type": "code",
   "execution_count": null,
   "id": "e7bf31a0",
   "metadata": {},
   "outputs": [],
   "source": []
  },
  {
   "cell_type": "code",
   "execution_count": null,
   "id": "270680f5",
   "metadata": {},
   "outputs": [],
   "source": []
  },
  {
   "cell_type": "markdown",
   "id": "ba5180ae",
   "metadata": {},
   "source": [
    "##### 常用统计方法"
   ]
  },
  {
   "cell_type": "code",
   "execution_count": null,
   "id": "0ae829c3",
   "metadata": {},
   "outputs": [],
   "source": []
  },
  {
   "cell_type": "code",
   "execution_count": null,
   "id": "c9a22b0c",
   "metadata": {},
   "outputs": [],
   "source": []
  },
  {
   "cell_type": "markdown",
   "id": "6900a9a0",
   "metadata": {},
   "source": [
    "## bool 索引"
   ]
  },
  {
   "cell_type": "code",
   "execution_count": null,
   "id": "85323a1e",
   "metadata": {},
   "outputs": [],
   "source": []
  },
  {
   "cell_type": "code",
   "execution_count": null,
   "id": "e147bb60",
   "metadata": {},
   "outputs": [],
   "source": []
  },
  {
   "cell_type": "markdown",
   "id": "cf9061a2",
   "metadata": {},
   "source": [
    "##### 应用：获取 scientists 中 Age 大于平均值的科学家信息"
   ]
  },
  {
   "cell_type": "code",
   "execution_count": null,
   "id": "27da27f6",
   "metadata": {},
   "outputs": [],
   "source": []
  },
  {
   "cell_type": "code",
   "execution_count": null,
   "id": "4c258ef9",
   "metadata": {},
   "outputs": [],
   "source": []
  },
  {
   "cell_type": "markdown",
   "id": "cc971c0f",
   "metadata": {},
   "source": [
    "## DataFrame 运算"
   ]
  },
  {
   "cell_type": "markdown",
   "id": "3b2ec101",
   "metadata": {},
   "source": [
    "##### DataFrame 和 数值型数据运算"
   ]
  },
  {
   "cell_type": "code",
   "execution_count": null,
   "id": "672fadd5",
   "metadata": {},
   "outputs": [],
   "source": []
  },
  {
   "cell_type": "code",
   "execution_count": null,
   "id": "d6e25d57",
   "metadata": {},
   "outputs": [],
   "source": []
  },
  {
   "cell_type": "markdown",
   "id": "b179a870",
   "metadata": {},
   "source": [
    "##### DataFrame 和 另一 DataFrame 运算"
   ]
  },
  {
   "cell_type": "code",
   "execution_count": null,
   "id": "7653fa0a",
   "metadata": {},
   "outputs": [],
   "source": []
  },
  {
   "cell_type": "code",
   "execution_count": null,
   "id": "6464cabb",
   "metadata": {},
   "outputs": [],
   "source": []
  },
  {
   "cell_type": "markdown",
   "id": "00ac4fdd",
   "metadata": {},
   "source": [
    "## 行标签和列表签操作"
   ]
  },
  {
   "cell_type": "markdown",
   "id": "eecb3f88",
   "metadata": {},
   "source": [
    "### 加载数据后，指定某列数据作为 DataFrame 行标签"
   ]
  },
  {
   "cell_type": "code",
   "execution_count": null,
   "id": "f24c5431",
   "metadata": {},
   "outputs": [],
   "source": []
  },
  {
   "cell_type": "code",
   "execution_count": null,
   "id": "c8d9de94",
   "metadata": {},
   "outputs": [],
   "source": []
  },
  {
   "cell_type": "markdown",
   "id": "c662b7dc",
   "metadata": {},
   "source": [
    "### 加载数据时，指定某列数据作为 DataFrame 行标签"
   ]
  },
  {
   "cell_type": "code",
   "execution_count": null,
   "id": "36419fe9",
   "metadata": {},
   "outputs": [],
   "source": []
  },
  {
   "cell_type": "code",
   "execution_count": null,
   "id": "7a342b50",
   "metadata": {},
   "outputs": [],
   "source": []
  },
  {
   "cell_type": "markdown",
   "id": "4f71136d",
   "metadata": {},
   "source": [
    "### 加载数据后，修改 DataFrame 行标签和列标签"
   ]
  },
  {
   "cell_type": "code",
   "execution_count": null,
   "id": "a86d19d7",
   "metadata": {},
   "outputs": [],
   "source": []
  },
  {
   "cell_type": "code",
   "execution_count": null,
   "id": "33cc40a5",
   "metadata": {},
   "outputs": [],
   "source": []
  },
  {
   "cell_type": "markdown",
   "id": "122f426d",
   "metadata": {},
   "source": [
    "### 加载数据后，重新索引 DataFrame 数据"
   ]
  },
  {
   "cell_type": "code",
   "execution_count": null,
   "id": "794a812a",
   "metadata": {},
   "outputs": [],
   "source": []
  },
  {
   "cell_type": "code",
   "execution_count": null,
   "id": "ae707d14",
   "metadata": {},
   "outputs": [],
   "source": []
  }
 ],
 "metadata": {
  "kernelspec": {
   "display_name": "Python [conda env:datasci] *",
   "language": "python",
   "name": "conda-env-datasci-py"
  },
  "language_info": {
   "codemirror_mode": {
    "name": "ipython",
    "version": 3
   },
   "file_extension": ".py",
   "mimetype": "text/x-python",
   "name": "python",
   "nbconvert_exporter": "python",
   "pygments_lexer": "ipython3",
   "version": "3.8.12"
  },
  "toc": {
   "base_numbering": 1,
   "nav_menu": {},
   "number_sections": true,
   "sideBar": true,
   "skip_h1_title": false,
   "title_cell": "Table of Contents",
   "title_sidebar": "Contents",
   "toc_cell": false,
   "toc_position": {},
   "toc_section_display": true,
   "toc_window_display": true
  }
 },
 "nbformat": 4,
 "nbformat_minor": 5
}
