{
 "cells": [
  {
   "cell_type": "code",
   "execution_count": 1,
   "id": "24e8531a",
   "metadata": {},
   "outputs": [],
   "source": [
    "import pandas as pd"
   ]
  },
  {
   "cell_type": "markdown",
   "id": "3f0f0737",
   "metadata": {},
   "source": [
    "# Series 详解"
   ]
  },
  {
   "cell_type": "markdown",
   "id": "40334bdc",
   "metadata": {},
   "source": [
    "## 创建 Series"
   ]
  },
  {
   "cell_type": "code",
   "execution_count": 2,
   "id": "77d2dc1a",
   "metadata": {},
   "outputs": [
    {
     "name": "stdout",
     "output_type": "stream",
     "text": [
      "0    banana\n",
      "1        42\n",
      "dtype: object\n",
      "<class 'pandas.core.series.Series'>\n"
     ]
    }
   ],
   "source": [
    "s = pd.Series(['banana', 42])\n",
    "print(s)\n",
    "print(type(s))"
   ]
  },
  {
   "cell_type": "code",
   "execution_count": 3,
   "id": "d6e54e7f",
   "metadata": {},
   "outputs": [
    {
     "name": "stdout",
     "output_type": "stream",
     "text": [
      "0    banana\n",
      "1     apple\n",
      "dtype: object\n",
      "<class 'pandas.core.series.Series'>\n"
     ]
    }
   ],
   "source": [
    "s = pd.Series(['banana', 'apple'])\n",
    "print(s)\n",
    "print(type(s))"
   ]
  },
  {
   "cell_type": "code",
   "execution_count": 4,
   "id": "bc4a86c0",
   "metadata": {},
   "outputs": [
    {
     "name": "stdout",
     "output_type": "stream",
     "text": [
      "0    50\n",
      "1    42\n",
      "dtype: int64\n",
      "<class 'pandas.core.series.Series'>\n"
     ]
    }
   ],
   "source": [
    "s = pd.Series([50, 42])\n",
    "print(s)\n",
    "print(type(s))"
   ]
  },
  {
   "cell_type": "markdown",
   "id": "09317ffc",
   "metadata": {},
   "source": [
    "## Series 常用操作"
   ]
  },
  {
   "cell_type": "markdown",
   "id": "cefb30f1",
   "metadata": {},
   "source": [
    "##### 常用属性和方法"
   ]
  },
  {
   "cell_type": "code",
   "execution_count": null,
   "id": "2e1ed96d",
   "metadata": {},
   "outputs": [],
   "source": []
  },
  {
   "cell_type": "code",
   "execution_count": null,
   "id": "e712ece0",
   "metadata": {},
   "outputs": [],
   "source": []
  },
  {
   "cell_type": "markdown",
   "id": "d3fe3b00",
   "metadata": {},
   "source": [
    "##### 常用统计方法"
   ]
  },
  {
   "cell_type": "code",
   "execution_count": null,
   "id": "b663409a",
   "metadata": {},
   "outputs": [],
   "source": []
  },
  {
   "cell_type": "code",
   "execution_count": null,
   "id": "7c7742dc",
   "metadata": {},
   "outputs": [],
   "source": []
  },
  {
   "cell_type": "markdown",
   "id": "c6c156e8",
   "metadata": {},
   "source": [
    "## bool 索引"
   ]
  },
  {
   "cell_type": "code",
   "execution_count": null,
   "id": "124a74ac",
   "metadata": {},
   "outputs": [],
   "source": []
  },
  {
   "cell_type": "code",
   "execution_count": 2,
   "id": "2af893ca",
   "metadata": {},
   "outputs": [],
   "source": [
    "# 应用：从 age_series 中删选出年龄大于平均值的数据"
   ]
  },
  {
   "cell_type": "markdown",
   "id": "88fbf0ce",
   "metadata": {},
   "source": [
    "## Series 运算"
   ]
  },
  {
   "cell_type": "markdown",
   "id": "afe11b7c",
   "metadata": {},
   "source": [
    "##### Series 和 数值型数据运算"
   ]
  },
  {
   "cell_type": "code",
   "execution_count": null,
   "id": "fc452015",
   "metadata": {},
   "outputs": [],
   "source": []
  },
  {
   "cell_type": "code",
   "execution_count": null,
   "id": "1d375ea7",
   "metadata": {},
   "outputs": [],
   "source": []
  },
  {
   "cell_type": "markdown",
   "id": "1d004677",
   "metadata": {},
   "source": [
    "##### Series 和 另一 Series 运算"
   ]
  },
  {
   "cell_type": "code",
   "execution_count": null,
   "id": "35a5f91a",
   "metadata": {},
   "outputs": [],
   "source": []
  },
  {
   "cell_type": "code",
   "execution_count": null,
   "id": "e8fc88a4",
   "metadata": {},
   "outputs": [],
   "source": []
  },
  {
   "cell_type": "markdown",
   "id": "d438bc1a",
   "metadata": {},
   "source": [
    "# DataFrame 详解"
   ]
  },
  {
   "cell_type": "markdown",
   "id": "f6b829eb",
   "metadata": {},
   "source": [
    "## 创建 DataFrame"
   ]
  },
  {
   "cell_type": "markdown",
   "id": "f6595d9b",
   "metadata": {},
   "source": [
    "##### 利用字典创建 DataFrame"
   ]
  },
  {
   "cell_type": "code",
   "execution_count": null,
   "id": "c743c707",
   "metadata": {},
   "outputs": [],
   "source": []
  },
  {
   "cell_type": "code",
   "execution_count": null,
   "id": "7e7f4cad",
   "metadata": {},
   "outputs": [],
   "source": []
  },
  {
   "cell_type": "markdown",
   "id": "6a71ffd7",
   "metadata": {},
   "source": [
    "##### 利用嵌套列表创建 DataFrame"
   ]
  },
  {
   "cell_type": "code",
   "execution_count": null,
   "id": "f5ab87e0",
   "metadata": {},
   "outputs": [],
   "source": []
  },
  {
   "cell_type": "code",
   "execution_count": null,
   "id": "008a3a5f",
   "metadata": {},
   "outputs": [],
   "source": []
  },
  {
   "cell_type": "markdown",
   "id": "022d8a03",
   "metadata": {},
   "source": [
    "## DataFrame 常用操作"
   ]
  },
  {
   "cell_type": "markdown",
   "id": "04eeb02c",
   "metadata": {},
   "source": [
    "##### 常用属性和方法"
   ]
  },
  {
   "cell_type": "code",
   "execution_count": null,
   "id": "e7bf31a0",
   "metadata": {},
   "outputs": [],
   "source": []
  },
  {
   "cell_type": "code",
   "execution_count": null,
   "id": "270680f5",
   "metadata": {},
   "outputs": [],
   "source": []
  },
  {
   "cell_type": "markdown",
   "id": "ba5180ae",
   "metadata": {},
   "source": [
    "##### 常用统计方法"
   ]
  },
  {
   "cell_type": "code",
   "execution_count": null,
   "id": "0ae829c3",
   "metadata": {},
   "outputs": [],
   "source": []
  },
  {
   "cell_type": "code",
   "execution_count": null,
   "id": "c9a22b0c",
   "metadata": {},
   "outputs": [],
   "source": []
  },
  {
   "cell_type": "markdown",
   "id": "6900a9a0",
   "metadata": {},
   "source": [
    "## bool 索引"
   ]
  },
  {
   "cell_type": "code",
   "execution_count": null,
   "id": "85323a1e",
   "metadata": {},
   "outputs": [],
   "source": []
  },
  {
   "cell_type": "code",
   "execution_count": null,
   "id": "e147bb60",
   "metadata": {},
   "outputs": [],
   "source": []
  },
  {
   "cell_type": "markdown",
   "id": "cf9061a2",
   "metadata": {},
   "source": [
    "##### 应用：获取 scientists 中 Age 大于平均值的科学家信息"
   ]
  },
  {
   "cell_type": "code",
   "execution_count": null,
   "id": "27da27f6",
   "metadata": {},
   "outputs": [],
   "source": []
  },
  {
   "cell_type": "code",
   "execution_count": null,
   "id": "4c258ef9",
   "metadata": {},
   "outputs": [],
   "source": []
  },
  {
   "cell_type": "markdown",
   "id": "cc971c0f",
   "metadata": {},
   "source": [
    "## DataFrame 运算"
   ]
  },
  {
   "cell_type": "markdown",
   "id": "3b2ec101",
   "metadata": {},
   "source": [
    "##### DataFrame 和 数值型数据运算"
   ]
  },
  {
   "cell_type": "code",
   "execution_count": null,
   "id": "672fadd5",
   "metadata": {},
   "outputs": [],
   "source": []
  },
  {
   "cell_type": "code",
   "execution_count": null,
   "id": "d6e25d57",
   "metadata": {},
   "outputs": [],
   "source": []
  },
  {
   "cell_type": "markdown",
   "id": "b179a870",
   "metadata": {},
   "source": [
    "##### DataFrame 和 另一 DataFrame 运算"
   ]
  },
  {
   "cell_type": "code",
   "execution_count": null,
   "id": "7653fa0a",
   "metadata": {},
   "outputs": [],
   "source": []
  },
  {
   "cell_type": "code",
   "execution_count": null,
   "id": "6464cabb",
   "metadata": {},
   "outputs": [],
   "source": []
  },
  {
   "cell_type": "markdown",
   "id": "00ac4fdd",
   "metadata": {},
   "source": [
    "## 行标签和列表签操作"
   ]
  },
  {
   "cell_type": "markdown",
   "id": "eecb3f88",
   "metadata": {},
   "source": [
    "### 加载数据后，指定某列数据作为 DataFrame 行标签"
   ]
  },
  {
   "cell_type": "code",
   "execution_count": null,
   "id": "f24c5431",
   "metadata": {},
   "outputs": [],
   "source": []
  },
  {
   "cell_type": "code",
   "execution_count": null,
   "id": "c8d9de94",
   "metadata": {},
   "outputs": [],
   "source": []
  },
  {
   "cell_type": "markdown",
   "id": "c662b7dc",
   "metadata": {},
   "source": [
    "### 加载数据时，指定某列数据作为 DataFrame 行标签"
   ]
  },
  {
   "cell_type": "code",
   "execution_count": null,
   "id": "36419fe9",
   "metadata": {},
   "outputs": [],
   "source": []
  },
  {
   "cell_type": "code",
   "execution_count": null,
   "id": "7a342b50",
   "metadata": {},
   "outputs": [],
   "source": []
  },
  {
   "cell_type": "markdown",
   "id": "4f71136d",
   "metadata": {},
   "source": [
    "### 加载数据后，修改 DataFrame 行标签和列标签"
   ]
  },
  {
   "cell_type": "code",
   "execution_count": null,
   "id": "a86d19d7",
   "metadata": {},
   "outputs": [],
   "source": []
  },
  {
   "cell_type": "code",
   "execution_count": null,
   "id": "33cc40a5",
   "metadata": {},
   "outputs": [],
   "source": []
  },
  {
   "cell_type": "markdown",
   "id": "122f426d",
   "metadata": {},
   "source": [
    "### 加载数据后，重新索引 DataFrame 数据"
   ]
  },
  {
   "cell_type": "code",
   "execution_count": null,
   "id": "794a812a",
   "metadata": {},
   "outputs": [],
   "source": []
  },
  {
   "cell_type": "code",
   "execution_count": null,
   "id": "ae707d14",
   "metadata": {},
   "outputs": [],
   "source": []
  }
 ],
 "metadata": {
  "kernelspec": {
   "display_name": "Python [conda env:datasci] *",
   "language": "python",
   "name": "conda-env-datasci-py"
  },
  "language_info": {
   "codemirror_mode": {
    "name": "ipython",
    "version": 3
   },
   "file_extension": ".py",
   "mimetype": "text/x-python",
   "name": "python",
   "nbconvert_exporter": "python",
   "pygments_lexer": "ipython3",
   "version": "3.8.12"
  },
  "toc": {
   "base_numbering": 1,
   "nav_menu": {},
   "number_sections": true,
   "sideBar": true,
   "skip_h1_title": false,
   "title_cell": "Table of Contents",
   "title_sidebar": "Contents",
   "toc_cell": false,
   "toc_position": {},
   "toc_section_display": true,
   "toc_window_display": true
  }
 },
 "nbformat": 4,
 "nbformat_minor": 5
}
