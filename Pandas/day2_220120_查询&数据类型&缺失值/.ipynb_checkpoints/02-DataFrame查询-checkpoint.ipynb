{
 "cells": [
  {
   "cell_type": "code",
   "execution_count": 1,
   "id": "b0cbc11e",
   "metadata": {},
   "outputs": [],
   "source": [
    "import pandas as pd"
   ]
  },
  {
   "cell_type": "markdown",
   "id": "ac0df79b",
   "metadata": {},
   "source": [
    "## DataFrame 条件查询操作"
   ]
  },
  {
   "cell_type": "markdown",
   "id": "c33680a6",
   "metadata": {},
   "source": [
    "**加载 scientists.csv 数据集**"
   ]
  },
  {
   "cell_type": "code",
   "execution_count": 2,
   "id": "8c158581",
   "metadata": {},
   "outputs": [
    {
     "data": {
      "text/html": [
       "<div>\n",
       "<style scoped>\n",
       "    .dataframe tbody tr th:only-of-type {\n",
       "        vertical-align: middle;\n",
       "    }\n",
       "\n",
       "    .dataframe tbody tr th {\n",
       "        vertical-align: top;\n",
       "    }\n",
       "\n",
       "    .dataframe thead th {\n",
       "        text-align: right;\n",
       "    }\n",
       "</style>\n",
       "<table border=\"1\" class=\"dataframe\">\n",
       "  <thead>\n",
       "    <tr style=\"text-align: right;\">\n",
       "      <th></th>\n",
       "      <th>Name</th>\n",
       "      <th>Born</th>\n",
       "      <th>Died</th>\n",
       "      <th>Age</th>\n",
       "      <th>Occupation</th>\n",
       "    </tr>\n",
       "  </thead>\n",
       "  <tbody>\n",
       "    <tr>\n",
       "      <th>0</th>\n",
       "      <td>Rosaline Franklin</td>\n",
       "      <td>1920/7/25</td>\n",
       "      <td>1958/4/16</td>\n",
       "      <td>37</td>\n",
       "      <td>Chemist</td>\n",
       "    </tr>\n",
       "    <tr>\n",
       "      <th>1</th>\n",
       "      <td>William Gosset</td>\n",
       "      <td>1876-06-13</td>\n",
       "      <td>1937/10/16</td>\n",
       "      <td>61</td>\n",
       "      <td>Statistician</td>\n",
       "    </tr>\n",
       "    <tr>\n",
       "      <th>2</th>\n",
       "      <td>Florence Nightingale</td>\n",
       "      <td>1820-05-12</td>\n",
       "      <td>1910/8/13</td>\n",
       "      <td>90</td>\n",
       "      <td>Nurse</td>\n",
       "    </tr>\n",
       "    <tr>\n",
       "      <th>3</th>\n",
       "      <td>Marie Curie</td>\n",
       "      <td>1867-11-07</td>\n",
       "      <td>1934/7/4</td>\n",
       "      <td>66</td>\n",
       "      <td>Chemist</td>\n",
       "    </tr>\n",
       "    <tr>\n",
       "      <th>4</th>\n",
       "      <td>Rachel Carson</td>\n",
       "      <td>1907/5/27</td>\n",
       "      <td>1964/4/14</td>\n",
       "      <td>56</td>\n",
       "      <td>Biologist</td>\n",
       "    </tr>\n",
       "    <tr>\n",
       "      <th>5</th>\n",
       "      <td>John Snow</td>\n",
       "      <td>1813-03-15</td>\n",
       "      <td>1858-06-16</td>\n",
       "      <td>45</td>\n",
       "      <td>Physician</td>\n",
       "    </tr>\n",
       "    <tr>\n",
       "      <th>6</th>\n",
       "      <td>Alan Turing</td>\n",
       "      <td>NaN</td>\n",
       "      <td>1954/6/7</td>\n",
       "      <td>41</td>\n",
       "      <td>Computer Scientist</td>\n",
       "    </tr>\n",
       "    <tr>\n",
       "      <th>7</th>\n",
       "      <td>Johann Gauss</td>\n",
       "      <td>1777-04-30</td>\n",
       "      <td>1855-02-23</td>\n",
       "      <td>77</td>\n",
       "      <td>Mathematician</td>\n",
       "    </tr>\n",
       "  </tbody>\n",
       "</table>\n",
       "</div>"
      ],
      "text/plain": [
       "                   Name        Born        Died  Age          Occupation\n",
       "0     Rosaline Franklin   1920/7/25   1958/4/16   37             Chemist\n",
       "1        William Gosset  1876-06-13  1937/10/16   61        Statistician\n",
       "2  Florence Nightingale  1820-05-12   1910/8/13   90               Nurse\n",
       "3           Marie Curie  1867-11-07    1934/7/4   66             Chemist\n",
       "4         Rachel Carson   1907/5/27   1964/4/14   56           Biologist\n",
       "5             John Snow  1813-03-15  1858-06-16   45           Physician\n",
       "6           Alan Turing         NaN    1954/6/7   41  Computer Scientist\n",
       "7          Johann Gauss  1777-04-30  1855-02-23   77       Mathematician"
      ]
     },
     "execution_count": 2,
     "metadata": {},
     "output_type": "execute_result"
    }
   ],
   "source": [
    "scientists = pd.read_csv('./data/scientists.csv')\n",
    "scientists"
   ]
  },
  {
   "cell_type": "code",
   "execution_count": null,
   "id": "874a948a",
   "metadata": {},
   "outputs": [],
   "source": []
  },
  {
   "cell_type": "markdown",
   "id": "29862d95",
   "metadata": {},
   "source": [
    "**示例：获取 Age 大于 60 且 Age < 80 的科学家信息**"
   ]
  },
  {
   "cell_type": "code",
   "execution_count": null,
   "id": "83ed9cc3",
   "metadata": {},
   "outputs": [],
   "source": []
  },
  {
   "cell_type": "code",
   "execution_count": null,
   "id": "e7c28464",
   "metadata": {},
   "outputs": [],
   "source": []
  },
  {
   "cell_type": "code",
   "execution_count": null,
   "id": "4392b401",
   "metadata": {},
   "outputs": [],
   "source": []
  },
  {
   "cell_type": "markdown",
   "id": "39ea8420",
   "metadata": {},
   "source": [
    "**示例：筛选出职业是 Chemist 和 Nurse 的科学家数据**"
   ]
  },
  {
   "cell_type": "code",
   "execution_count": null,
   "id": "049a7a62",
   "metadata": {},
   "outputs": [],
   "source": []
  },
  {
   "cell_type": "code",
   "execution_count": null,
   "id": "9c610355",
   "metadata": {},
   "outputs": [],
   "source": []
  },
  {
   "cell_type": "code",
   "execution_count": null,
   "id": "41e99caa",
   "metadata": {},
   "outputs": [],
   "source": []
  },
  {
   "cell_type": "markdown",
   "id": "3a0ba4c2",
   "metadata": {},
   "source": [
    "## DataFrame 分组聚合操作"
   ]
  },
  {
   "cell_type": "markdown",
   "id": "7872b0b4",
   "metadata": {},
   "source": [
    "**示例：按照 Occupation 职业分组，并计算每组年龄的平均值**"
   ]
  },
  {
   "cell_type": "code",
   "execution_count": null,
   "id": "7007c7e2",
   "metadata": {},
   "outputs": [],
   "source": []
  },
  {
   "cell_type": "code",
   "execution_count": null,
   "id": "6712e998",
   "metadata": {},
   "outputs": [],
   "source": []
  },
  {
   "cell_type": "code",
   "execution_count": null,
   "id": "eb5b4b50",
   "metadata": {},
   "outputs": [],
   "source": []
  },
  {
   "cell_type": "markdown",
   "id": "fd599127",
   "metadata": {},
   "source": [
    "**示例：按照 Occupation 职业分组，并计算每组的人数和年龄的平均值**"
   ]
  },
  {
   "cell_type": "code",
   "execution_count": null,
   "id": "2694d49d",
   "metadata": {},
   "outputs": [],
   "source": []
  },
  {
   "cell_type": "code",
   "execution_count": null,
   "id": "ca439719",
   "metadata": {},
   "outputs": [],
   "source": []
  },
  {
   "cell_type": "code",
   "execution_count": null,
   "id": "47c65ad8",
   "metadata": {},
   "outputs": [],
   "source": []
  },
  {
   "cell_type": "markdown",
   "id": "cbf71962",
   "metadata": {},
   "source": [
    "## DataFrame 排序操作"
   ]
  },
  {
   "cell_type": "markdown",
   "id": "44125360",
   "metadata": {},
   "source": [
    "**示例：按照 Age 从小到大进行排序**"
   ]
  },
  {
   "cell_type": "code",
   "execution_count": null,
   "id": "b2cca345",
   "metadata": {},
   "outputs": [],
   "source": []
  },
  {
   "cell_type": "code",
   "execution_count": null,
   "id": "b3165541",
   "metadata": {},
   "outputs": [],
   "source": []
  },
  {
   "cell_type": "markdown",
   "id": "a696b11a",
   "metadata": {},
   "source": [
    "**示例：按照 Age 从大到小进行排序**"
   ]
  },
  {
   "cell_type": "code",
   "execution_count": null,
   "id": "42dccfe8",
   "metadata": {},
   "outputs": [],
   "source": []
  },
  {
   "cell_type": "code",
   "execution_count": null,
   "id": "ec4dbe04",
   "metadata": {},
   "outputs": [],
   "source": []
  },
  {
   "cell_type": "markdown",
   "id": "685817de",
   "metadata": {},
   "source": [
    "**示例：按照行标签从大到小进行排序**"
   ]
  },
  {
   "cell_type": "code",
   "execution_count": null,
   "id": "e7d672eb",
   "metadata": {},
   "outputs": [],
   "source": []
  },
  {
   "cell_type": "code",
   "execution_count": null,
   "id": "f08be609",
   "metadata": {},
   "outputs": [],
   "source": []
  },
  {
   "cell_type": "markdown",
   "id": "ea000d0a",
   "metadata": {},
   "source": [
    "**补充：Series的sort_index和sort_values**"
   ]
  },
  {
   "cell_type": "code",
   "execution_count": null,
   "id": "7ac0e8e5",
   "metadata": {},
   "outputs": [],
   "source": []
  },
  {
   "cell_type": "code",
   "execution_count": null,
   "id": "310e2811",
   "metadata": {},
   "outputs": [],
   "source": []
  },
  {
   "cell_type": "markdown",
   "id": "9a981b60",
   "metadata": {},
   "source": [
    "## nlargest 和 nsmallest 函数"
   ]
  },
  {
   "cell_type": "markdown",
   "id": "08be163b",
   "metadata": {},
   "source": [
    "**示例：获取 Age 最大的前 3 行数据**"
   ]
  },
  {
   "cell_type": "code",
   "execution_count": null,
   "id": "069f9128",
   "metadata": {},
   "outputs": [],
   "source": []
  },
  {
   "cell_type": "code",
   "execution_count": null,
   "id": "f3e9cda8",
   "metadata": {},
   "outputs": [],
   "source": []
  },
  {
   "cell_type": "markdown",
   "id": "9b531ea2",
   "metadata": {},
   "source": [
    "**示例：获取 Age 最小的前 3 行数据**"
   ]
  },
  {
   "cell_type": "code",
   "execution_count": null,
   "id": "35b12f6d",
   "metadata": {},
   "outputs": [],
   "source": []
  },
  {
   "cell_type": "code",
   "execution_count": null,
   "id": "ba5a99a7",
   "metadata": {},
   "outputs": [],
   "source": []
  },
  {
   "cell_type": "markdown",
   "id": "19734e5c",
   "metadata": {},
   "source": [
    "## Pandas 基本绘图操作"
   ]
  },
  {
   "cell_type": "markdown",
   "id": "31a16584",
   "metadata": {},
   "source": [
    "**示例：计算不同职业的科学家的平均寿命**"
   ]
  },
  {
   "cell_type": "code",
   "execution_count": null,
   "id": "e35486d7",
   "metadata": {},
   "outputs": [],
   "source": []
  },
  {
   "cell_type": "code",
   "execution_count": null,
   "id": "5e40ac21",
   "metadata": {},
   "outputs": [],
   "source": []
  }
 ],
 "metadata": {
  "kernelspec": {
   "display_name": "Python [conda env:datasci] *",
   "language": "python",
   "name": "conda-env-datasci-py"
  },
  "language_info": {
   "codemirror_mode": {
    "name": "ipython",
    "version": 3
   },
   "file_extension": ".py",
   "mimetype": "text/x-python",
   "name": "python",
   "nbconvert_exporter": "python",
   "pygments_lexer": "ipython3",
   "version": "3.8.12"
  },
  "toc": {
   "base_numbering": 1,
   "nav_menu": {},
   "number_sections": true,
   "sideBar": true,
   "skip_h1_title": false,
   "title_cell": "Table of Contents",
   "title_sidebar": "Contents",
   "toc_cell": false,
   "toc_position": {
    "height": "calc(100% - 180px)",
    "left": "10px",
    "top": "150px",
    "width": "289.95px"
   },
   "toc_section_display": true,
   "toc_window_display": true
  }
 },
 "nbformat": 4,
 "nbformat_minor": 5
}
