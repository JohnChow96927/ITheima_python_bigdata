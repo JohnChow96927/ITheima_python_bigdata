{
 "cells": [
  {
   "cell_type": "code",
   "execution_count": 1,
   "id": "b0cbc11e",
   "metadata": {},
   "outputs": [],
   "source": [
    "import pandas as pd"
   ]
  },
  {
   "cell_type": "markdown",
   "id": "ac0df79b",
   "metadata": {},
   "source": [
    "## DataFrame 条件查询操作"
   ]
  },
  {
   "cell_type": "markdown",
   "id": "c33680a6",
   "metadata": {},
   "source": [
    "**加载 scientists.csv 数据集**"
   ]
  },
  {
   "cell_type": "code",
   "execution_count": null,
   "id": "8c158581",
   "metadata": {},
   "outputs": [],
   "source": []
  },
  {
   "cell_type": "code",
   "execution_count": null,
   "id": "874a948a",
   "metadata": {},
   "outputs": [],
   "source": []
  },
  {
   "cell_type": "markdown",
   "id": "29862d95",
   "metadata": {},
   "source": [
    "**示例：获取 Age 大于 60 且 Age < 80 的科学家信息**"
   ]
  },
  {
   "cell_type": "code",
   "execution_count": null,
   "id": "83ed9cc3",
   "metadata": {},
   "outputs": [],
   "source": []
  },
  {
   "cell_type": "code",
   "execution_count": null,
   "id": "e7c28464",
   "metadata": {},
   "outputs": [],
   "source": []
  },
  {
   "cell_type": "code",
   "execution_count": null,
   "id": "4392b401",
   "metadata": {},
   "outputs": [],
   "source": []
  },
  {
   "cell_type": "markdown",
   "id": "39ea8420",
   "metadata": {},
   "source": [
    "**示例：筛选出职业是 Chemist 和 Nurse 的科学家数据**"
   ]
  },
  {
   "cell_type": "code",
   "execution_count": null,
   "id": "049a7a62",
   "metadata": {},
   "outputs": [],
   "source": []
  },
  {
   "cell_type": "code",
   "execution_count": null,
   "id": "9c610355",
   "metadata": {},
   "outputs": [],
   "source": []
  },
  {
   "cell_type": "code",
   "execution_count": null,
   "id": "41e99caa",
   "metadata": {},
   "outputs": [],
   "source": []
  },
  {
   "cell_type": "markdown",
   "id": "3a0ba4c2",
   "metadata": {},
   "source": [
    "## DataFrame 分组聚合操作"
   ]
  },
  {
   "cell_type": "markdown",
   "id": "7872b0b4",
   "metadata": {},
   "source": [
    "**示例：按照 Occupation 职业分组，并计算每组年龄的平均值**"
   ]
  },
  {
   "cell_type": "code",
   "execution_count": null,
   "id": "7007c7e2",
   "metadata": {},
   "outputs": [],
   "source": []
  },
  {
   "cell_type": "code",
   "execution_count": null,
   "id": "6712e998",
   "metadata": {},
   "outputs": [],
   "source": []
  },
  {
   "cell_type": "code",
   "execution_count": null,
   "id": "eb5b4b50",
   "metadata": {},
   "outputs": [],
   "source": []
  },
  {
   "cell_type": "markdown",
   "id": "fd599127",
   "metadata": {},
   "source": [
    "**示例：按照 Occupation 职业分组，并计算每组的人数和年龄的平均值**"
   ]
  },
  {
   "cell_type": "code",
   "execution_count": null,
   "id": "2694d49d",
   "metadata": {},
   "outputs": [],
   "source": []
  },
  {
   "cell_type": "code",
   "execution_count": null,
   "id": "ca439719",
   "metadata": {},
   "outputs": [],
   "source": []
  },
  {
   "cell_type": "code",
   "execution_count": null,
   "id": "47c65ad8",
   "metadata": {},
   "outputs": [],
   "source": []
  },
  {
   "cell_type": "markdown",
   "id": "cbf71962",
   "metadata": {},
   "source": [
    "## DataFrame 排序操作"
   ]
  },
  {
   "cell_type": "markdown",
   "id": "44125360",
   "metadata": {},
   "source": [
    "**示例：按照 Age 从小到大进行排序**"
   ]
  },
  {
   "cell_type": "code",
   "execution_count": null,
   "id": "b2cca345",
   "metadata": {},
   "outputs": [],
   "source": []
  },
  {
   "cell_type": "code",
   "execution_count": null,
   "id": "b3165541",
   "metadata": {},
   "outputs": [],
   "source": []
  },
  {
   "cell_type": "markdown",
   "id": "a696b11a",
   "metadata": {},
   "source": [
    "**示例：按照 Age 从大到小进行排序**"
   ]
  },
  {
   "cell_type": "code",
   "execution_count": null,
   "id": "42dccfe8",
   "metadata": {},
   "outputs": [],
   "source": []
  },
  {
   "cell_type": "code",
   "execution_count": null,
   "id": "ec4dbe04",
   "metadata": {},
   "outputs": [],
   "source": []
  },
  {
   "cell_type": "markdown",
   "id": "685817de",
   "metadata": {},
   "source": [
    "**示例：按照行标签从大到小进行排序**"
   ]
  },
  {
   "cell_type": "code",
   "execution_count": null,
   "id": "e7d672eb",
   "metadata": {},
   "outputs": [],
   "source": []
  },
  {
   "cell_type": "code",
   "execution_count": null,
   "id": "f08be609",
   "metadata": {},
   "outputs": [],
   "source": []
  },
  {
   "cell_type": "markdown",
   "id": "ea000d0a",
   "metadata": {},
   "source": [
    "**补充：Series的sort_index和sort_values**"
   ]
  },
  {
   "cell_type": "code",
   "execution_count": null,
   "id": "7ac0e8e5",
   "metadata": {},
   "outputs": [],
   "source": []
  },
  {
   "cell_type": "code",
   "execution_count": null,
   "id": "310e2811",
   "metadata": {},
   "outputs": [],
   "source": []
  },
  {
   "cell_type": "markdown",
   "id": "9a981b60",
   "metadata": {},
   "source": [
    "## nlargest 和 nsmallest 函数"
   ]
  },
  {
   "cell_type": "markdown",
   "id": "08be163b",
   "metadata": {},
   "source": [
    "**示例：获取 Age 最大的前 3 行数据**"
   ]
  },
  {
   "cell_type": "code",
   "execution_count": null,
   "id": "069f9128",
   "metadata": {},
   "outputs": [],
   "source": []
  },
  {
   "cell_type": "code",
   "execution_count": null,
   "id": "f3e9cda8",
   "metadata": {},
   "outputs": [],
   "source": []
  },
  {
   "cell_type": "markdown",
   "id": "9b531ea2",
   "metadata": {},
   "source": [
    "**示例：获取 Age 最小的前 3 行数据**"
   ]
  },
  {
   "cell_type": "code",
   "execution_count": null,
   "id": "35b12f6d",
   "metadata": {},
   "outputs": [],
   "source": []
  },
  {
   "cell_type": "code",
   "execution_count": null,
   "id": "ba5a99a7",
   "metadata": {},
   "outputs": [],
   "source": []
  },
  {
   "cell_type": "markdown",
   "id": "19734e5c",
   "metadata": {},
   "source": [
    "## Pandas 基本绘图操作"
   ]
  },
  {
   "cell_type": "markdown",
   "id": "31a16584",
   "metadata": {},
   "source": [
    "**示例：计算不同职业的科学家的平均寿命**"
   ]
  },
  {
   "cell_type": "code",
   "execution_count": null,
   "id": "e35486d7",
   "metadata": {},
   "outputs": [],
   "source": []
  },
  {
   "cell_type": "code",
   "execution_count": null,
   "id": "5e40ac21",
   "metadata": {},
   "outputs": [],
   "source": []
  }
 ],
 "metadata": {
  "kernelspec": {
   "display_name": "Python 3 (ipykernel)",
   "language": "python",
   "name": "python3"
  },
  "language_info": {
   "codemirror_mode": {
    "name": "ipython",
    "version": 3
   },
   "file_extension": ".py",
   "mimetype": "text/x-python",
   "name": "python",
   "nbconvert_exporter": "python",
   "pygments_lexer": "ipython3",
   "version": "3.8.12"
  },
  "toc": {
   "base_numbering": 1,
   "nav_menu": {},
   "number_sections": true,
   "sideBar": true,
   "skip_h1_title": false,
   "title_cell": "Table of Contents",
   "title_sidebar": "Contents",
   "toc_cell": false,
   "toc_position": {
    "height": "calc(100% - 180px)",
    "left": "10px",
    "top": "150px",
    "width": "289.95px"
   },
   "toc_section_display": true,
   "toc_window_display": true
  }
 },
 "nbformat": 4,
 "nbformat_minor": 5
}
