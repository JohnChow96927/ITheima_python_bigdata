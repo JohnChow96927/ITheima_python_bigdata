{
 "cells": [
  {
   "cell_type": "code",
   "execution_count": 39,
   "id": "8f57f793",
   "metadata": {},
   "outputs": [],
   "source": [
    "import pandas as pd"
   ]
  },
  {
   "cell_type": "markdown",
   "id": "702ff9ef",
   "metadata": {},
   "source": [
    "# 数据类型简介"
   ]
  },
  {
   "cell_type": "markdown",
   "id": "cdedc5bc",
   "metadata": {},
   "source": [
    "## numpy 简介"
   ]
  },
  {
   "cell_type": "code",
   "execution_count": 1,
   "id": "391dae92",
   "metadata": {},
   "outputs": [
    {
     "name": "stdout",
     "output_type": "stream",
     "text": [
      "[[80 89 86 67 79]\n",
      " [78 97 89 67 81]\n",
      " [90 94 78 67 74]\n",
      " [91 91 90 67 69]\n",
      " [76 87 75 67 86]\n",
      " [70 79 84 67 84]\n",
      " [94 92 93 67 64]\n",
      " [86 85 83 67 80]]\n",
      "<class 'numpy.ndarray'>\n"
     ]
    }
   ],
   "source": [
    "import numpy as np\n",
    "\n",
    "# 创建ndarray\n",
    "score = np.array([\n",
    "    [80, 89, 86, 67, 79],\n",
    "    [78, 97, 89, 67, 81],\n",
    "    [90, 94, 78, 67, 74],\n",
    "    [91, 91, 90, 67, 69],\n",
    "    [76, 87, 75, 67, 86],\n",
    "    [70, 79, 84, 67, 84],\n",
    "    [94, 92, 93, 67, 64],\n",
    "    [86, 85, 83, 67, 80]\n",
    "])\n",
    "\n",
    "print(score)\n",
    "print(type(score))"
   ]
  },
  {
   "cell_type": "code",
   "execution_count": 3,
   "id": "96b20589",
   "metadata": {},
   "outputs": [
    {
     "name": "stdout",
     "output_type": "stream",
     "text": [
      "0.004060268402099609 0.0009953975677490234\n"
     ]
    }
   ],
   "source": [
    "import random\n",
    "import time\n",
    "import numpy as np\n",
    "\n",
    "a = []\n",
    "for i in range(1000000):\n",
    "    a.append(random.random())\n",
    "\n",
    "t1 = time.time()\n",
    "sum1=sum(a)\n",
    "t2=time.time()\n",
    "\n",
    "b=np.array(a)\n",
    "t3=time.time()\n",
    "sum2=np.sum(b)\n",
    "t4=time.time()\n",
    "\n",
    "print(t2-t1, t4-t3)"
   ]
  },
  {
   "cell_type": "markdown",
   "id": "2b2851d3",
   "metadata": {},
   "source": [
    "## Numpy 的 ndarray"
   ]
  },
  {
   "cell_type": "code",
   "execution_count": 4,
   "id": "64ed6aa6",
   "metadata": {},
   "outputs": [],
   "source": [
    "a = np.array([1, 2, 3, 4])\n",
    "b = np.array([[1, 2, 3], [4, 5, 6]])\n",
    "c = np.array([[[1, 2, 3], [4, 5, 6]], [[1, 2, 3], [4, 5, 6]]])"
   ]
  },
  {
   "cell_type": "code",
   "execution_count": 5,
   "id": "e4a79d84",
   "metadata": {},
   "outputs": [
    {
     "name": "stdout",
     "output_type": "stream",
     "text": [
      "(4,)\n",
      "(2, 3)\n",
      "(2, 2, 3)\n"
     ]
    }
   ],
   "source": [
    "print(a.shape)\n",
    "print(b.shape)\n",
    "print(c.shape)"
   ]
  },
  {
   "cell_type": "code",
   "execution_count": 6,
   "id": "c206b529",
   "metadata": {},
   "outputs": [
    {
     "data": {
      "text/plain": [
       "3"
      ]
     },
     "execution_count": 6,
     "metadata": {},
     "output_type": "execute_result"
    }
   ],
   "source": [
    "c.ndim"
   ]
  },
  {
   "cell_type": "code",
   "execution_count": 7,
   "id": "8fff86df",
   "metadata": {},
   "outputs": [
    {
     "data": {
      "text/plain": [
       "12"
      ]
     },
     "execution_count": 7,
     "metadata": {},
     "output_type": "execute_result"
    }
   ],
   "source": [
    "c.size"
   ]
  },
  {
   "cell_type": "code",
   "execution_count": 8,
   "id": "a4fe8000",
   "metadata": {},
   "outputs": [
    {
     "data": {
      "text/plain": [
       "4"
      ]
     },
     "execution_count": 8,
     "metadata": {},
     "output_type": "execute_result"
    }
   ],
   "source": [
    "c.itemsize"
   ]
  },
  {
   "cell_type": "code",
   "execution_count": 9,
   "id": "c6dc790a",
   "metadata": {},
   "outputs": [
    {
     "data": {
      "text/plain": [
       "dtype('int32')"
      ]
     },
     "execution_count": 9,
     "metadata": {},
     "output_type": "execute_result"
    }
   ],
   "source": [
    "c.dtype"
   ]
  },
  {
   "cell_type": "markdown",
   "id": "aa0580ad",
   "metadata": {},
   "source": [
    "**创建ndarray并指定存储数据的类型**"
   ]
  },
  {
   "cell_type": "code",
   "execution_count": null,
   "id": "871663d3",
   "metadata": {},
   "outputs": [],
   "source": []
  },
  {
   "cell_type": "code",
   "execution_count": null,
   "id": "2969f1dd",
   "metadata": {},
   "outputs": [],
   "source": []
  },
  {
   "cell_type": "markdown",
   "id": "83d22b1d",
   "metadata": {},
   "source": [
    "## pandas 的数据类型"
   ]
  },
  {
   "cell_type": "markdown",
   "id": "f55bb6b5",
   "metadata": {},
   "source": [
    "**加载seaborn模块内置的tips数据集**"
   ]
  },
  {
   "cell_type": "code",
   "execution_count": null,
   "id": "d92bc16b",
   "metadata": {},
   "outputs": [],
   "source": []
  },
  {
   "cell_type": "code",
   "execution_count": null,
   "id": "1921046d",
   "metadata": {},
   "outputs": [],
   "source": []
  },
  {
   "cell_type": "markdown",
   "id": "1fd539bf",
   "metadata": {},
   "source": [
    "# 数据类型转换"
   ]
  },
  {
   "cell_type": "markdown",
   "id": "cbb15654",
   "metadata": {},
   "source": [
    "## astype函数：通用类型转换函数"
   ]
  },
  {
   "cell_type": "code",
   "execution_count": null,
   "id": "eb982a46",
   "metadata": {},
   "outputs": [],
   "source": []
  },
  {
   "cell_type": "code",
   "execution_count": null,
   "id": "46505fb2",
   "metadata": {},
   "outputs": [],
   "source": []
  },
  {
   "cell_type": "code",
   "execution_count": null,
   "id": "41ad9e76",
   "metadata": {},
   "outputs": [],
   "source": []
  },
  {
   "cell_type": "code",
   "execution_count": null,
   "id": "9f8895f0",
   "metadata": {},
   "outputs": [],
   "source": []
  },
  {
   "cell_type": "markdown",
   "id": "af9e6721",
   "metadata": {},
   "source": [
    "## to_numeric 函数：指定类型转数值类型函数"
   ]
  },
  {
   "cell_type": "code",
   "execution_count": null,
   "id": "8992c9b3",
   "metadata": {},
   "outputs": [],
   "source": []
  },
  {
   "cell_type": "code",
   "execution_count": null,
   "id": "659155d1",
   "metadata": {},
   "outputs": [],
   "source": []
  },
  {
   "cell_type": "code",
   "execution_count": null,
   "id": "4822a832",
   "metadata": {},
   "outputs": [],
   "source": []
  },
  {
   "cell_type": "markdown",
   "id": "7a76d2cd",
   "metadata": {},
   "source": [
    "# 分类数据类型"
   ]
  },
  {
   "cell_type": "markdown",
   "id": "9a67fddd",
   "metadata": {},
   "source": [
    "## category 类型转换"
   ]
  },
  {
   "cell_type": "code",
   "execution_count": null,
   "id": "ad35393f",
   "metadata": {},
   "outputs": [],
   "source": []
  },
  {
   "cell_type": "code",
   "execution_count": null,
   "id": "174dc59a",
   "metadata": {},
   "outputs": [],
   "source": []
  },
  {
   "cell_type": "code",
   "execution_count": null,
   "id": "b66489ba",
   "metadata": {},
   "outputs": [],
   "source": []
  },
  {
   "cell_type": "markdown",
   "id": "95e60b76",
   "metadata": {},
   "source": [
    "## 深入 category 数据类型"
   ]
  },
  {
   "cell_type": "code",
   "execution_count": null,
   "id": "f7a7f7b8",
   "metadata": {},
   "outputs": [],
   "source": []
  },
  {
   "cell_type": "code",
   "execution_count": null,
   "id": "be460f03",
   "metadata": {},
   "outputs": [],
   "source": []
  },
  {
   "cell_type": "code",
   "execution_count": null,
   "id": "8390d123",
   "metadata": {},
   "outputs": [],
   "source": []
  },
  {
   "cell_type": "markdown",
   "id": "37ba6a32",
   "metadata": {},
   "source": [
    "# 日期数据类型"
   ]
  },
  {
   "cell_type": "markdown",
   "id": "8fb2cfaa",
   "metadata": {},
   "source": [
    "## Python 的 datetime 对象"
   ]
  },
  {
   "cell_type": "code",
   "execution_count": null,
   "id": "23f1a6e9",
   "metadata": {},
   "outputs": [],
   "source": []
  },
  {
   "cell_type": "code",
   "execution_count": null,
   "id": "f1063f6d",
   "metadata": {},
   "outputs": [],
   "source": []
  },
  {
   "cell_type": "code",
   "execution_count": null,
   "id": "543f5a74",
   "metadata": {},
   "outputs": [],
   "source": []
  },
  {
   "cell_type": "markdown",
   "id": "818aaed4",
   "metadata": {},
   "source": [
    "## to_datetime 函数"
   ]
  },
  {
   "cell_type": "markdown",
   "id": "60fa29d1",
   "metadata": {},
   "source": [
    "**加载country_timeseries.csv数据**"
   ]
  },
  {
   "cell_type": "code",
   "execution_count": null,
   "id": "fb09e678",
   "metadata": {},
   "outputs": [],
   "source": []
  },
  {
   "cell_type": "code",
   "execution_count": null,
   "id": "156f1def",
   "metadata": {},
   "outputs": [],
   "source": []
  },
  {
   "cell_type": "code",
   "execution_count": null,
   "id": "a344e19f",
   "metadata": {},
   "outputs": [],
   "source": []
  },
  {
   "cell_type": "code",
   "execution_count": null,
   "id": "c97d98ff",
   "metadata": {},
   "outputs": [],
   "source": []
  },
  {
   "cell_type": "markdown",
   "id": "efc4725f",
   "metadata": {},
   "source": [
    "## 提取 datetime 的各个部分"
   ]
  },
  {
   "cell_type": "code",
   "execution_count": null,
   "id": "69b9f647",
   "metadata": {},
   "outputs": [],
   "source": []
  },
  {
   "cell_type": "code",
   "execution_count": null,
   "id": "eb4f5e59",
   "metadata": {},
   "outputs": [],
   "source": []
  },
  {
   "cell_type": "code",
   "execution_count": null,
   "id": "09cdcea1",
   "metadata": {},
   "outputs": [],
   "source": []
  },
  {
   "cell_type": "markdown",
   "id": "e5746567",
   "metadata": {},
   "source": [
    "## 日期运算和Timedelta"
   ]
  },
  {
   "cell_type": "code",
   "execution_count": null,
   "id": "f4ea1951",
   "metadata": {},
   "outputs": [],
   "source": []
  },
  {
   "cell_type": "code",
   "execution_count": null,
   "id": "487ee2e0",
   "metadata": {},
   "outputs": [],
   "source": []
  },
  {
   "cell_type": "code",
   "execution_count": null,
   "id": "6acca370",
   "metadata": {},
   "outputs": [],
   "source": []
  },
  {
   "cell_type": "markdown",
   "id": "1852bf36",
   "metadata": {},
   "source": [
    "## date_range函数"
   ]
  },
  {
   "cell_type": "code",
   "execution_count": null,
   "id": "88b51572",
   "metadata": {},
   "outputs": [],
   "source": []
  },
  {
   "cell_type": "code",
   "execution_count": null,
   "id": "d481e67f",
   "metadata": {},
   "outputs": [],
   "source": []
  },
  {
   "cell_type": "code",
   "execution_count": null,
   "id": "7372bbd4",
   "metadata": {},
   "outputs": [],
   "source": []
  },
  {
   "cell_type": "markdown",
   "id": "9a56c4df",
   "metadata": {},
   "source": [
    "**产生 2020-01-01 到 2020-01-07 的工作日**"
   ]
  },
  {
   "cell_type": "code",
   "execution_count": null,
   "id": "6aa06c90",
   "metadata": {},
   "outputs": [],
   "source": []
  },
  {
   "cell_type": "markdown",
   "id": "61894d04",
   "metadata": {},
   "source": [
    "**隔一个工作日取一个工作日**"
   ]
  },
  {
   "cell_type": "code",
   "execution_count": null,
   "id": "24f038f3",
   "metadata": {},
   "outputs": [],
   "source": []
  },
  {
   "cell_type": "markdown",
   "id": "72724899",
   "metadata": {},
   "source": [
    "**示例：2020年每个月的第一个星期四**"
   ]
  },
  {
   "cell_type": "code",
   "execution_count": null,
   "id": "a59586e1",
   "metadata": {},
   "outputs": [],
   "source": []
  },
  {
   "cell_type": "markdown",
   "id": "5df0258a",
   "metadata": {},
   "source": [
    "**示例：2020年每个月的第三个星期五**"
   ]
  },
  {
   "cell_type": "code",
   "execution_count": null,
   "id": "ecc6a347",
   "metadata": {},
   "outputs": [],
   "source": []
  },
  {
   "cell_type": "markdown",
   "id": "4fe9973d",
   "metadata": {},
   "source": [
    "## 日期序列数据操作"
   ]
  },
  {
   "cell_type": "markdown",
   "id": "813f9456",
   "metadata": {},
   "source": [
    "### DateTimeIndex 设置"
   ]
  },
  {
   "cell_type": "markdown",
   "id": "37a26c49",
   "metadata": {},
   "source": [
    "**加载丹佛市报警记录数据集 crime.csv**"
   ]
  },
  {
   "cell_type": "code",
   "execution_count": null,
   "id": "6a9f441b",
   "metadata": {},
   "outputs": [],
   "source": []
  },
  {
   "cell_type": "code",
   "execution_count": null,
   "id": "9bb2a12a",
   "metadata": {},
   "outputs": [],
   "source": []
  },
  {
   "cell_type": "code",
   "execution_count": null,
   "id": "66e0fe06",
   "metadata": {},
   "outputs": [],
   "source": []
  },
  {
   "cell_type": "markdown",
   "id": "bfde1b5d",
   "metadata": {},
   "source": [
    "### 日期数据的筛选"
   ]
  },
  {
   "cell_type": "markdown",
   "id": "f7d02360",
   "metadata": {},
   "source": [
    "**示例：获取 2016-05-02 的报警记录数据**"
   ]
  },
  {
   "cell_type": "code",
   "execution_count": null,
   "id": "126c6c0a",
   "metadata": {},
   "outputs": [],
   "source": []
  },
  {
   "cell_type": "markdown",
   "id": "c288a92e",
   "metadata": {},
   "source": [
    "**示例：获取 2015-03-01 到 2015-06-01 之间的报警记录数据**"
   ]
  },
  {
   "cell_type": "code",
   "execution_count": null,
   "id": "eb3022c8",
   "metadata": {},
   "outputs": [],
   "source": []
  },
  {
   "cell_type": "markdown",
   "id": "f8314153",
   "metadata": {},
   "source": [
    "**示例：获取 2015-03-01 22点 到 2015-06-01 20:35:00 之间的报警记录数据**"
   ]
  },
  {
   "cell_type": "code",
   "execution_count": null,
   "id": "f5fa0835",
   "metadata": {},
   "outputs": [],
   "source": []
  },
  {
   "cell_type": "markdown",
   "id": "8c2e1bdb",
   "metadata": {},
   "source": [
    "**示例：查询凌晨两点到五点的报警记录**"
   ]
  },
  {
   "cell_type": "code",
   "execution_count": null,
   "id": "59ffae58",
   "metadata": {},
   "outputs": [],
   "source": []
  },
  {
   "cell_type": "markdown",
   "id": "dfc55068",
   "metadata": {},
   "source": [
    "**示例：查询在 5:47 分的报警记录**"
   ]
  },
  {
   "cell_type": "code",
   "execution_count": null,
   "id": "230d1b36",
   "metadata": {},
   "outputs": [],
   "source": []
  },
  {
   "cell_type": "markdown",
   "id": "7be8b644",
   "metadata": {},
   "source": [
    "### DateTimeIndex 行标签排序"
   ]
  },
  {
   "cell_type": "markdown",
   "id": "b4d8c1d7",
   "metadata": {},
   "source": [
    "**示例：获取 2015-03-04 到 2016-06-01 之间的报警记录数据**"
   ]
  },
  {
   "cell_type": "code",
   "execution_count": null,
   "id": "58d68081",
   "metadata": {},
   "outputs": [],
   "source": []
  },
  {
   "cell_type": "code",
   "execution_count": null,
   "id": "e508621f",
   "metadata": {},
   "outputs": [],
   "source": []
  },
  {
   "cell_type": "markdown",
   "id": "36c4e77c",
   "metadata": {},
   "source": [
    "### 日期序列数据的重采样"
   ]
  },
  {
   "cell_type": "markdown",
   "id": "2b73f350",
   "metadata": {},
   "source": [
    "**示例：计算每周的报警数量**"
   ]
  },
  {
   "cell_type": "code",
   "execution_count": null,
   "id": "eae6ba45",
   "metadata": {},
   "outputs": [],
   "source": []
  },
  {
   "cell_type": "code",
   "execution_count": null,
   "id": "c2919873",
   "metadata": {},
   "outputs": [],
   "source": []
  },
  {
   "cell_type": "markdown",
   "id": "3c7bf483",
   "metadata": {},
   "source": [
    "**示例：分析每季度的犯罪和交通事故数量**"
   ]
  },
  {
   "cell_type": "code",
   "execution_count": null,
   "id": "75a813aa",
   "metadata": {},
   "outputs": [],
   "source": []
  },
  {
   "cell_type": "code",
   "execution_count": null,
   "id": "c1f46815",
   "metadata": {},
   "outputs": [],
   "source": []
  },
  {
   "cell_type": "code",
   "execution_count": null,
   "id": "58262225",
   "metadata": {},
   "outputs": [],
   "source": []
  }
 ],
 "metadata": {
  "kernelspec": {
   "display_name": "Python 3 (ipykernel)",
   "language": "python",
   "name": "python3"
  },
  "language_info": {
   "codemirror_mode": {
    "name": "ipython",
    "version": 3
   },
   "file_extension": ".py",
   "mimetype": "text/x-python",
   "name": "python",
   "nbconvert_exporter": "python",
   "pygments_lexer": "ipython3",
   "version": "3.8.12"
  },
  "toc": {
   "base_numbering": 1,
   "nav_menu": {},
   "number_sections": true,
   "sideBar": true,
   "skip_h1_title": false,
   "title_cell": "Table of Contents",
   "title_sidebar": "Contents",
   "toc_cell": false,
   "toc_position": {
    "height": "calc(100% - 180px)",
    "left": "10px",
    "top": "150px",
    "width": "300.95px"
   },
   "toc_section_display": true,
   "toc_window_display": true
  }
 },
 "nbformat": 4,
 "nbformat_minor": 5
}
