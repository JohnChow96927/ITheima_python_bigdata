{
 "cells": [
  {
   "cell_type": "code",
   "execution_count": 1,
   "id": "0784fe32",
   "metadata": {},
   "outputs": [],
   "source": [
    "import pandas as pd"
   ]
  },
  {
   "cell_type": "markdown",
   "id": "137722fa",
   "metadata": {},
   "source": [
    "# pandas 缺失值简介"
   ]
  },
  {
   "cell_type": "markdown",
   "id": "adcc3e44",
   "metadata": {},
   "source": [
    "## 缺失值的表现形式"
   ]
  },
  {
   "cell_type": "code",
   "execution_count": 1,
   "id": "0b934ac9",
   "metadata": {},
   "outputs": [
    {
     "name": "stdout",
     "output_type": "stream",
     "text": [
      "nan\n",
      "nan\n",
      "nan\n"
     ]
    }
   ],
   "source": [
    "import numpy as np\n",
    "print(np.NaN)\n",
    "print(np.NAN)\n",
    "print(np.nan)"
   ]
  },
  {
   "cell_type": "code",
   "execution_count": 2,
   "id": "9437fc05",
   "metadata": {},
   "outputs": [
    {
     "name": "stdout",
     "output_type": "stream",
     "text": [
      "False\n",
      "False\n",
      "False\n",
      "False\n",
      "False\n"
     ]
    }
   ],
   "source": [
    "print(np.NaN==True)\n",
    "print(np.NaN==False)\n",
    "print(np.NaN==0)\n",
    "print(np.NaN=='')\n",
    "print(np.NaN==None)"
   ]
  },
  {
   "cell_type": "code",
   "execution_count": 3,
   "id": "c74c8cf6",
   "metadata": {},
   "outputs": [
    {
     "name": "stdout",
     "output_type": "stream",
     "text": [
      "False\n",
      "False\n",
      "False\n",
      "False\n"
     ]
    }
   ],
   "source": [
    "print(np.NaN==np.NaN)\n",
    "print(np.NaN==np.nan)\n",
    "print(np.NaN==np.NAN)\n",
    "print(np.NAN==np.nan)"
   ]
  },
  {
   "cell_type": "markdown",
   "id": "7cde9983",
   "metadata": {},
   "source": [
    "## 缺失值判断"
   ]
  },
  {
   "cell_type": "markdown",
   "id": "c4697347",
   "metadata": {},
   "source": [
    "**pandas 判断是否为缺失值方法**：\n",
    "pd.isnull和pd.notnull"
   ]
  },
  {
   "cell_type": "code",
   "execution_count": null,
   "id": "f51cd3b6",
   "metadata": {},
   "outputs": [],
   "source": []
  },
  {
   "cell_type": "code",
   "execution_count": null,
   "id": "3c7bd2a0",
   "metadata": {},
   "outputs": [],
   "source": []
  },
  {
   "cell_type": "markdown",
   "id": "0f508192",
   "metadata": {},
   "source": [
    "**判断 Series 中的元素是否是缺失值**：series.isnull()"
   ]
  },
  {
   "cell_type": "code",
   "execution_count": null,
   "id": "67ab6e17",
   "metadata": {},
   "outputs": [],
   "source": []
  },
  {
   "cell_type": "code",
   "execution_count": null,
   "id": "a2e34e2e",
   "metadata": {},
   "outputs": [],
   "source": []
  },
  {
   "cell_type": "markdown",
   "id": "5d88367a",
   "metadata": {},
   "source": [
    "**判断 DataFrame 中的数据是否是缺失值**：df.isnull()"
   ]
  },
  {
   "cell_type": "code",
   "execution_count": null,
   "id": "21baf1ef",
   "metadata": {},
   "outputs": [],
   "source": []
  },
  {
   "cell_type": "code",
   "execution_count": null,
   "id": "0b28da90",
   "metadata": {},
   "outputs": [],
   "source": []
  },
  {
   "cell_type": "markdown",
   "id": "a161b4d1",
   "metadata": {},
   "source": [
    "## 加载包含缺失值的数据"
   ]
  },
  {
   "cell_type": "markdown",
   "id": "94d7398b",
   "metadata": {},
   "source": [
    "**加载包含缺失值的数据：survey_visited.csv**"
   ]
  },
  {
   "cell_type": "code",
   "execution_count": null,
   "id": "3d006091",
   "metadata": {},
   "outputs": [],
   "source": []
  },
  {
   "cell_type": "code",
   "execution_count": null,
   "id": "d737b490",
   "metadata": {},
   "outputs": [],
   "source": []
  },
  {
   "cell_type": "markdown",
   "id": "ab25b6d3",
   "metadata": {},
   "source": [
    "**加载数据时，不显示默认的缺失值，默认缺失值填充为''**"
   ]
  },
  {
   "cell_type": "code",
   "execution_count": null,
   "id": "d03f7458",
   "metadata": {},
   "outputs": [],
   "source": []
  },
  {
   "cell_type": "code",
   "execution_count": null,
   "id": "d181a048",
   "metadata": {},
   "outputs": [],
   "source": []
  },
  {
   "cell_type": "markdown",
   "id": "a01aa733",
   "metadata": {},
   "source": [
    "**na_values=[\"DR-3\"]：加载数据时，把 'DR-3' 当做缺失值**"
   ]
  },
  {
   "cell_type": "code",
   "execution_count": null,
   "id": "bb662f69",
   "metadata": {},
   "outputs": [],
   "source": []
  },
  {
   "cell_type": "code",
   "execution_count": null,
   "id": "00577590",
   "metadata": {},
   "outputs": [],
   "source": []
  },
  {
   "cell_type": "markdown",
   "id": "9b0c47ae",
   "metadata": {},
   "source": [
    "# pandas 缺失值处理"
   ]
  },
  {
   "cell_type": "markdown",
   "id": "617717cf",
   "metadata": {},
   "source": [
    "##  加载数据并查看缺失情况"
   ]
  },
  {
   "cell_type": "markdown",
   "id": "7c980284",
   "metadata": {},
   "source": [
    "### 数据基本缺失情况查看"
   ]
  },
  {
   "cell_type": "markdown",
   "id": "b949dc43",
   "metadata": {},
   "source": [
    "**加载包含缺失值的数据：titanic_train.csv**"
   ]
  },
  {
   "cell_type": "code",
   "execution_count": null,
   "id": "cda1a134",
   "metadata": {},
   "outputs": [],
   "source": []
  },
  {
   "cell_type": "code",
   "execution_count": null,
   "id": "40e56350",
   "metadata": {},
   "outputs": [],
   "source": []
  },
  {
   "cell_type": "code",
   "execution_count": null,
   "id": "9402c545",
   "metadata": {},
   "outputs": [],
   "source": []
  },
  {
   "cell_type": "markdown",
   "id": "6e81d722",
   "metadata": {},
   "source": [
    "### 构造缺失值统计的函数"
   ]
  },
  {
   "cell_type": "code",
   "execution_count": null,
   "id": "5eac0417",
   "metadata": {},
   "outputs": [],
   "source": []
  },
  {
   "cell_type": "code",
   "execution_count": null,
   "id": "b2140511",
   "metadata": {},
   "outputs": [],
   "source": []
  },
  {
   "cell_type": "markdown",
   "id": "465c1ab1",
   "metadata": {},
   "source": [
    "### 使用Missingno库对缺失值的情况进行可视化探查"
   ]
  },
  {
   "cell_type": "code",
   "execution_count": null,
   "id": "e013b034",
   "metadata": {},
   "outputs": [],
   "source": []
  },
  {
   "cell_type": "code",
   "execution_count": null,
   "id": "62fed8f2",
   "metadata": {},
   "outputs": [],
   "source": []
  },
  {
   "cell_type": "code",
   "execution_count": null,
   "id": "f93c37c6",
   "metadata": {},
   "outputs": [],
   "source": []
  },
  {
   "cell_type": "code",
   "execution_count": null,
   "id": "62929eae",
   "metadata": {},
   "outputs": [],
   "source": []
  }
 ],
 "metadata": {
  "kernelspec": {
   "display_name": "Python [conda env:datasci] *",
   "language": "python",
   "name": "conda-env-datasci-py"
  },
  "language_info": {
   "codemirror_mode": {
    "name": "ipython",
    "version": 3
   },
   "file_extension": ".py",
   "mimetype": "text/x-python",
   "name": "python",
   "nbconvert_exporter": "python",
   "pygments_lexer": "ipython3",
   "version": "3.8.12"
  },
  "toc": {
   "base_numbering": 1,
   "nav_menu": {},
   "number_sections": true,
   "sideBar": true,
   "skip_h1_title": false,
   "title_cell": "Table of Contents",
   "title_sidebar": "Contents",
   "toc_cell": false,
   "toc_position": {
    "height": "calc(100% - 180px)",
    "left": "10px",
    "top": "150px",
    "width": "300.95px"
   },
   "toc_section_display": true,
   "toc_window_display": true
  }
 },
 "nbformat": 4,
 "nbformat_minor": 5
}
