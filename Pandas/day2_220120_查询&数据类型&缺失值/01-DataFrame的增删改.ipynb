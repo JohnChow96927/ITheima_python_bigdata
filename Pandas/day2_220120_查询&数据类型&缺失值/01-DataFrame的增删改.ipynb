{
 "cells": [
  {
   "cell_type": "code",
   "execution_count": 1,
   "id": "26e61473",
   "metadata": {},
   "outputs": [],
   "source": [
    "import pandas as pd"
   ]
  },
  {
   "cell_type": "markdown",
   "id": "d74bbef5",
   "metadata": {},
   "source": [
    "# 行操作【了解】"
   ]
  },
  {
   "cell_type": "markdown",
   "id": "506435ff",
   "metadata": {},
   "source": [
    "## 添加行"
   ]
  },
  {
   "cell_type": "markdown",
   "id": "3157f812",
   "metadata": {},
   "source": [
    "##### df.append(...)：DataFrame末尾添加新行"
   ]
  },
  {
   "cell_type": "code",
   "execution_count": null,
   "id": "24507816",
   "metadata": {},
   "outputs": [],
   "source": []
  },
  {
   "cell_type": "code",
   "execution_count": null,
   "id": "f267b305",
   "metadata": {},
   "outputs": [],
   "source": []
  },
  {
   "cell_type": "code",
   "execution_count": null,
   "id": "687b0de5",
   "metadata": {},
   "outputs": [],
   "source": []
  },
  {
   "cell_type": "markdown",
   "id": "8ca81177",
   "metadata": {},
   "source": [
    "## 修改行"
   ]
  },
  {
   "cell_type": "markdown",
   "id": "b12ad408",
   "metadata": {},
   "source": [
    "##### df.loc[['行标签', ...],['列标签', ...]]：修改行标签对应行的对应列的数据\n",
    "##### df.iloc[['行位置', ...],['列位置', ...]]：修改行位置对应行的对应列的数据"
   ]
  },
  {
   "cell_type": "code",
   "execution_count": null,
   "id": "73007d61",
   "metadata": {},
   "outputs": [],
   "source": []
  },
  {
   "cell_type": "code",
   "execution_count": null,
   "id": "f38c83ef",
   "metadata": {},
   "outputs": [],
   "source": []
  },
  {
   "cell_type": "code",
   "execution_count": null,
   "id": "76bfcebc",
   "metadata": {},
   "outputs": [],
   "source": []
  },
  {
   "cell_type": "markdown",
   "id": "8840cd93",
   "metadata": {},
   "source": [
    "## 删除行"
   ]
  },
  {
   "cell_type": "markdown",
   "id": "de1b159d",
   "metadata": {},
   "source": [
    "##### df.drop(['行标签', ...])：删除行标签对应行的数据，返回新的 DataFrame"
   ]
  },
  {
   "cell_type": "code",
   "execution_count": null,
   "id": "906e6ced",
   "metadata": {},
   "outputs": [],
   "source": []
  },
  {
   "cell_type": "code",
   "execution_count": null,
   "id": "29db5804",
   "metadata": {},
   "outputs": [],
   "source": []
  },
  {
   "cell_type": "code",
   "execution_count": null,
   "id": "49aaee93",
   "metadata": {},
   "outputs": [],
   "source": []
  },
  {
   "cell_type": "markdown",
   "id": "2582e6e2",
   "metadata": {},
   "source": [
    "# 列操作【重点】"
   ]
  },
  {
   "cell_type": "markdown",
   "id": "f7c51b09",
   "metadata": {},
   "source": [
    "## 新增列/修改列"
   ]
  },
  {
   "cell_type": "markdown",
   "id": "265d6a72",
   "metadata": {},
   "source": [
    "##### df['列标签']=新列\t\n",
    "1）如果 DataFrame 中不存在对应的列，则在 DataFrame 最右侧增加新列<br/>\n",
    "2）如果 DataFrame 中存在对应的列，则修改 DataFrame 中该列的数据\n",
    "##### df.loc[:, 列标签]=新列\t\n",
    "1）如果 DataFrame 中不存在对应的列，则在 DataFrame 最右侧增加新列<br/>\n",
    "2）如果 DataFrame 中存在对应的列，则修改 DataFrame 中该列的数据"
   ]
  },
  {
   "cell_type": "code",
   "execution_count": null,
   "id": "81c2958a",
   "metadata": {},
   "outputs": [],
   "source": []
  },
  {
   "cell_type": "code",
   "execution_count": null,
   "id": "bd241be3",
   "metadata": {},
   "outputs": [],
   "source": []
  },
  {
   "cell_type": "markdown",
   "id": "0c8f0f54",
   "metadata": {},
   "source": [
    "## 删除列"
   ]
  },
  {
   "cell_type": "markdown",
   "id": "839d3b23",
   "metadata": {},
   "source": [
    "##### df.drop(['列标签', ...], axis=1)：删除列标签对应的列数据，返回新的 DataFrame"
   ]
  },
  {
   "cell_type": "code",
   "execution_count": null,
   "id": "c4ca232f",
   "metadata": {},
   "outputs": [],
   "source": []
  },
  {
   "cell_type": "code",
   "execution_count": null,
   "id": "71fab22c",
   "metadata": {},
   "outputs": [],
   "source": []
  },
  {
   "cell_type": "code",
   "execution_count": null,
   "id": "73c59b0f",
   "metadata": {},
   "outputs": [],
   "source": []
  }
 ],
 "metadata": {
  "kernelspec": {
   "display_name": "Python 3 (ipykernel)",
   "language": "python",
   "name": "python3"
  },
  "language_info": {
   "codemirror_mode": {
    "name": "ipython",
    "version": 3
   },
   "file_extension": ".py",
   "mimetype": "text/x-python",
   "name": "python",
   "nbconvert_exporter": "python",
   "pygments_lexer": "ipython3",
   "version": "3.8.12"
  },
  "toc": {
   "base_numbering": 1,
   "nav_menu": {},
   "number_sections": true,
   "sideBar": true,
   "skip_h1_title": false,
   "title_cell": "Table of Contents",
   "title_sidebar": "Contents",
   "toc_cell": false,
   "toc_position": {},
   "toc_section_display": true,
   "toc_window_display": true
  }
 },
 "nbformat": 4,
 "nbformat_minor": 5
}
