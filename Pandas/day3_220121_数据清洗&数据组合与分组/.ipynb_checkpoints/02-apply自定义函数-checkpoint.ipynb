{
 "cells": [
  {
   "cell_type": "code",
   "execution_count": 1,
   "id": "40bf6302",
   "metadata": {},
   "outputs": [],
   "source": [
    "import pandas as pd"
   ]
  },
  {
   "cell_type": "markdown",
   "id": "b1d7c709",
   "metadata": {},
   "source": [
    "# apply 自定义函数"
   ]
  },
  {
   "cell_type": "markdown",
   "id": "545f5abb",
   "metadata": {},
   "source": [
    "## Series 的 apply 方法"
   ]
  },
  {
   "cell_type": "markdown",
   "id": "a22b8c6f",
   "metadata": {},
   "source": [
    "##### 语法：series.apply(func)\n",
    "**作用：将 series 中的每个元素传递给 func 函数的参数，func函数的返回值，最终组成一个新的 Series**"
   ]
  },
  {
   "cell_type": "code",
   "execution_count": 3,
   "id": "7d4d31f4",
   "metadata": {},
   "outputs": [
    {
     "data": {
      "text/html": [
       "<div>\n",
       "<style scoped>\n",
       "    .dataframe tbody tr th:only-of-type {\n",
       "        vertical-align: middle;\n",
       "    }\n",
       "\n",
       "    .dataframe tbody tr th {\n",
       "        vertical-align: top;\n",
       "    }\n",
       "\n",
       "    .dataframe thead th {\n",
       "        text-align: right;\n",
       "    }\n",
       "</style>\n",
       "<table border=\"1\" class=\"dataframe\">\n",
       "  <thead>\n",
       "    <tr style=\"text-align: right;\">\n",
       "      <th></th>\n",
       "      <th>a</th>\n",
       "      <th>b</th>\n",
       "    </tr>\n",
       "  </thead>\n",
       "  <tbody>\n",
       "    <tr>\n",
       "      <th>0</th>\n",
       "      <td>10</td>\n",
       "      <td>20</td>\n",
       "    </tr>\n",
       "    <tr>\n",
       "      <th>1</th>\n",
       "      <td>20</td>\n",
       "      <td>30</td>\n",
       "    </tr>\n",
       "    <tr>\n",
       "      <th>2</th>\n",
       "      <td>30</td>\n",
       "      <td>40</td>\n",
       "    </tr>\n",
       "  </tbody>\n",
       "</table>\n",
       "</div>"
      ],
      "text/plain": [
       "    a   b\n",
       "0  10  20\n",
       "1  20  30\n",
       "2  30  40"
      ]
     },
     "execution_count": 3,
     "metadata": {},
     "output_type": "execute_result"
    }
   ],
   "source": [
    "df = pd.DataFrame({'a': [10, 20, 30], 'b': [20, 30, 40]})\n",
    "df"
   ]
  },
  {
   "cell_type": "code",
   "execution_count": null,
   "id": "75f2efc9",
   "metadata": {},
   "outputs": [],
   "source": []
  },
  {
   "cell_type": "markdown",
   "id": "1f330078",
   "metadata": {},
   "source": [
    "## DataFrame 的 apply 方法"
   ]
  },
  {
   "cell_type": "markdown",
   "id": "8e9a78f1",
   "metadata": {},
   "source": [
    "##### 语法：dataframe.apply(func)\n",
    "**作用：将 dataframe 中的每列数据传递给 func 函数的参数，func函数的返回值，最终组成一个新的 Dataframe**"
   ]
  },
  {
   "cell_type": "code",
   "execution_count": null,
   "id": "2dc3a761",
   "metadata": {},
   "outputs": [],
   "source": []
  },
  {
   "cell_type": "markdown",
   "id": "1bdaab10",
   "metadata": {},
   "source": [
    "##### 语法：dataframe.apply(func, axis=1)\n",
    "**作用：将 dataframe 中的每行数据传递给 func 函数的参数，func函数的返回值，最终组成一个新的 Dataframe**"
   ]
  },
  {
   "cell_type": "code",
   "execution_count": null,
   "id": "3709f66d",
   "metadata": {},
   "outputs": [],
   "source": []
  },
  {
   "cell_type": "markdown",
   "id": "50480b7d",
   "metadata": {},
   "source": [
    "##### 语法：dataframe.applymap(func)\n",
    "**作用：将 dataframe 中的每个元素传递 func 函数的参数，func函数的返回值，最终组成一个新的 Dataframe**"
   ]
  },
  {
   "cell_type": "code",
   "execution_count": null,
   "id": "98463267",
   "metadata": {},
   "outputs": [],
   "source": []
  },
  {
   "cell_type": "markdown",
   "id": "cdf4a91f",
   "metadata": {},
   "source": [
    "# apply 使用案例"
   ]
  },
  {
   "cell_type": "code",
   "execution_count": 7,
   "id": "1518eec2",
   "metadata": {},
   "outputs": [
    {
     "name": "stdout",
     "output_type": "stream",
     "text": [
      "<class 'pandas.core.frame.DataFrame'>\n",
      "RangeIndex: 891 entries, 0 to 890\n",
      "Data columns (total 15 columns):\n",
      " #   Column       Non-Null Count  Dtype  \n",
      "---  ------       --------------  -----  \n",
      " 0   survived     891 non-null    int64  \n",
      " 1   pclass       891 non-null    int64  \n",
      " 2   sex          891 non-null    object \n",
      " 3   age          714 non-null    float64\n",
      " 4   sibsp        891 non-null    int64  \n",
      " 5   parch        891 non-null    int64  \n",
      " 6   fare         891 non-null    float64\n",
      " 7   embarked     889 non-null    object \n",
      " 8   class        891 non-null    object \n",
      " 9   who          891 non-null    object \n",
      " 10  adult_male   891 non-null    bool   \n",
      " 11  deck         203 non-null    object \n",
      " 12  embark_town  889 non-null    object \n",
      " 13  alive        891 non-null    object \n",
      " 14  alone        891 non-null    bool   \n",
      "dtypes: bool(2), float64(2), int64(4), object(7)\n",
      "memory usage: 92.4+ KB\n"
     ]
    }
   ],
   "source": [
    "titanic = pd.read_csv('./data/titanic.csv')\n",
    "titanic.info()"
   ]
  },
  {
   "cell_type": "markdown",
   "id": "1f7a652a",
   "metadata": {},
   "source": [
    "##### ① 统计每列缺失值的个数\n"
   ]
  },
  {
   "cell_type": "code",
   "execution_count": null,
   "id": "d52da6c9",
   "metadata": {},
   "outputs": [],
   "source": []
  },
  {
   "cell_type": "markdown",
   "id": "0d077cb5",
   "metadata": {},
   "source": [
    "##### ② 统计每列缺失值的占比"
   ]
  },
  {
   "cell_type": "code",
   "execution_count": null,
   "id": "a933e26a",
   "metadata": {},
   "outputs": [],
   "source": []
  },
  {
   "cell_type": "markdown",
   "id": "4f0b5b44",
   "metadata": {},
   "source": [
    "##### ③ 统计每列非缺失值的占比"
   ]
  },
  {
   "cell_type": "code",
   "execution_count": null,
   "id": "977f572e",
   "metadata": {},
   "outputs": [],
   "source": []
  },
  {
   "cell_type": "markdown",
   "id": "8c6f88d0",
   "metadata": {},
   "source": [
    "##### ① 统计每行缺失值的个数"
   ]
  },
  {
   "cell_type": "code",
   "execution_count": null,
   "id": "df3e356f",
   "metadata": {},
   "outputs": [],
   "source": []
  },
  {
   "cell_type": "markdown",
   "id": "0245c702",
   "metadata": {},
   "source": [
    "##### ② 统计每行缺失值的占比"
   ]
  },
  {
   "cell_type": "code",
   "execution_count": null,
   "id": "547a9504",
   "metadata": {},
   "outputs": [],
   "source": []
  },
  {
   "cell_type": "markdown",
   "id": "c5147c9e",
   "metadata": {},
   "source": [
    "##### ③ 统计每行非缺失值的占比"
   ]
  },
  {
   "cell_type": "code",
   "execution_count": null,
   "id": "84b38503",
   "metadata": {},
   "outputs": [],
   "source": []
  }
 ],
 "metadata": {
  "kernelspec": {
   "display_name": "Python [conda env:datasci] *",
   "language": "python",
   "name": "conda-env-datasci-py"
  },
  "language_info": {
   "codemirror_mode": {
    "name": "ipython",
    "version": 3
   },
   "file_extension": ".py",
   "mimetype": "text/x-python",
   "name": "python",
   "nbconvert_exporter": "python",
   "pygments_lexer": "ipython3",
   "version": "3.8.12"
  },
  "toc": {
   "base_numbering": 1,
   "nav_menu": {},
   "number_sections": true,
   "sideBar": true,
   "skip_h1_title": false,
   "title_cell": "Table of Contents",
   "title_sidebar": "Contents",
   "toc_cell": false,
   "toc_position": {},
   "toc_section_display": true,
   "toc_window_display": true
  }
 },
 "nbformat": 4,
 "nbformat_minor": 5
}
