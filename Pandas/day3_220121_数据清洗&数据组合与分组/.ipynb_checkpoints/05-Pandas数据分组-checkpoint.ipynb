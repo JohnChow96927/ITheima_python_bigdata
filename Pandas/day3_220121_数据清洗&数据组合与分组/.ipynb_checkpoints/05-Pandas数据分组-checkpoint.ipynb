{
 "cells": [
  {
   "cell_type": "code",
   "execution_count": 1,
   "id": "f697bb33",
   "metadata": {},
   "outputs": [],
   "source": [
    "import pandas as pd"
   ]
  },
  {
   "cell_type": "markdown",
   "id": "f7bd6ba6",
   "metadata": {},
   "source": [
    "# 数据分组操作"
   ]
  },
  {
   "cell_type": "markdown",
   "id": "5cfb5472",
   "metadata": {},
   "source": [
    "## MultiIndex 多级标签"
   ]
  },
  {
   "cell_type": "markdown",
   "id": "e3262bd8",
   "metadata": {},
   "source": [
    "**加载 gapminder.tsv 数据**"
   ]
  },
  {
   "cell_type": "code",
   "execution_count": null,
   "id": "9d92630a",
   "metadata": {},
   "outputs": [],
   "source": []
  },
  {
   "cell_type": "markdown",
   "id": "60889709",
   "metadata": {},
   "source": [
    "**将 year 和 country 两列设置为行标签**"
   ]
  },
  {
   "cell_type": "code",
   "execution_count": null,
   "id": "6a947724",
   "metadata": {},
   "outputs": [],
   "source": []
  },
  {
   "cell_type": "markdown",
   "id": "363d4be0",
   "metadata": {},
   "source": [
    "**根据一级行标签获取数据，示例：获取 1952 年的数据**"
   ]
  },
  {
   "cell_type": "code",
   "execution_count": null,
   "id": "7cceec5a",
   "metadata": {},
   "outputs": [],
   "source": []
  },
  {
   "cell_type": "markdown",
   "id": "4a90c4cc",
   "metadata": {},
   "source": [
    "**根据一级、二级行标签获取数据，示例：获取 1952 年中国的数据**"
   ]
  },
  {
   "cell_type": "code",
   "execution_count": null,
   "id": "7e2578f2",
   "metadata": {},
   "outputs": [],
   "source": []
  },
  {
   "cell_type": "markdown",
   "id": "adf41b8d",
   "metadata": {},
   "source": [
    "## 分组聚合操作"
   ]
  },
  {
   "cell_type": "markdown",
   "id": "ee9f7e4c",
   "metadata": {},
   "source": [
    "**加载 gapminder.tsv 数据集**"
   ]
  },
  {
   "cell_type": "code",
   "execution_count": 6,
   "id": "7bd5b4a2",
   "metadata": {},
   "outputs": [
    {
     "data": {
      "text/html": [
       "<div>\n",
       "<style scoped>\n",
       "    .dataframe tbody tr th:only-of-type {\n",
       "        vertical-align: middle;\n",
       "    }\n",
       "\n",
       "    .dataframe tbody tr th {\n",
       "        vertical-align: top;\n",
       "    }\n",
       "\n",
       "    .dataframe thead th {\n",
       "        text-align: right;\n",
       "    }\n",
       "</style>\n",
       "<table border=\"1\" class=\"dataframe\">\n",
       "  <thead>\n",
       "    <tr style=\"text-align: right;\">\n",
       "      <th></th>\n",
       "      <th>country</th>\n",
       "      <th>continent</th>\n",
       "      <th>year</th>\n",
       "      <th>lifeExp</th>\n",
       "      <th>pop</th>\n",
       "      <th>gdpPercap</th>\n",
       "    </tr>\n",
       "  </thead>\n",
       "  <tbody>\n",
       "    <tr>\n",
       "      <th>0</th>\n",
       "      <td>Afghanistan</td>\n",
       "      <td>Asia</td>\n",
       "      <td>1952</td>\n",
       "      <td>28.801</td>\n",
       "      <td>8425333</td>\n",
       "      <td>779.445314</td>\n",
       "    </tr>\n",
       "    <tr>\n",
       "      <th>1</th>\n",
       "      <td>Afghanistan</td>\n",
       "      <td>Asia</td>\n",
       "      <td>1957</td>\n",
       "      <td>30.332</td>\n",
       "      <td>9240934</td>\n",
       "      <td>820.853030</td>\n",
       "    </tr>\n",
       "    <tr>\n",
       "      <th>2</th>\n",
       "      <td>Afghanistan</td>\n",
       "      <td>Asia</td>\n",
       "      <td>1962</td>\n",
       "      <td>31.997</td>\n",
       "      <td>10267083</td>\n",
       "      <td>853.100710</td>\n",
       "    </tr>\n",
       "    <tr>\n",
       "      <th>3</th>\n",
       "      <td>Afghanistan</td>\n",
       "      <td>Asia</td>\n",
       "      <td>1967</td>\n",
       "      <td>34.020</td>\n",
       "      <td>11537966</td>\n",
       "      <td>836.197138</td>\n",
       "    </tr>\n",
       "    <tr>\n",
       "      <th>4</th>\n",
       "      <td>Afghanistan</td>\n",
       "      <td>Asia</td>\n",
       "      <td>1972</td>\n",
       "      <td>36.088</td>\n",
       "      <td>13079460</td>\n",
       "      <td>739.981106</td>\n",
       "    </tr>\n",
       "  </tbody>\n",
       "</table>\n",
       "</div>"
      ],
      "text/plain": [
       "       country continent  year  lifeExp       pop   gdpPercap\n",
       "0  Afghanistan      Asia  1952   28.801   8425333  779.445314\n",
       "1  Afghanistan      Asia  1957   30.332   9240934  820.853030\n",
       "2  Afghanistan      Asia  1962   31.997  10267083  853.100710\n",
       "3  Afghanistan      Asia  1967   34.020  11537966  836.197138\n",
       "4  Afghanistan      Asia  1972   36.088  13079460  739.981106"
      ]
     },
     "execution_count": 6,
     "metadata": {},
     "output_type": "execute_result"
    }
   ],
   "source": [
    "gapminder = pd.read_csv('./data/gapminder.tsv', sep='\\t')\n",
    "gapminder.head()"
   ]
  },
  {
   "cell_type": "markdown",
   "id": "4ad762a8",
   "metadata": {},
   "source": [
    "### 内置聚合函数使用"
   ]
  },
  {
   "cell_type": "markdown",
   "id": "dc02dedc",
   "metadata": {},
   "source": [
    "**示例：计算每年期望年龄的平均值**"
   ]
  },
  {
   "cell_type": "code",
   "execution_count": null,
   "id": "bce7d064",
   "metadata": {},
   "outputs": [],
   "source": []
  },
  {
   "cell_type": "markdown",
   "id": "f01b8439",
   "metadata": {},
   "source": [
    "**示例：统计每年预期寿命的最小值、最大值和平均值**"
   ]
  },
  {
   "cell_type": "code",
   "execution_count": null,
   "id": "0ca5fa58",
   "metadata": {},
   "outputs": [],
   "source": []
  },
  {
   "cell_type": "markdown",
   "id": "77462056",
   "metadata": {},
   "source": [
    "**示例：统计每年的人均寿命和GDP的最大值**"
   ]
  },
  {
   "cell_type": "code",
   "execution_count": null,
   "id": "c1ca2fea",
   "metadata": {},
   "outputs": [],
   "source": []
  },
  {
   "cell_type": "markdown",
   "id": "5311b333",
   "metadata": {},
   "source": [
    "### 自定义聚合函数使用"
   ]
  },
  {
   "cell_type": "markdown",
   "id": "ce19c29a",
   "metadata": {},
   "source": [
    "**示例：计算每年期望年龄的平均值(自定义聚合函数)**"
   ]
  },
  {
   "cell_type": "code",
   "execution_count": null,
   "id": "1f244855",
   "metadata": {},
   "outputs": [],
   "source": []
  },
  {
   "cell_type": "markdown",
   "id": "7409b8bd",
   "metadata": {},
   "source": [
    "**示例：统计每年的平均年龄和所有平均年龄的差值(自定义聚合函数)**"
   ]
  },
  {
   "cell_type": "code",
   "execution_count": null,
   "id": "474c9a36",
   "metadata": {},
   "outputs": [],
   "source": []
  },
  {
   "cell_type": "markdown",
   "id": "91f531c9",
   "metadata": {},
   "source": [
    "## 分组 transform 转换"
   ]
  },
  {
   "cell_type": "markdown",
   "id": "ee68015b",
   "metadata": {},
   "source": [
    "##### transform 转换，需要把 DataFrame 中的值传递给一个函数， 而后由该函数\"转换\"数据\n",
    "##### aggregate(聚合) 返回单个聚合值，但 transform 不会减少数据量"
   ]
  },
  {
   "cell_type": "markdown",
   "id": "e6919a70",
   "metadata": {},
   "source": [
    "### transform 基本使用"
   ]
  },
  {
   "cell_type": "markdown",
   "id": "adee0e5d",
   "metadata": {},
   "source": [
    "**需求：按年分组，并计算组内每个人的预期寿命和该组平均年龄的差值**"
   ]
  },
  {
   "cell_type": "code",
   "execution_count": null,
   "id": "e5506570",
   "metadata": {},
   "outputs": [],
   "source": []
  },
  {
   "cell_type": "markdown",
   "id": "e2e1f5e8",
   "metadata": {},
   "source": [
    "### transform 案例：分组填充缺失值"
   ]
  },
  {
   "cell_type": "markdown",
   "id": "3f4aa857",
   "metadata": {},
   "source": [
    "**加载 tips.csv 数据集，并从其中随机取出 10 条数据**"
   ]
  },
  {
   "cell_type": "code",
   "execution_count": null,
   "id": "63e091cb",
   "metadata": {},
   "outputs": [],
   "source": []
  },
  {
   "cell_type": "markdown",
   "id": "884088d2",
   "metadata": {},
   "source": [
    "**构建缺失值**"
   ]
  },
  {
   "cell_type": "code",
   "execution_count": null,
   "id": "b2a86fdc",
   "metadata": {},
   "outputs": [],
   "source": []
  },
  {
   "cell_type": "markdown",
   "id": "b96a6c5f",
   "metadata": {},
   "source": [
    "**分组查看缺失情况**"
   ]
  },
  {
   "cell_type": "code",
   "execution_count": null,
   "id": "bee34573",
   "metadata": {},
   "outputs": [],
   "source": []
  },
  {
   "cell_type": "markdown",
   "id": "66d32aa2",
   "metadata": {},
   "source": [
    "**定义函数，按性别分组填充缺失值**"
   ]
  },
  {
   "cell_type": "code",
   "execution_count": null,
   "id": "a71ab60f",
   "metadata": {},
   "outputs": [],
   "source": []
  },
  {
   "cell_type": "markdown",
   "id": "d47e2329",
   "metadata": {},
   "source": [
    "## 分组 filter 过滤"
   ]
  },
  {
   "cell_type": "markdown",
   "id": "8fa80cbe",
   "metadata": {},
   "source": [
    "##### 使用 groupby 方法还可以过滤分组区数据，调用 filter 方法，传入一个返回布尔值的函数，返回 False 的分组数据会被过滤掉"
   ]
  },
  {
   "cell_type": "markdown",
   "id": "99f7ffb7",
   "metadata": {},
   "source": [
    "**使用 tips.csv 用餐数据集，加载数据并不同用餐人数的数量**"
   ]
  },
  {
   "cell_type": "code",
   "execution_count": 19,
   "id": "2adb48fa",
   "metadata": {},
   "outputs": [
    {
     "data": {
      "text/html": [
       "<div>\n",
       "<style scoped>\n",
       "    .dataframe tbody tr th:only-of-type {\n",
       "        vertical-align: middle;\n",
       "    }\n",
       "\n",
       "    .dataframe tbody tr th {\n",
       "        vertical-align: top;\n",
       "    }\n",
       "\n",
       "    .dataframe thead th {\n",
       "        text-align: right;\n",
       "    }\n",
       "</style>\n",
       "<table border=\"1\" class=\"dataframe\">\n",
       "  <thead>\n",
       "    <tr style=\"text-align: right;\">\n",
       "      <th></th>\n",
       "      <th>total_bill</th>\n",
       "      <th>tip</th>\n",
       "      <th>sex</th>\n",
       "      <th>smoker</th>\n",
       "      <th>day</th>\n",
       "      <th>time</th>\n",
       "      <th>size</th>\n",
       "    </tr>\n",
       "  </thead>\n",
       "  <tbody>\n",
       "    <tr>\n",
       "      <th>0</th>\n",
       "      <td>16.99</td>\n",
       "      <td>1.01</td>\n",
       "      <td>Female</td>\n",
       "      <td>No</td>\n",
       "      <td>Sun</td>\n",
       "      <td>Dinner</td>\n",
       "      <td>2</td>\n",
       "    </tr>\n",
       "    <tr>\n",
       "      <th>1</th>\n",
       "      <td>10.34</td>\n",
       "      <td>1.66</td>\n",
       "      <td>Male</td>\n",
       "      <td>No</td>\n",
       "      <td>Sun</td>\n",
       "      <td>Dinner</td>\n",
       "      <td>3</td>\n",
       "    </tr>\n",
       "    <tr>\n",
       "      <th>2</th>\n",
       "      <td>21.01</td>\n",
       "      <td>3.50</td>\n",
       "      <td>Male</td>\n",
       "      <td>No</td>\n",
       "      <td>Sun</td>\n",
       "      <td>Dinner</td>\n",
       "      <td>3</td>\n",
       "    </tr>\n",
       "    <tr>\n",
       "      <th>3</th>\n",
       "      <td>23.68</td>\n",
       "      <td>3.31</td>\n",
       "      <td>Male</td>\n",
       "      <td>No</td>\n",
       "      <td>Sun</td>\n",
       "      <td>Dinner</td>\n",
       "      <td>2</td>\n",
       "    </tr>\n",
       "    <tr>\n",
       "      <th>4</th>\n",
       "      <td>24.59</td>\n",
       "      <td>3.61</td>\n",
       "      <td>Female</td>\n",
       "      <td>No</td>\n",
       "      <td>Sun</td>\n",
       "      <td>Dinner</td>\n",
       "      <td>4</td>\n",
       "    </tr>\n",
       "    <tr>\n",
       "      <th>...</th>\n",
       "      <td>...</td>\n",
       "      <td>...</td>\n",
       "      <td>...</td>\n",
       "      <td>...</td>\n",
       "      <td>...</td>\n",
       "      <td>...</td>\n",
       "      <td>...</td>\n",
       "    </tr>\n",
       "    <tr>\n",
       "      <th>239</th>\n",
       "      <td>29.03</td>\n",
       "      <td>5.92</td>\n",
       "      <td>Male</td>\n",
       "      <td>No</td>\n",
       "      <td>Sat</td>\n",
       "      <td>Dinner</td>\n",
       "      <td>3</td>\n",
       "    </tr>\n",
       "    <tr>\n",
       "      <th>240</th>\n",
       "      <td>27.18</td>\n",
       "      <td>2.00</td>\n",
       "      <td>Female</td>\n",
       "      <td>Yes</td>\n",
       "      <td>Sat</td>\n",
       "      <td>Dinner</td>\n",
       "      <td>2</td>\n",
       "    </tr>\n",
       "    <tr>\n",
       "      <th>241</th>\n",
       "      <td>22.67</td>\n",
       "      <td>2.00</td>\n",
       "      <td>Male</td>\n",
       "      <td>Yes</td>\n",
       "      <td>Sat</td>\n",
       "      <td>Dinner</td>\n",
       "      <td>2</td>\n",
       "    </tr>\n",
       "    <tr>\n",
       "      <th>242</th>\n",
       "      <td>17.82</td>\n",
       "      <td>1.75</td>\n",
       "      <td>Male</td>\n",
       "      <td>No</td>\n",
       "      <td>Sat</td>\n",
       "      <td>Dinner</td>\n",
       "      <td>2</td>\n",
       "    </tr>\n",
       "    <tr>\n",
       "      <th>243</th>\n",
       "      <td>18.78</td>\n",
       "      <td>3.00</td>\n",
       "      <td>Female</td>\n",
       "      <td>No</td>\n",
       "      <td>Thur</td>\n",
       "      <td>Dinner</td>\n",
       "      <td>2</td>\n",
       "    </tr>\n",
       "  </tbody>\n",
       "</table>\n",
       "<p>244 rows × 7 columns</p>\n",
       "</div>"
      ],
      "text/plain": [
       "     total_bill   tip     sex smoker   day    time  size\n",
       "0         16.99  1.01  Female     No   Sun  Dinner     2\n",
       "1         10.34  1.66    Male     No   Sun  Dinner     3\n",
       "2         21.01  3.50    Male     No   Sun  Dinner     3\n",
       "3         23.68  3.31    Male     No   Sun  Dinner     2\n",
       "4         24.59  3.61  Female     No   Sun  Dinner     4\n",
       "..          ...   ...     ...    ...   ...     ...   ...\n",
       "239       29.03  5.92    Male     No   Sat  Dinner     3\n",
       "240       27.18  2.00  Female    Yes   Sat  Dinner     2\n",
       "241       22.67  2.00    Male    Yes   Sat  Dinner     2\n",
       "242       17.82  1.75    Male     No   Sat  Dinner     2\n",
       "243       18.78  3.00  Female     No  Thur  Dinner     2\n",
       "\n",
       "[244 rows x 7 columns]"
      ]
     },
     "execution_count": 19,
     "metadata": {},
     "output_type": "execute_result"
    }
   ],
   "source": [
    "tips = pd.read_csv('./data/tips.csv')\n",
    "tips"
   ]
  },
  {
   "cell_type": "markdown",
   "id": "0d1ed2b3",
   "metadata": {},
   "source": [
    "**统计不同用餐人数的数量**"
   ]
  },
  {
   "cell_type": "code",
   "execution_count": null,
   "id": "79d78e9f",
   "metadata": {},
   "outputs": [],
   "source": []
  },
  {
   "cell_type": "markdown",
   "id": "f4f3b241",
   "metadata": {},
   "source": [
    "## DataFrameGroupBy 对象"
   ]
  },
  {
   "cell_type": "markdown",
   "id": "aea4675e",
   "metadata": {},
   "source": [
    "### 分组对象的基本属性和方法"
   ]
  },
  {
   "cell_type": "markdown",
   "id": "323f17a1",
   "metadata": {},
   "source": [
    "**加载 tips.csv 数据集，随机取出其中的 10 条数据**"
   ]
  },
  {
   "cell_type": "code",
   "execution_count": null,
   "id": "c711d440",
   "metadata": {},
   "outputs": [],
   "source": [
    "tips_10 = pd.read_csv('./data/tips.csv').sample(10, random_state=42)\n",
    "tips_10"
   ]
  },
  {
   "cell_type": "code",
   "execution_count": null,
   "id": "19762c90",
   "metadata": {},
   "outputs": [],
   "source": []
  },
  {
   "cell_type": "markdown",
   "id": "e91b998d",
   "metadata": {},
   "source": [
    "### 遍历分组对象"
   ]
  },
  {
   "cell_type": "code",
   "execution_count": null,
   "id": "1bf53d7a",
   "metadata": {},
   "outputs": [],
   "source": []
  },
  {
   "cell_type": "code",
   "execution_count": null,
   "id": "2e6a2777",
   "metadata": {},
   "outputs": [],
   "source": []
  },
  {
   "cell_type": "code",
   "execution_count": null,
   "id": "4b484c70",
   "metadata": {},
   "outputs": [],
   "source": []
  },
  {
   "cell_type": "markdown",
   "id": "7d836e33",
   "metadata": {},
   "source": [
    "### 按照多列进行分组"
   ]
  },
  {
   "cell_type": "code",
   "execution_count": null,
   "id": "1275c13a",
   "metadata": {},
   "outputs": [],
   "source": []
  }
 ],
 "metadata": {
  "kernelspec": {
   "display_name": "Python [conda env:datasci] *",
   "language": "python",
   "name": "conda-env-datasci-py"
  },
  "language_info": {
   "codemirror_mode": {
    "name": "ipython",
    "version": 3
   },
   "file_extension": ".py",
   "mimetype": "text/x-python",
   "name": "python",
   "nbconvert_exporter": "python",
   "pygments_lexer": "ipython3",
   "version": "3.8.12"
  },
  "toc": {
   "base_numbering": 1,
   "nav_menu": {},
   "number_sections": true,
   "sideBar": true,
   "skip_h1_title": false,
   "title_cell": "Table of Contents",
   "title_sidebar": "Contents",
   "toc_cell": false,
   "toc_position": {},
   "toc_section_display": true,
   "toc_window_display": true
  }
 },
 "nbformat": 4,
 "nbformat_minor": 5
}
