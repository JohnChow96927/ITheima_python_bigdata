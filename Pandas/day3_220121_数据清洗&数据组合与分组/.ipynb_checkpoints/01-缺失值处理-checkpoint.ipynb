{
 "cells": [
  {
   "cell_type": "code",
   "execution_count": 1,
   "id": "73b57e56",
   "metadata": {},
   "outputs": [],
   "source": [
    "import pandas as pd"
   ]
  },
  {
   "cell_type": "markdown",
   "id": "40b48e7c",
   "metadata": {},
   "source": [
    "# 缺失值处理"
   ]
  },
  {
   "cell_type": "code",
   "execution_count": 2,
   "id": "4cb8571f",
   "metadata": {},
   "outputs": [
    {
     "data": {
      "text/html": [
       "<div>\n",
       "<style scoped>\n",
       "    .dataframe tbody tr th:only-of-type {\n",
       "        vertical-align: middle;\n",
       "    }\n",
       "\n",
       "    .dataframe tbody tr th {\n",
       "        vertical-align: top;\n",
       "    }\n",
       "\n",
       "    .dataframe thead th {\n",
       "        text-align: right;\n",
       "    }\n",
       "</style>\n",
       "<table border=\"1\" class=\"dataframe\">\n",
       "  <thead>\n",
       "    <tr style=\"text-align: right;\">\n",
       "      <th></th>\n",
       "      <th>PassengerId</th>\n",
       "      <th>Survived</th>\n",
       "      <th>Pclass</th>\n",
       "      <th>Name</th>\n",
       "      <th>Sex</th>\n",
       "      <th>Age</th>\n",
       "      <th>SibSp</th>\n",
       "      <th>Parch</th>\n",
       "      <th>Ticket</th>\n",
       "      <th>Fare</th>\n",
       "      <th>Cabin</th>\n",
       "      <th>Embarked</th>\n",
       "    </tr>\n",
       "  </thead>\n",
       "  <tbody>\n",
       "    <tr>\n",
       "      <th>0</th>\n",
       "      <td>1</td>\n",
       "      <td>0</td>\n",
       "      <td>3</td>\n",
       "      <td>Braund, Mr. Owen Harris</td>\n",
       "      <td>male</td>\n",
       "      <td>22.0</td>\n",
       "      <td>1</td>\n",
       "      <td>0</td>\n",
       "      <td>A/5 21171</td>\n",
       "      <td>7.2500</td>\n",
       "      <td>NaN</td>\n",
       "      <td>S</td>\n",
       "    </tr>\n",
       "    <tr>\n",
       "      <th>1</th>\n",
       "      <td>2</td>\n",
       "      <td>1</td>\n",
       "      <td>1</td>\n",
       "      <td>Cumings, Mrs. John Bradley (Florence Briggs Th...</td>\n",
       "      <td>female</td>\n",
       "      <td>38.0</td>\n",
       "      <td>1</td>\n",
       "      <td>0</td>\n",
       "      <td>PC 17599</td>\n",
       "      <td>71.2833</td>\n",
       "      <td>C85</td>\n",
       "      <td>C</td>\n",
       "    </tr>\n",
       "    <tr>\n",
       "      <th>2</th>\n",
       "      <td>3</td>\n",
       "      <td>1</td>\n",
       "      <td>3</td>\n",
       "      <td>Heikkinen, Miss. Laina</td>\n",
       "      <td>female</td>\n",
       "      <td>26.0</td>\n",
       "      <td>0</td>\n",
       "      <td>0</td>\n",
       "      <td>STON/O2. 3101282</td>\n",
       "      <td>7.9250</td>\n",
       "      <td>NaN</td>\n",
       "      <td>S</td>\n",
       "    </tr>\n",
       "    <tr>\n",
       "      <th>3</th>\n",
       "      <td>4</td>\n",
       "      <td>1</td>\n",
       "      <td>1</td>\n",
       "      <td>Futrelle, Mrs. Jacques Heath (Lily May Peel)</td>\n",
       "      <td>female</td>\n",
       "      <td>35.0</td>\n",
       "      <td>1</td>\n",
       "      <td>0</td>\n",
       "      <td>113803</td>\n",
       "      <td>53.1000</td>\n",
       "      <td>C123</td>\n",
       "      <td>S</td>\n",
       "    </tr>\n",
       "    <tr>\n",
       "      <th>4</th>\n",
       "      <td>5</td>\n",
       "      <td>0</td>\n",
       "      <td>3</td>\n",
       "      <td>Allen, Mr. William Henry</td>\n",
       "      <td>male</td>\n",
       "      <td>35.0</td>\n",
       "      <td>0</td>\n",
       "      <td>0</td>\n",
       "      <td>373450</td>\n",
       "      <td>8.0500</td>\n",
       "      <td>NaN</td>\n",
       "      <td>S</td>\n",
       "    </tr>\n",
       "  </tbody>\n",
       "</table>\n",
       "</div>"
      ],
      "text/plain": [
       "   PassengerId  Survived  Pclass  \\\n",
       "0            1         0       3   \n",
       "1            2         1       1   \n",
       "2            3         1       3   \n",
       "3            4         1       1   \n",
       "4            5         0       3   \n",
       "\n",
       "                                                Name     Sex   Age  SibSp  \\\n",
       "0                            Braund, Mr. Owen Harris    male  22.0      1   \n",
       "1  Cumings, Mrs. John Bradley (Florence Briggs Th...  female  38.0      1   \n",
       "2                             Heikkinen, Miss. Laina  female  26.0      0   \n",
       "3       Futrelle, Mrs. Jacques Heath (Lily May Peel)  female  35.0      1   \n",
       "4                           Allen, Mr. William Henry    male  35.0      0   \n",
       "\n",
       "   Parch            Ticket     Fare Cabin Embarked  \n",
       "0      0         A/5 21171   7.2500   NaN        S  \n",
       "1      0          PC 17599  71.2833   C85        C  \n",
       "2      0  STON/O2. 3101282   7.9250   NaN        S  \n",
       "3      0            113803  53.1000  C123        S  \n",
       "4      0            373450   8.0500   NaN        S  "
      ]
     },
     "execution_count": 2,
     "metadata": {},
     "output_type": "execute_result"
    }
   ],
   "source": [
    "# 加载数据\n",
    "train = pd.read_csv('./data/titanic_train.csv')\n",
    "train.head()"
   ]
  },
  {
   "cell_type": "code",
   "execution_count": 3,
   "id": "6534c967",
   "metadata": {},
   "outputs": [],
   "source": [
    "# 缺失情况统计函数\n",
    "def missing_values_table(df):\n",
    "    # 计算所有的缺失值\n",
    "    mis_val = df.isnull().sum()\n",
    "\n",
    "    # 计算缺失值的比例\n",
    "    mis_val_percent = 100 * mis_val / len(df)\n",
    "\n",
    "    # 将结果拼接成 DataFrame\n",
    "    mis_val_table = pd.concat([mis_val, mis_val_percent], axis=1)\n",
    "\n",
    "    # 将列重命名\n",
    "    mis_val_table.columns = ['缺失值', '占比(%)']\n",
    "\n",
    "    # 将缺失值为0的列去除，并按照缺失值占比进行排序\n",
    "    mis_val_table_sorted = mis_val_table[mis_val_table['缺失值']!=0].sort_values(\n",
    "        '占比(%)', ascending=False)\n",
    "\n",
    "    # 打印信息\n",
    "    print(f'传入的数据集共{df.shape[1]}列，\\n其中{mis_val_table_sorted.shape[0]}列有缺失值')\n",
    "\n",
    "    return mis_val_table_sorted"
   ]
  },
  {
   "cell_type": "code",
   "execution_count": 4,
   "id": "b4e3cc5c",
   "metadata": {},
   "outputs": [
    {
     "name": "stdout",
     "output_type": "stream",
     "text": [
      "传入的数据集共12列，\n",
      "其中3列有缺失值\n"
     ]
    },
    {
     "data": {
      "text/html": [
       "<div>\n",
       "<style scoped>\n",
       "    .dataframe tbody tr th:only-of-type {\n",
       "        vertical-align: middle;\n",
       "    }\n",
       "\n",
       "    .dataframe tbody tr th {\n",
       "        vertical-align: top;\n",
       "    }\n",
       "\n",
       "    .dataframe thead th {\n",
       "        text-align: right;\n",
       "    }\n",
       "</style>\n",
       "<table border=\"1\" class=\"dataframe\">\n",
       "  <thead>\n",
       "    <tr style=\"text-align: right;\">\n",
       "      <th></th>\n",
       "      <th>缺失值</th>\n",
       "      <th>占比(%)</th>\n",
       "    </tr>\n",
       "  </thead>\n",
       "  <tbody>\n",
       "    <tr>\n",
       "      <th>Cabin</th>\n",
       "      <td>687</td>\n",
       "      <td>77.104377</td>\n",
       "    </tr>\n",
       "    <tr>\n",
       "      <th>Age</th>\n",
       "      <td>177</td>\n",
       "      <td>19.865320</td>\n",
       "    </tr>\n",
       "    <tr>\n",
       "      <th>Embarked</th>\n",
       "      <td>2</td>\n",
       "      <td>0.224467</td>\n",
       "    </tr>\n",
       "  </tbody>\n",
       "</table>\n",
       "</div>"
      ],
      "text/plain": [
       "          缺失值      占比(%)\n",
       "Cabin     687  77.104377\n",
       "Age       177  19.865320\n",
       "Embarked    2   0.224467"
      ]
     },
     "execution_count": 4,
     "metadata": {},
     "output_type": "execute_result"
    }
   ],
   "source": [
    "missing_values_table(train)"
   ]
  },
  {
   "cell_type": "markdown",
   "id": "bae65f44",
   "metadata": {},
   "source": [
    "## 删除方式"
   ]
  },
  {
   "cell_type": "markdown",
   "id": "4a2b39a5",
   "metadata": {},
   "source": [
    "### 删除含有缺失值的行"
   ]
  },
  {
   "cell_type": "markdown",
   "id": "1e294fe4",
   "metadata": {},
   "source": [
    "**按行删除：删除指定列为缺失值的行记录，当数据记录比较多，而缺失的行占比较小时，可以考虑删除含有缺失值的行**"
   ]
  },
  {
   "cell_type": "code",
   "execution_count": null,
   "id": "6dc8a586",
   "metadata": {},
   "outputs": [],
   "source": []
  },
  {
   "cell_type": "markdown",
   "id": "38cc2aed",
   "metadata": {},
   "source": [
    "### 删除含有缺失值的列"
   ]
  },
  {
   "cell_type": "markdown",
   "id": "80d47f68",
   "metadata": {},
   "source": [
    "**按列删除：当一列包含了很多缺失值的时候（比如超过80%），可以使用df.drop(['列名',..], axis=1)函数将指定列删除，但最好不要删除数据**"
   ]
  },
  {
   "cell_type": "code",
   "execution_count": null,
   "id": "32eae54d",
   "metadata": {},
   "outputs": [],
   "source": []
  },
  {
   "cell_type": "markdown",
   "id": "d01cab0e",
   "metadata": {},
   "source": [
    "## 填充方式"
   ]
  },
  {
   "cell_type": "markdown",
   "id": "e93d631d",
   "metadata": {},
   "source": [
    "### 非时序数据"
   ]
  },
  {
   "cell_type": "markdown",
   "id": "a58918b6",
   "metadata": {},
   "source": [
    "#### 填充常量值"
   ]
  },
  {
   "cell_type": "code",
   "execution_count": null,
   "id": "f0e2959b",
   "metadata": {},
   "outputs": [],
   "source": []
  },
  {
   "cell_type": "markdown",
   "id": "74b5553a",
   "metadata": {},
   "source": [
    "#### 填充统计值(缺失值所处列的平均值、中位数、众数)"
   ]
  },
  {
   "cell_type": "code",
   "execution_count": null,
   "id": "17b0bd67",
   "metadata": {},
   "outputs": [],
   "source": []
  },
  {
   "cell_type": "markdown",
   "id": "57a29ebb",
   "metadata": {},
   "source": [
    "### 时序数据"
   ]
  },
  {
   "cell_type": "markdown",
   "id": "cfe79a5c",
   "metadata": {},
   "source": [
    "#### 前项填充"
   ]
  },
  {
   "cell_type": "markdown",
   "id": "7cdb94f3",
   "metadata": {},
   "source": [
    "**前项填充：使用缺失值之前的第一个非缺失值进行填充**"
   ]
  },
  {
   "cell_type": "code",
   "execution_count": null,
   "id": "2e6210f1",
   "metadata": {},
   "outputs": [],
   "source": []
  },
  {
   "cell_type": "markdown",
   "id": "4cf85ce6",
   "metadata": {},
   "source": [
    "#### 后项填充"
   ]
  },
  {
   "cell_type": "markdown",
   "id": "e9a00548",
   "metadata": {},
   "source": [
    "**后项填充：使用缺失值之后的第一个非缺失值进行填充**"
   ]
  },
  {
   "cell_type": "code",
   "execution_count": null,
   "id": "9acf66d2",
   "metadata": {},
   "outputs": [],
   "source": []
  },
  {
   "cell_type": "markdown",
   "id": "0ebfa72f",
   "metadata": {},
   "source": [
    "#### 线性插值填充"
   ]
  },
  {
   "cell_type": "markdown",
   "id": "c0f3bc06",
   "metadata": {},
   "source": [
    "**线性插值填充：使用缺失值两端的非缺失值，建立线性关系，利用线性关系填充值**"
   ]
  },
  {
   "cell_type": "code",
   "execution_count": null,
   "id": "8ec93365",
   "metadata": {},
   "outputs": [],
   "source": []
  }
 ],
 "metadata": {
  "kernelspec": {
   "display_name": "Python [conda env:datasci] *",
   "language": "python",
   "name": "conda-env-datasci-py"
  },
  "language_info": {
   "codemirror_mode": {
    "name": "ipython",
    "version": 3
   },
   "file_extension": ".py",
   "mimetype": "text/x-python",
   "name": "python",
   "nbconvert_exporter": "python",
   "pygments_lexer": "ipython3",
   "version": "3.8.12"
  },
  "toc": {
   "base_numbering": 1,
   "nav_menu": {},
   "number_sections": true,
   "sideBar": true,
   "skip_h1_title": false,
   "title_cell": "Table of Contents",
   "title_sidebar": "Contents",
   "toc_cell": false,
   "toc_position": {},
   "toc_section_display": true,
   "toc_window_display": true
  }
 },
 "nbformat": 4,
 "nbformat_minor": 5
}
