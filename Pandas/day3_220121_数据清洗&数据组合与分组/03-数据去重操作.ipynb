{
 "cells": [
  {
   "cell_type": "code",
   "execution_count": 1,
   "id": "fd9736f1",
   "metadata": {},
   "outputs": [],
   "source": [
    "import pandas as pd"
   ]
  },
  {
   "cell_type": "markdown",
   "id": "bbbcbc9e",
   "metadata": {},
   "source": [
    "# 数据去重操作"
   ]
  },
  {
   "cell_type": "markdown",
   "id": "08c8538b",
   "metadata": {},
   "source": [
    "## Series 的去重操作"
   ]
  },
  {
   "cell_type": "code",
   "execution_count": 2,
   "id": "dde9034c",
   "metadata": {},
   "outputs": [
    {
     "data": {
      "text/plain": [
       "0     1\n",
       "1     3\n",
       "2     2\n",
       "3     4\n",
       "4     3\n",
       "5     5\n",
       "6     1\n",
       "7     8\n",
       "8     9\n",
       "9     7\n",
       "10    8\n",
       "dtype: int64"
      ]
     },
     "execution_count": 2,
     "metadata": {},
     "output_type": "execute_result"
    }
   ],
   "source": [
    "# 创建一个 Series 数据\n",
    "new_series = pd.Series([1, 3, 2, 4, 3, 5, 1, 8, 9, 7, 8])\n",
    "new_series"
   ]
  },
  {
   "cell_type": "markdown",
   "id": "c71683dc",
   "metadata": {},
   "source": [
    "**示例1：删除 Series 数据中重复的元素**"
   ]
  },
  {
   "cell_type": "code",
   "execution_count": 4,
   "id": "aee3df91",
   "metadata": {},
   "outputs": [
    {
     "data": {
      "text/plain": [
       "0    1\n",
       "1    3\n",
       "2    2\n",
       "3    4\n",
       "5    5\n",
       "7    8\n",
       "8    9\n",
       "9    7\n",
       "dtype: int64"
      ]
     },
     "execution_count": 4,
     "metadata": {},
     "output_type": "execute_result"
    }
   ],
   "source": [
    "# 使用 drop_duplicates 删除 Series 中重复的元素\n",
    "new_series.drop_duplicates()"
   ]
  },
  {
   "cell_type": "code",
   "execution_count": 5,
   "id": "07b61b55",
   "metadata": {},
   "outputs": [
    {
     "data": {
      "text/plain": [
       "array([1, 3, 2, 4, 5, 8, 9, 7])"
      ]
     },
     "execution_count": 5,
     "metadata": {},
     "output_type": "execute_result"
    }
   ],
   "source": [
    "# 使用 unique 对 Series 中的数据去重\n",
    "new_series.unique()"
   ]
  },
  {
   "cell_type": "markdown",
   "id": "c57568af",
   "metadata": {},
   "source": [
    "## Dataframe 的去重操作"
   ]
  },
  {
   "cell_type": "code",
   "execution_count": 3,
   "id": "5ce6de64",
   "metadata": {},
   "outputs": [
    {
     "data": {
      "text/html": [
       "<div>\n",
       "<style scoped>\n",
       "    .dataframe tbody tr th:only-of-type {\n",
       "        vertical-align: middle;\n",
       "    }\n",
       "\n",
       "    .dataframe tbody tr th {\n",
       "        vertical-align: top;\n",
       "    }\n",
       "\n",
       "    .dataframe thead th {\n",
       "        text-align: right;\n",
       "    }\n",
       "</style>\n",
       "<table border=\"1\" class=\"dataframe\">\n",
       "  <thead>\n",
       "    <tr style=\"text-align: right;\">\n",
       "      <th></th>\n",
       "      <th>Name</th>\n",
       "      <th>Born</th>\n",
       "      <th>Died</th>\n",
       "      <th>Age</th>\n",
       "      <th>Occupation</th>\n",
       "    </tr>\n",
       "  </thead>\n",
       "  <tbody>\n",
       "    <tr>\n",
       "      <th>0</th>\n",
       "      <td>Rosaline Franklin</td>\n",
       "      <td>1920/7/25</td>\n",
       "      <td>1958/4/16</td>\n",
       "      <td>37.0</td>\n",
       "      <td>Chemist</td>\n",
       "    </tr>\n",
       "    <tr>\n",
       "      <th>1</th>\n",
       "      <td>William Gosset</td>\n",
       "      <td>1876-06-13</td>\n",
       "      <td>1937/10/16</td>\n",
       "      <td>61.0</td>\n",
       "      <td>Statistician</td>\n",
       "    </tr>\n",
       "    <tr>\n",
       "      <th>2</th>\n",
       "      <td>Florence Nightingale</td>\n",
       "      <td>1820-05-12</td>\n",
       "      <td>1910/8/13</td>\n",
       "      <td>90.0</td>\n",
       "      <td>Nurse</td>\n",
       "    </tr>\n",
       "    <tr>\n",
       "      <th>3</th>\n",
       "      <td>Marie Curie</td>\n",
       "      <td>1867-11-07</td>\n",
       "      <td>1934/7/4</td>\n",
       "      <td>66.0</td>\n",
       "      <td>Chemist</td>\n",
       "    </tr>\n",
       "    <tr>\n",
       "      <th>4</th>\n",
       "      <td>Rachel Carson</td>\n",
       "      <td>1907/5/27</td>\n",
       "      <td>1964/4/14</td>\n",
       "      <td>56.0</td>\n",
       "      <td>Biologist</td>\n",
       "    </tr>\n",
       "    <tr>\n",
       "      <th>5</th>\n",
       "      <td>John Snow</td>\n",
       "      <td>1813-03-15</td>\n",
       "      <td>1858-06-16</td>\n",
       "      <td>45.0</td>\n",
       "      <td>Physician</td>\n",
       "    </tr>\n",
       "    <tr>\n",
       "      <th>6</th>\n",
       "      <td>Alan Turing</td>\n",
       "      <td>NaN</td>\n",
       "      <td>1954/6/7</td>\n",
       "      <td>41.0</td>\n",
       "      <td>Computer Scientist</td>\n",
       "    </tr>\n",
       "    <tr>\n",
       "      <th>7</th>\n",
       "      <td>Johann Gauss</td>\n",
       "      <td>1777-04-30</td>\n",
       "      <td>1855-02-23</td>\n",
       "      <td>77.0</td>\n",
       "      <td>Mathematician</td>\n",
       "    </tr>\n",
       "    <tr>\n",
       "      <th>8</th>\n",
       "      <td>Florence Nightingale</td>\n",
       "      <td>1820-05-12</td>\n",
       "      <td>1910/8/13</td>\n",
       "      <td>90.0</td>\n",
       "      <td>Nurse</td>\n",
       "    </tr>\n",
       "    <tr>\n",
       "      <th>9</th>\n",
       "      <td>John Snow</td>\n",
       "      <td>1813-03-15</td>\n",
       "      <td>1858-06-16</td>\n",
       "      <td>NaN</td>\n",
       "      <td>Physician</td>\n",
       "    </tr>\n",
       "  </tbody>\n",
       "</table>\n",
       "</div>"
      ],
      "text/plain": [
       "                   Name        Born        Died   Age          Occupation\n",
       "0     Rosaline Franklin   1920/7/25   1958/4/16  37.0             Chemist\n",
       "1        William Gosset  1876-06-13  1937/10/16  61.0        Statistician\n",
       "2  Florence Nightingale  1820-05-12   1910/8/13  90.0               Nurse\n",
       "3           Marie Curie  1867-11-07    1934/7/4  66.0             Chemist\n",
       "4         Rachel Carson   1907/5/27   1964/4/14  56.0           Biologist\n",
       "5             John Snow  1813-03-15  1858-06-16  45.0           Physician\n",
       "6           Alan Turing         NaN    1954/6/7  41.0  Computer Scientist\n",
       "7          Johann Gauss  1777-04-30  1855-02-23  77.0       Mathematician\n",
       "8  Florence Nightingale  1820-05-12   1910/8/13  90.0               Nurse\n",
       "9             John Snow  1813-03-15  1858-06-16   NaN           Physician"
      ]
     },
     "execution_count": 3,
     "metadata": {},
     "output_type": "execute_result"
    }
   ],
   "source": [
    "scientists = pd.read_csv('./data/scientists_duplicates.csv')\n",
    "scientists"
   ]
  },
  {
   "cell_type": "markdown",
   "id": "3eb1214a",
   "metadata": {},
   "source": [
    "**示例1：删除 DataFrame 数据中完全重复的行**"
   ]
  },
  {
   "cell_type": "code",
   "execution_count": 6,
   "id": "96ef6292",
   "metadata": {},
   "outputs": [
    {
     "data": {
      "text/html": [
       "<div>\n",
       "<style scoped>\n",
       "    .dataframe tbody tr th:only-of-type {\n",
       "        vertical-align: middle;\n",
       "    }\n",
       "\n",
       "    .dataframe tbody tr th {\n",
       "        vertical-align: top;\n",
       "    }\n",
       "\n",
       "    .dataframe thead th {\n",
       "        text-align: right;\n",
       "    }\n",
       "</style>\n",
       "<table border=\"1\" class=\"dataframe\">\n",
       "  <thead>\n",
       "    <tr style=\"text-align: right;\">\n",
       "      <th></th>\n",
       "      <th>Name</th>\n",
       "      <th>Born</th>\n",
       "      <th>Died</th>\n",
       "      <th>Age</th>\n",
       "      <th>Occupation</th>\n",
       "    </tr>\n",
       "  </thead>\n",
       "  <tbody>\n",
       "    <tr>\n",
       "      <th>0</th>\n",
       "      <td>Rosaline Franklin</td>\n",
       "      <td>1920/7/25</td>\n",
       "      <td>1958/4/16</td>\n",
       "      <td>37.0</td>\n",
       "      <td>Chemist</td>\n",
       "    </tr>\n",
       "    <tr>\n",
       "      <th>1</th>\n",
       "      <td>William Gosset</td>\n",
       "      <td>1876-06-13</td>\n",
       "      <td>1937/10/16</td>\n",
       "      <td>61.0</td>\n",
       "      <td>Statistician</td>\n",
       "    </tr>\n",
       "    <tr>\n",
       "      <th>2</th>\n",
       "      <td>Florence Nightingale</td>\n",
       "      <td>1820-05-12</td>\n",
       "      <td>1910/8/13</td>\n",
       "      <td>90.0</td>\n",
       "      <td>Nurse</td>\n",
       "    </tr>\n",
       "    <tr>\n",
       "      <th>3</th>\n",
       "      <td>Marie Curie</td>\n",
       "      <td>1867-11-07</td>\n",
       "      <td>1934/7/4</td>\n",
       "      <td>66.0</td>\n",
       "      <td>Chemist</td>\n",
       "    </tr>\n",
       "    <tr>\n",
       "      <th>4</th>\n",
       "      <td>Rachel Carson</td>\n",
       "      <td>1907/5/27</td>\n",
       "      <td>1964/4/14</td>\n",
       "      <td>56.0</td>\n",
       "      <td>Biologist</td>\n",
       "    </tr>\n",
       "    <tr>\n",
       "      <th>5</th>\n",
       "      <td>John Snow</td>\n",
       "      <td>1813-03-15</td>\n",
       "      <td>1858-06-16</td>\n",
       "      <td>45.0</td>\n",
       "      <td>Physician</td>\n",
       "    </tr>\n",
       "    <tr>\n",
       "      <th>6</th>\n",
       "      <td>Alan Turing</td>\n",
       "      <td>NaN</td>\n",
       "      <td>1954/6/7</td>\n",
       "      <td>41.0</td>\n",
       "      <td>Computer Scientist</td>\n",
       "    </tr>\n",
       "    <tr>\n",
       "      <th>7</th>\n",
       "      <td>Johann Gauss</td>\n",
       "      <td>1777-04-30</td>\n",
       "      <td>1855-02-23</td>\n",
       "      <td>77.0</td>\n",
       "      <td>Mathematician</td>\n",
       "    </tr>\n",
       "    <tr>\n",
       "      <th>9</th>\n",
       "      <td>John Snow</td>\n",
       "      <td>1813-03-15</td>\n",
       "      <td>1858-06-16</td>\n",
       "      <td>NaN</td>\n",
       "      <td>Physician</td>\n",
       "    </tr>\n",
       "  </tbody>\n",
       "</table>\n",
       "</div>"
      ],
      "text/plain": [
       "                   Name        Born        Died   Age          Occupation\n",
       "0     Rosaline Franklin   1920/7/25   1958/4/16  37.0             Chemist\n",
       "1        William Gosset  1876-06-13  1937/10/16  61.0        Statistician\n",
       "2  Florence Nightingale  1820-05-12   1910/8/13  90.0               Nurse\n",
       "3           Marie Curie  1867-11-07    1934/7/4  66.0             Chemist\n",
       "4         Rachel Carson   1907/5/27   1964/4/14  56.0           Biologist\n",
       "5             John Snow  1813-03-15  1858-06-16  45.0           Physician\n",
       "6           Alan Turing         NaN    1954/6/7  41.0  Computer Scientist\n",
       "7          Johann Gauss  1777-04-30  1855-02-23  77.0       Mathematician\n",
       "9             John Snow  1813-03-15  1858-06-16   NaN           Physician"
      ]
     },
     "execution_count": 6,
     "metadata": {},
     "output_type": "execute_result"
    }
   ],
   "source": [
    "# 注意：此处是返回了一个新的 DataFrame，原 DataFrame 的数据并没有改变\n",
    "scientists.drop_duplicates()"
   ]
  },
  {
   "cell_type": "markdown",
   "id": "6c4fc484",
   "metadata": {},
   "source": [
    "**示例2：删除 DataFrame 数据中 Name、Born、Died 三列相同的行**"
   ]
  },
  {
   "cell_type": "code",
   "execution_count": 7,
   "id": "c9d31869",
   "metadata": {},
   "outputs": [
    {
     "data": {
      "text/html": [
       "<div>\n",
       "<style scoped>\n",
       "    .dataframe tbody tr th:only-of-type {\n",
       "        vertical-align: middle;\n",
       "    }\n",
       "\n",
       "    .dataframe tbody tr th {\n",
       "        vertical-align: top;\n",
       "    }\n",
       "\n",
       "    .dataframe thead th {\n",
       "        text-align: right;\n",
       "    }\n",
       "</style>\n",
       "<table border=\"1\" class=\"dataframe\">\n",
       "  <thead>\n",
       "    <tr style=\"text-align: right;\">\n",
       "      <th></th>\n",
       "      <th>Name</th>\n",
       "      <th>Born</th>\n",
       "      <th>Died</th>\n",
       "      <th>Age</th>\n",
       "      <th>Occupation</th>\n",
       "    </tr>\n",
       "  </thead>\n",
       "  <tbody>\n",
       "    <tr>\n",
       "      <th>0</th>\n",
       "      <td>Rosaline Franklin</td>\n",
       "      <td>1920/7/25</td>\n",
       "      <td>1958/4/16</td>\n",
       "      <td>37.0</td>\n",
       "      <td>Chemist</td>\n",
       "    </tr>\n",
       "    <tr>\n",
       "      <th>1</th>\n",
       "      <td>William Gosset</td>\n",
       "      <td>1876-06-13</td>\n",
       "      <td>1937/10/16</td>\n",
       "      <td>61.0</td>\n",
       "      <td>Statistician</td>\n",
       "    </tr>\n",
       "    <tr>\n",
       "      <th>2</th>\n",
       "      <td>Florence Nightingale</td>\n",
       "      <td>1820-05-12</td>\n",
       "      <td>1910/8/13</td>\n",
       "      <td>90.0</td>\n",
       "      <td>Nurse</td>\n",
       "    </tr>\n",
       "    <tr>\n",
       "      <th>3</th>\n",
       "      <td>Marie Curie</td>\n",
       "      <td>1867-11-07</td>\n",
       "      <td>1934/7/4</td>\n",
       "      <td>66.0</td>\n",
       "      <td>Chemist</td>\n",
       "    </tr>\n",
       "    <tr>\n",
       "      <th>4</th>\n",
       "      <td>Rachel Carson</td>\n",
       "      <td>1907/5/27</td>\n",
       "      <td>1964/4/14</td>\n",
       "      <td>56.0</td>\n",
       "      <td>Biologist</td>\n",
       "    </tr>\n",
       "    <tr>\n",
       "      <th>5</th>\n",
       "      <td>John Snow</td>\n",
       "      <td>1813-03-15</td>\n",
       "      <td>1858-06-16</td>\n",
       "      <td>45.0</td>\n",
       "      <td>Physician</td>\n",
       "    </tr>\n",
       "    <tr>\n",
       "      <th>6</th>\n",
       "      <td>Alan Turing</td>\n",
       "      <td>NaN</td>\n",
       "      <td>1954/6/7</td>\n",
       "      <td>41.0</td>\n",
       "      <td>Computer Scientist</td>\n",
       "    </tr>\n",
       "    <tr>\n",
       "      <th>7</th>\n",
       "      <td>Johann Gauss</td>\n",
       "      <td>1777-04-30</td>\n",
       "      <td>1855-02-23</td>\n",
       "      <td>77.0</td>\n",
       "      <td>Mathematician</td>\n",
       "    </tr>\n",
       "  </tbody>\n",
       "</table>\n",
       "</div>"
      ],
      "text/plain": [
       "                   Name        Born        Died   Age          Occupation\n",
       "0     Rosaline Franklin   1920/7/25   1958/4/16  37.0             Chemist\n",
       "1        William Gosset  1876-06-13  1937/10/16  61.0        Statistician\n",
       "2  Florence Nightingale  1820-05-12   1910/8/13  90.0               Nurse\n",
       "3           Marie Curie  1867-11-07    1934/7/4  66.0             Chemist\n",
       "4         Rachel Carson   1907/5/27   1964/4/14  56.0           Biologist\n",
       "5             John Snow  1813-03-15  1858-06-16  45.0           Physician\n",
       "6           Alan Turing         NaN    1954/6/7  41.0  Computer Scientist\n",
       "7          Johann Gauss  1777-04-30  1855-02-23  77.0       Mathematician"
      ]
     },
     "execution_count": 7,
     "metadata": {},
     "output_type": "execute_result"
    }
   ],
   "source": [
    "# 删除指定列值相同的行\n",
    "scientists.drop_duplicates(subset=['Name', 'Born', 'Died'])"
   ]
  }
 ],
 "metadata": {
  "kernelspec": {
   "display_name": "Python [conda env:datasci] *",
   "language": "python",
   "name": "conda-env-datasci-py"
  },
  "language_info": {
   "codemirror_mode": {
    "name": "ipython",
    "version": 3
   },
   "file_extension": ".py",
   "mimetype": "text/x-python",
   "name": "python",
   "nbconvert_exporter": "python",
   "pygments_lexer": "ipython3",
   "version": "3.8.12"
  },
  "toc": {
   "base_numbering": 1,
   "nav_menu": {},
   "number_sections": true,
   "sideBar": true,
   "skip_h1_title": false,
   "title_cell": "Table of Contents",
   "title_sidebar": "Contents",
   "toc_cell": false,
   "toc_position": {},
   "toc_section_display": true,
   "toc_window_display": false
  }
 },
 "nbformat": 4,
 "nbformat_minor": 5
}
