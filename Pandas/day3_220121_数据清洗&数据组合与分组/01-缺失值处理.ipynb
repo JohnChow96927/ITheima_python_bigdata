{
 "cells": [
  {
   "cell_type": "code",
   "execution_count": 1,
   "id": "73b57e56",
   "metadata": {},
   "outputs": [],
   "source": [
    "import pandas as pd\n",
    "import missingno as msno"
   ]
  },
  {
   "cell_type": "markdown",
   "id": "40b48e7c",
   "metadata": {},
   "source": [
    "# 缺失值处理"
   ]
  },
  {
   "cell_type": "code",
   "execution_count": 2,
   "id": "4cb8571f",
   "metadata": {},
   "outputs": [
    {
     "data": {
      "text/html": [
       "<div>\n",
       "<style scoped>\n",
       "    .dataframe tbody tr th:only-of-type {\n",
       "        vertical-align: middle;\n",
       "    }\n",
       "\n",
       "    .dataframe tbody tr th {\n",
       "        vertical-align: top;\n",
       "    }\n",
       "\n",
       "    .dataframe thead th {\n",
       "        text-align: right;\n",
       "    }\n",
       "</style>\n",
       "<table border=\"1\" class=\"dataframe\">\n",
       "  <thead>\n",
       "    <tr style=\"text-align: right;\">\n",
       "      <th></th>\n",
       "      <th>PassengerId</th>\n",
       "      <th>Survived</th>\n",
       "      <th>Pclass</th>\n",
       "      <th>Name</th>\n",
       "      <th>Sex</th>\n",
       "      <th>Age</th>\n",
       "      <th>SibSp</th>\n",
       "      <th>Parch</th>\n",
       "      <th>Ticket</th>\n",
       "      <th>Fare</th>\n",
       "      <th>Cabin</th>\n",
       "      <th>Embarked</th>\n",
       "    </tr>\n",
       "  </thead>\n",
       "  <tbody>\n",
       "    <tr>\n",
       "      <th>0</th>\n",
       "      <td>1</td>\n",
       "      <td>0</td>\n",
       "      <td>3</td>\n",
       "      <td>Braund, Mr. Owen Harris</td>\n",
       "      <td>male</td>\n",
       "      <td>22.0</td>\n",
       "      <td>1</td>\n",
       "      <td>0</td>\n",
       "      <td>A/5 21171</td>\n",
       "      <td>7.2500</td>\n",
       "      <td>NaN</td>\n",
       "      <td>S</td>\n",
       "    </tr>\n",
       "    <tr>\n",
       "      <th>1</th>\n",
       "      <td>2</td>\n",
       "      <td>1</td>\n",
       "      <td>1</td>\n",
       "      <td>Cumings, Mrs. John Bradley (Florence Briggs Th...</td>\n",
       "      <td>female</td>\n",
       "      <td>38.0</td>\n",
       "      <td>1</td>\n",
       "      <td>0</td>\n",
       "      <td>PC 17599</td>\n",
       "      <td>71.2833</td>\n",
       "      <td>C85</td>\n",
       "      <td>C</td>\n",
       "    </tr>\n",
       "    <tr>\n",
       "      <th>2</th>\n",
       "      <td>3</td>\n",
       "      <td>1</td>\n",
       "      <td>3</td>\n",
       "      <td>Heikkinen, Miss. Laina</td>\n",
       "      <td>female</td>\n",
       "      <td>26.0</td>\n",
       "      <td>0</td>\n",
       "      <td>0</td>\n",
       "      <td>STON/O2. 3101282</td>\n",
       "      <td>7.9250</td>\n",
       "      <td>NaN</td>\n",
       "      <td>S</td>\n",
       "    </tr>\n",
       "    <tr>\n",
       "      <th>3</th>\n",
       "      <td>4</td>\n",
       "      <td>1</td>\n",
       "      <td>1</td>\n",
       "      <td>Futrelle, Mrs. Jacques Heath (Lily May Peel)</td>\n",
       "      <td>female</td>\n",
       "      <td>35.0</td>\n",
       "      <td>1</td>\n",
       "      <td>0</td>\n",
       "      <td>113803</td>\n",
       "      <td>53.1000</td>\n",
       "      <td>C123</td>\n",
       "      <td>S</td>\n",
       "    </tr>\n",
       "    <tr>\n",
       "      <th>4</th>\n",
       "      <td>5</td>\n",
       "      <td>0</td>\n",
       "      <td>3</td>\n",
       "      <td>Allen, Mr. William Henry</td>\n",
       "      <td>male</td>\n",
       "      <td>35.0</td>\n",
       "      <td>0</td>\n",
       "      <td>0</td>\n",
       "      <td>373450</td>\n",
       "      <td>8.0500</td>\n",
       "      <td>NaN</td>\n",
       "      <td>S</td>\n",
       "    </tr>\n",
       "  </tbody>\n",
       "</table>\n",
       "</div>"
      ],
      "text/plain": [
       "   PassengerId  Survived  Pclass  \\\n",
       "0            1         0       3   \n",
       "1            2         1       1   \n",
       "2            3         1       3   \n",
       "3            4         1       1   \n",
       "4            5         0       3   \n",
       "\n",
       "                                                Name     Sex   Age  SibSp  \\\n",
       "0                            Braund, Mr. Owen Harris    male  22.0      1   \n",
       "1  Cumings, Mrs. John Bradley (Florence Briggs Th...  female  38.0      1   \n",
       "2                             Heikkinen, Miss. Laina  female  26.0      0   \n",
       "3       Futrelle, Mrs. Jacques Heath (Lily May Peel)  female  35.0      1   \n",
       "4                           Allen, Mr. William Henry    male  35.0      0   \n",
       "\n",
       "   Parch            Ticket     Fare Cabin Embarked  \n",
       "0      0         A/5 21171   7.2500   NaN        S  \n",
       "1      0          PC 17599  71.2833   C85        C  \n",
       "2      0  STON/O2. 3101282   7.9250   NaN        S  \n",
       "3      0            113803  53.1000  C123        S  \n",
       "4      0            373450   8.0500   NaN        S  "
      ]
     },
     "execution_count": 2,
     "metadata": {},
     "output_type": "execute_result"
    }
   ],
   "source": [
    "# 加载数据\n",
    "train = pd.read_csv('./data/titanic_train.csv')\n",
    "train.head()"
   ]
  },
  {
   "cell_type": "code",
   "execution_count": 3,
   "id": "6534c967",
   "metadata": {},
   "outputs": [],
   "source": [
    "# 缺失情况统计函数\n",
    "def missing_values_table(df):\n",
    "    # 计算所有的缺失值\n",
    "    mis_val = df.isnull().sum()\n",
    "\n",
    "    # 计算缺失值的比例\n",
    "    mis_val_percent = 100 * mis_val / len(df)\n",
    "\n",
    "    # 将结果拼接成 DataFrame\n",
    "    mis_val_table = pd.concat([mis_val, mis_val_percent], axis=1)\n",
    "\n",
    "    # 将列重命名\n",
    "    mis_val_table.columns = ['缺失值', '占比(%)']\n",
    "\n",
    "    # 将缺失值为0的列去除，并按照缺失值占比进行排序\n",
    "    mis_val_table_sorted = mis_val_table[mis_val_table['缺失值']!=0].sort_values(\n",
    "        '占比(%)', ascending=False)\n",
    "\n",
    "    # 打印信息\n",
    "    print(f'传入的数据集共{df.shape[1]}列，\\n其中{mis_val_table_sorted.shape[0]}列有缺失值')\n",
    "\n",
    "    return mis_val_table_sorted"
   ]
  },
  {
   "cell_type": "code",
   "execution_count": 4,
   "id": "b4e3cc5c",
   "metadata": {},
   "outputs": [
    {
     "name": "stdout",
     "output_type": "stream",
     "text": [
      "传入的数据集共12列，\n",
      "其中3列有缺失值\n"
     ]
    },
    {
     "data": {
      "text/html": [
       "<div>\n",
       "<style scoped>\n",
       "    .dataframe tbody tr th:only-of-type {\n",
       "        vertical-align: middle;\n",
       "    }\n",
       "\n",
       "    .dataframe tbody tr th {\n",
       "        vertical-align: top;\n",
       "    }\n",
       "\n",
       "    .dataframe thead th {\n",
       "        text-align: right;\n",
       "    }\n",
       "</style>\n",
       "<table border=\"1\" class=\"dataframe\">\n",
       "  <thead>\n",
       "    <tr style=\"text-align: right;\">\n",
       "      <th></th>\n",
       "      <th>缺失值</th>\n",
       "      <th>占比(%)</th>\n",
       "    </tr>\n",
       "  </thead>\n",
       "  <tbody>\n",
       "    <tr>\n",
       "      <th>Cabin</th>\n",
       "      <td>687</td>\n",
       "      <td>77.104377</td>\n",
       "    </tr>\n",
       "    <tr>\n",
       "      <th>Age</th>\n",
       "      <td>177</td>\n",
       "      <td>19.865320</td>\n",
       "    </tr>\n",
       "    <tr>\n",
       "      <th>Embarked</th>\n",
       "      <td>2</td>\n",
       "      <td>0.224467</td>\n",
       "    </tr>\n",
       "  </tbody>\n",
       "</table>\n",
       "</div>"
      ],
      "text/plain": [
       "          缺失值      占比(%)\n",
       "Cabin     687  77.104377\n",
       "Age       177  19.865320\n",
       "Embarked    2   0.224467"
      ]
     },
     "execution_count": 4,
     "metadata": {},
     "output_type": "execute_result"
    }
   ],
   "source": [
    "missing_values_table(train)"
   ]
  },
  {
   "cell_type": "markdown",
   "id": "bae65f44",
   "metadata": {},
   "source": [
    "## 删除方式"
   ]
  },
  {
   "cell_type": "markdown",
   "id": "4a2b39a5",
   "metadata": {},
   "source": [
    "### 删除含有缺失值的行"
   ]
  },
  {
   "cell_type": "markdown",
   "id": "1e294fe4",
   "metadata": {},
   "source": [
    "**按行删除：删除指定列为缺失值的行记录，当数据记录比较多，而缺失的行占比较小时，可以考虑删除含有缺失值的行**"
   ]
  },
  {
   "cell_type": "code",
   "execution_count": 5,
   "id": "6dc8a586",
   "metadata": {},
   "outputs": [
    {
     "name": "stdout",
     "output_type": "stream",
     "text": [
      "0\n"
     ]
    },
    {
     "data": {
      "text/plain": [
       "<AxesSubplot:>"
      ]
     },
     "execution_count": 5,
     "metadata": {},
     "output_type": "execute_result"
    },
    {
     "data": {
      "image/png": "[encoded data removed]",
      "text/plain": [
       "<Figure size 1800x720 with 2 Axes>"
      ]
     },
     "metadata": {
      "needs_background": "light"
     },
     "output_type": "display_data"
    }
   ],
   "source": [
    "# 复制一份数据\n",
    "train_cp = train.copy() \n",
    "# 对Age列进行处理，空值就删除整行数据\n",
    "train_cp.dropna(subset=['Age'], how='any', inplace=True)\n",
    "# 输出Age列缺失值的总数\n",
    "print(train_cp['Age'].isnull().sum())\n",
    "# 图形化缺失值情况\n",
    "msno.matrix(train_cp)"
   ]
  },
  {
   "cell_type": "markdown",
   "id": "38cc2aed",
   "metadata": {},
   "source": [
    "### 删除含有缺失值的列"
   ]
  },
  {
   "cell_type": "markdown",
   "id": "80d47f68",
   "metadata": {},
   "source": [
    "**按列删除：当一列包含了很多缺失值的时候（比如超过80%），可以使用df.drop(['列名',..], axis=1)函数将指定列删除，但最好不要删除数据**"
   ]
  },
  {
   "cell_type": "code",
   "execution_count": 6,
   "id": "32eae54d",
   "metadata": {},
   "outputs": [
    {
     "data": {
      "text/plain": [
       "<AxesSubplot:>"
      ]
     },
     "execution_count": 6,
     "metadata": {},
     "output_type": "execute_result"
    },
    {
     "data": {
      "image/png": "[encoded data removed]",
      "text/plain": [
       "<Figure size 1800x720 with 2 Axes>"
      ]
     },
     "metadata": {
      "needs_background": "light"
     },
     "output_type": "display_data"
    }
   ],
   "source": [
    "# 复制一份数据\n",
    "train_cp = train.copy() \n",
    "# 对Age列进行处理，空值就删除整行数据\n",
    "train_cp.drop(['Age'], axis=1, inplace=True)\n",
    "# 图形化缺失值情况\n",
    "msno.matrix(train_cp)"
   ]
  },
  {
   "cell_type": "markdown",
   "id": "d01cab0e",
   "metadata": {},
   "source": [
    "## 填充方式"
   ]
  },
  {
   "cell_type": "markdown",
   "id": "e93d631d",
   "metadata": {},
   "source": [
    "### 非时序数据"
   ]
  },
  {
   "cell_type": "markdown",
   "id": "a58918b6",
   "metadata": {},
   "source": [
    "#### 填充常量值"
   ]
  },
  {
   "cell_type": "code",
   "execution_count": 7,
   "id": "f0e2959b",
   "metadata": {},
   "outputs": [
    {
     "name": "stdout",
     "output_type": "stream",
     "text": [
      "填充缺失值之前：\n",
      "PassengerId      0\n",
      "Survived         0\n",
      "Pclass           0\n",
      "Name             0\n",
      "Sex              0\n",
      "Age            177\n",
      "SibSp            0\n",
      "Parch            0\n",
      "Ticket           0\n",
      "Fare             0\n",
      "Cabin          687\n",
      "Embarked         2\n",
      "dtype: int64\n",
      "填充缺失值之后：\n",
      "PassengerId    0\n",
      "Survived       0\n",
      "Pclass         0\n",
      "Name           0\n",
      "Sex            0\n",
      "Age            0\n",
      "SibSp          0\n",
      "Parch          0\n",
      "Ticket         0\n",
      "Fare           0\n",
      "Cabin          0\n",
      "Embarked       0\n",
      "dtype: int64\n"
     ]
    }
   ],
   "source": [
    "# 复制一份数据\n",
    "train_constant = train.copy()\n",
    "# 计算各列空值总数\n",
    "print('填充缺失值之前：')\n",
    "print(train_constant.isnull().sum())\n",
    "\n",
    "# 将空值都填为0，inplace=True为必要参数\n",
    "train_constant.fillna(0, inplace=True)\n",
    "\n",
    "# 计算各列空值总数\n",
    "print('填充缺失值之后：')\n",
    "print(train_constant.isnull().sum())"
   ]
  },
  {
   "cell_type": "markdown",
   "id": "74b5553a",
   "metadata": {},
   "source": [
    "#### 填充统计值(缺失值所处列的平均值、中位数、众数)"
   ]
  },
  {
   "cell_type": "code",
   "execution_count": 8,
   "id": "17b0bd67",
   "metadata": {},
   "outputs": [
    {
     "name": "stdout",
     "output_type": "stream",
     "text": [
      "29.69911764705882\n"
     ]
    },
    {
     "data": {
      "text/plain": [
       "PassengerId      0\n",
       "Survived         0\n",
       "Pclass           0\n",
       "Name             0\n",
       "Sex              0\n",
       "Age              0\n",
       "SibSp            0\n",
       "Parch            0\n",
       "Ticket           0\n",
       "Fare             0\n",
       "Cabin          687\n",
       "Embarked         2\n",
       "dtype: int64"
      ]
     },
     "execution_count": 8,
     "metadata": {},
     "output_type": "execute_result"
    }
   ],
   "source": [
    "# 复制一份数据\n",
    "train_mean = train.copy()\n",
    "# 计算年龄的平均值\n",
    "age_mean = train_mean['Age'].mean()\n",
    "print(age_mean)\n",
    "# 使用年龄的平均值填充 Age 列的缺失值\n",
    "train_mean['Age'].fillna(age_mean, inplace=True)\n",
    "train_mean.isnull().sum()"
   ]
  },
  {
   "cell_type": "markdown",
   "id": "57a29ebb",
   "metadata": {},
   "source": [
    "### 时序数据"
   ]
  },
  {
   "cell_type": "markdown",
   "id": "cfe79a5c",
   "metadata": {},
   "source": [
    "#### 前项填充"
   ]
  },
  {
   "cell_type": "markdown",
   "id": "7cdb94f3",
   "metadata": {},
   "source": [
    "**前项填充：使用缺失值之前的第一个非缺失值进行填充**"
   ]
  },
  {
   "cell_type": "code",
   "execution_count": 9,
   "id": "2e6210f1",
   "metadata": {},
   "outputs": [
    {
     "data": {
      "text/html": [
       "<div>\n",
       "<style scoped>\n",
       "    .dataframe tbody tr th:only-of-type {\n",
       "        vertical-align: middle;\n",
       "    }\n",
       "\n",
       "    .dataframe tbody tr th {\n",
       "        vertical-align: top;\n",
       "    }\n",
       "\n",
       "    .dataframe thead th {\n",
       "        text-align: right;\n",
       "    }\n",
       "</style>\n",
       "<table border=\"1\" class=\"dataframe\">\n",
       "  <thead>\n",
       "    <tr style=\"text-align: right;\">\n",
       "      <th></th>\n",
       "      <th>City</th>\n",
       "      <th>PM2.5</th>\n",
       "      <th>PM10</th>\n",
       "      <th>NO</th>\n",
       "      <th>NO2</th>\n",
       "      <th>NOx</th>\n",
       "      <th>NH3</th>\n",
       "      <th>CO</th>\n",
       "      <th>SO2</th>\n",
       "      <th>O3</th>\n",
       "      <th>Benzene</th>\n",
       "      <th>Toluene</th>\n",
       "      <th>Xylene</th>\n",
       "      <th>AQI</th>\n",
       "      <th>AQI_Bucket</th>\n",
       "    </tr>\n",
       "    <tr>\n",
       "      <th>Date</th>\n",
       "      <th></th>\n",
       "      <th></th>\n",
       "      <th></th>\n",
       "      <th></th>\n",
       "      <th></th>\n",
       "      <th></th>\n",
       "      <th></th>\n",
       "      <th></th>\n",
       "      <th></th>\n",
       "      <th></th>\n",
       "      <th></th>\n",
       "      <th></th>\n",
       "      <th></th>\n",
       "      <th></th>\n",
       "      <th></th>\n",
       "    </tr>\n",
       "  </thead>\n",
       "  <tbody>\n",
       "    <tr>\n",
       "      <th>2015-01-01</th>\n",
       "      <td>Ahmedabad</td>\n",
       "      <td>NaN</td>\n",
       "      <td>NaN</td>\n",
       "      <td>0.92</td>\n",
       "      <td>18.22</td>\n",
       "      <td>17.15</td>\n",
       "      <td>NaN</td>\n",
       "      <td>0.92</td>\n",
       "      <td>27.64</td>\n",
       "      <td>133.36</td>\n",
       "      <td>0.00</td>\n",
       "      <td>0.02</td>\n",
       "      <td>0.00</td>\n",
       "      <td>NaN</td>\n",
       "      <td>NaN</td>\n",
       "    </tr>\n",
       "    <tr>\n",
       "      <th>2015-01-02</th>\n",
       "      <td>Ahmedabad</td>\n",
       "      <td>NaN</td>\n",
       "      <td>NaN</td>\n",
       "      <td>0.97</td>\n",
       "      <td>15.69</td>\n",
       "      <td>16.46</td>\n",
       "      <td>NaN</td>\n",
       "      <td>0.97</td>\n",
       "      <td>24.55</td>\n",
       "      <td>34.06</td>\n",
       "      <td>3.68</td>\n",
       "      <td>5.50</td>\n",
       "      <td>3.77</td>\n",
       "      <td>NaN</td>\n",
       "      <td>NaN</td>\n",
       "    </tr>\n",
       "    <tr>\n",
       "      <th>2015-01-03</th>\n",
       "      <td>Ahmedabad</td>\n",
       "      <td>NaN</td>\n",
       "      <td>NaN</td>\n",
       "      <td>17.40</td>\n",
       "      <td>19.30</td>\n",
       "      <td>29.70</td>\n",
       "      <td>NaN</td>\n",
       "      <td>17.40</td>\n",
       "      <td>29.07</td>\n",
       "      <td>30.70</td>\n",
       "      <td>6.80</td>\n",
       "      <td>16.40</td>\n",
       "      <td>2.25</td>\n",
       "      <td>NaN</td>\n",
       "      <td>NaN</td>\n",
       "    </tr>\n",
       "    <tr>\n",
       "      <th>2015-01-04</th>\n",
       "      <td>Ahmedabad</td>\n",
       "      <td>NaN</td>\n",
       "      <td>NaN</td>\n",
       "      <td>1.70</td>\n",
       "      <td>18.48</td>\n",
       "      <td>17.97</td>\n",
       "      <td>NaN</td>\n",
       "      <td>1.70</td>\n",
       "      <td>18.59</td>\n",
       "      <td>36.08</td>\n",
       "      <td>4.43</td>\n",
       "      <td>10.14</td>\n",
       "      <td>1.00</td>\n",
       "      <td>NaN</td>\n",
       "      <td>NaN</td>\n",
       "    </tr>\n",
       "    <tr>\n",
       "      <th>2015-01-05</th>\n",
       "      <td>Ahmedabad</td>\n",
       "      <td>NaN</td>\n",
       "      <td>NaN</td>\n",
       "      <td>22.10</td>\n",
       "      <td>21.42</td>\n",
       "      <td>37.76</td>\n",
       "      <td>NaN</td>\n",
       "      <td>22.10</td>\n",
       "      <td>39.33</td>\n",
       "      <td>39.31</td>\n",
       "      <td>7.01</td>\n",
       "      <td>18.89</td>\n",
       "      <td>2.78</td>\n",
       "      <td>NaN</td>\n",
       "      <td>NaN</td>\n",
       "    </tr>\n",
       "  </tbody>\n",
       "</table>\n",
       "</div>"
      ],
      "text/plain": [
       "                 City  PM2.5  PM10     NO    NO2    NOx  NH3     CO    SO2  \\\n",
       "Date                                                                         \n",
       "2015-01-01  Ahmedabad    NaN   NaN   0.92  18.22  17.15  NaN   0.92  27.64   \n",
       "2015-01-02  Ahmedabad    NaN   NaN   0.97  15.69  16.46  NaN   0.97  24.55   \n",
       "2015-01-03  Ahmedabad    NaN   NaN  17.40  19.30  29.70  NaN  17.40  29.07   \n",
       "2015-01-04  Ahmedabad    NaN   NaN   1.70  18.48  17.97  NaN   1.70  18.59   \n",
       "2015-01-05  Ahmedabad    NaN   NaN  22.10  21.42  37.76  NaN  22.10  39.33   \n",
       "\n",
       "                O3  Benzene  Toluene  Xylene  AQI AQI_Bucket  \n",
       "Date                                                          \n",
       "2015-01-01  133.36     0.00     0.02    0.00  NaN        NaN  \n",
       "2015-01-02   34.06     3.68     5.50    3.77  NaN        NaN  \n",
       "2015-01-03   30.70     6.80    16.40    2.25  NaN        NaN  \n",
       "2015-01-04   36.08     4.43    10.14    1.00  NaN        NaN  \n",
       "2015-01-05   39.31     7.01    18.89    2.78  NaN        NaN  "
      ]
     },
     "execution_count": 9,
     "metadata": {},
     "output_type": "execute_result"
    }
   ],
   "source": [
    "city_day = pd.read_csv('./data/city_day.csv', parse_dates=True, index_col='Date')\n",
    "# 复制一份数据\n",
    "city_day_cp = city_day.copy()\n",
    "# 查看数据的前 5 行\n",
    "city_day_cp.head()"
   ]
  },
  {
   "cell_type": "code",
   "execution_count": 11,
   "id": "c7551917",
   "metadata": {},
   "outputs": [
    {
     "name": "stdout",
     "output_type": "stream",
     "text": [
      "传入的数据集共15列，\n",
      "其中14列有缺失值\n"
     ]
    },
    {
     "data": {
      "text/html": [
       "<div>\n",
       "<style scoped>\n",
       "    .dataframe tbody tr th:only-of-type {\n",
       "        vertical-align: middle;\n",
       "    }\n",
       "\n",
       "    .dataframe tbody tr th {\n",
       "        vertical-align: top;\n",
       "    }\n",
       "\n",
       "    .dataframe thead th {\n",
       "        text-align: right;\n",
       "    }\n",
       "</style>\n",
       "<table border=\"1\" class=\"dataframe\">\n",
       "  <thead>\n",
       "    <tr style=\"text-align: right;\">\n",
       "      <th></th>\n",
       "      <th>缺失值</th>\n",
       "      <th>占比(%)</th>\n",
       "    </tr>\n",
       "  </thead>\n",
       "  <tbody>\n",
       "    <tr>\n",
       "      <th>Xylene</th>\n",
       "      <td>18109</td>\n",
       "      <td>61.322001</td>\n",
       "    </tr>\n",
       "    <tr>\n",
       "      <th>PM10</th>\n",
       "      <td>11140</td>\n",
       "      <td>37.723071</td>\n",
       "    </tr>\n",
       "    <tr>\n",
       "      <th>NH3</th>\n",
       "      <td>10328</td>\n",
       "      <td>34.973418</td>\n",
       "    </tr>\n",
       "    <tr>\n",
       "      <th>Toluene</th>\n",
       "      <td>8041</td>\n",
       "      <td>27.229014</td>\n",
       "    </tr>\n",
       "    <tr>\n",
       "      <th>Benzene</th>\n",
       "      <td>5623</td>\n",
       "      <td>19.041008</td>\n",
       "    </tr>\n",
       "    <tr>\n",
       "      <th>AQI</th>\n",
       "      <td>4681</td>\n",
       "      <td>15.851139</td>\n",
       "    </tr>\n",
       "    <tr>\n",
       "      <th>AQI_Bucket</th>\n",
       "      <td>4681</td>\n",
       "      <td>15.851139</td>\n",
       "    </tr>\n",
       "    <tr>\n",
       "      <th>PM2.5</th>\n",
       "      <td>4598</td>\n",
       "      <td>15.570079</td>\n",
       "    </tr>\n",
       "    <tr>\n",
       "      <th>NOx</th>\n",
       "      <td>4185</td>\n",
       "      <td>14.171549</td>\n",
       "    </tr>\n",
       "    <tr>\n",
       "      <th>O3</th>\n",
       "      <td>4022</td>\n",
       "      <td>13.619586</td>\n",
       "    </tr>\n",
       "    <tr>\n",
       "      <th>SO2</th>\n",
       "      <td>3854</td>\n",
       "      <td>13.050692</td>\n",
       "    </tr>\n",
       "    <tr>\n",
       "      <th>NO2</th>\n",
       "      <td>3585</td>\n",
       "      <td>12.139785</td>\n",
       "    </tr>\n",
       "    <tr>\n",
       "      <th>NO</th>\n",
       "      <td>3582</td>\n",
       "      <td>12.129626</td>\n",
       "    </tr>\n",
       "    <tr>\n",
       "      <th>CO</th>\n",
       "      <td>2059</td>\n",
       "      <td>6.972334</td>\n",
       "    </tr>\n",
       "  </tbody>\n",
       "</table>\n",
       "</div>"
      ],
      "text/plain": [
       "              缺失值      占比(%)\n",
       "Xylene      18109  61.322001\n",
       "PM10        11140  37.723071\n",
       "NH3         10328  34.973418\n",
       "Toluene      8041  27.229014\n",
       "Benzene      5623  19.041008\n",
       "AQI          4681  15.851139\n",
       "AQI_Bucket   4681  15.851139\n",
       "PM2.5        4598  15.570079\n",
       "NOx          4185  14.171549\n",
       "O3           4022  13.619586\n",
       "SO2          3854  13.050692\n",
       "NO2          3585  12.139785\n",
       "NO           3582  12.129626\n",
       "CO           2059   6.972334"
      ]
     },
     "execution_count": 11,
     "metadata": {},
     "output_type": "execute_result"
    }
   ],
   "source": [
    "city_day_missing = missing_values_table(city_day_cp)\n",
    "city_day_missing"
   ]
  },
  {
   "cell_type": "code",
   "execution_count": 12,
   "id": "9e64d13c",
   "metadata": {},
   "outputs": [
    {
     "data": {
      "text/plain": [
       "Date\n",
       "2015-02-20     7.48\n",
       "2015-02-21    15.44\n",
       "2015-02-22     8.47\n",
       "2015-02-23    28.46\n",
       "2015-02-24     6.05\n",
       "2015-02-25     0.81\n",
       "2015-02-26      NaN\n",
       "2015-02-27      NaN\n",
       "2015-02-28      NaN\n",
       "2015-03-01     1.32\n",
       "2015-03-02     0.22\n",
       "2015-03-03     2.25\n",
       "2015-03-04     1.55\n",
       "2015-03-05     4.13\n",
       "Name: Xylene, dtype: float64"
      ]
     },
     "execution_count": 12,
     "metadata": {},
     "output_type": "execute_result"
    }
   ],
   "source": [
    "# 截取一小部分数据用于填充效果查看\n",
    "city_day['Xylene'][50:64]"
   ]
  },
  {
   "cell_type": "code",
   "execution_count": 13,
   "id": "ccaf33ab",
   "metadata": {},
   "outputs": [
    {
     "data": {
      "text/plain": [
       "Date\n",
       "2015-02-20     7.48\n",
       "2015-02-21    15.44\n",
       "2015-02-22     8.47\n",
       "2015-02-23    28.46\n",
       "2015-02-24     6.05\n",
       "2015-02-25     0.81\n",
       "2015-02-26     0.81\n",
       "2015-02-27     0.81\n",
       "2015-02-28     0.81\n",
       "2015-03-01     1.32\n",
       "2015-03-02     0.22\n",
       "2015-03-03     2.25\n",
       "2015-03-04     1.55\n",
       "2015-03-05     4.13\n",
       "Name: Xylene, dtype: float64"
      ]
     },
     "execution_count": 13,
     "metadata": {},
     "output_type": "execute_result"
    }
   ],
   "source": [
    "# 填充缺失值\n",
    "city_day.fillna(method='ffill', inplace=True)\n",
    "# 截取一小部分数据查看填充效果\n",
    "city_day['Xylene'][50:64]"
   ]
  },
  {
   "cell_type": "code",
   "execution_count": 14,
   "id": "b8f29866",
   "metadata": {},
   "outputs": [
    {
     "name": "stdout",
     "output_type": "stream",
     "text": [
      "传入的数据集共15列，\n",
      "其中5列有缺失值\n"
     ]
    },
    {
     "data": {
      "text/html": [
       "<div>\n",
       "<style scoped>\n",
       "    .dataframe tbody tr th:only-of-type {\n",
       "        vertical-align: middle;\n",
       "    }\n",
       "\n",
       "    .dataframe tbody tr th {\n",
       "        vertical-align: top;\n",
       "    }\n",
       "\n",
       "    .dataframe thead th {\n",
       "        text-align: right;\n",
       "    }\n",
       "</style>\n",
       "<table border=\"1\" class=\"dataframe\">\n",
       "  <thead>\n",
       "    <tr style=\"text-align: right;\">\n",
       "      <th></th>\n",
       "      <th>缺失值</th>\n",
       "      <th>占比(%)</th>\n",
       "    </tr>\n",
       "  </thead>\n",
       "  <tbody>\n",
       "    <tr>\n",
       "      <th>NH3</th>\n",
       "      <td>2009</td>\n",
       "      <td>6.803021</td>\n",
       "    </tr>\n",
       "    <tr>\n",
       "      <th>PM10</th>\n",
       "      <td>1594</td>\n",
       "      <td>5.397718</td>\n",
       "    </tr>\n",
       "    <tr>\n",
       "      <th>AQI</th>\n",
       "      <td>28</td>\n",
       "      <td>0.094816</td>\n",
       "    </tr>\n",
       "    <tr>\n",
       "      <th>AQI_Bucket</th>\n",
       "      <td>28</td>\n",
       "      <td>0.094816</td>\n",
       "    </tr>\n",
       "    <tr>\n",
       "      <th>PM2.5</th>\n",
       "      <td>27</td>\n",
       "      <td>0.091429</td>\n",
       "    </tr>\n",
       "  </tbody>\n",
       "</table>\n",
       "</div>"
      ],
      "text/plain": [
       "             缺失值     占比(%)\n",
       "NH3         2009  6.803021\n",
       "PM10        1594  5.397718\n",
       "AQI           28  0.094816\n",
       "AQI_Bucket    28  0.094816\n",
       "PM2.5         27  0.091429"
      ]
     },
     "execution_count": 14,
     "metadata": {},
     "output_type": "execute_result"
    }
   ],
   "source": [
    "# 查看缺失值比例\n",
    "missing_values_table(city_day)"
   ]
  },
  {
   "cell_type": "markdown",
   "id": "4cf85ce6",
   "metadata": {},
   "source": [
    "#### 后项填充"
   ]
  },
  {
   "cell_type": "markdown",
   "id": "e9a00548",
   "metadata": {},
   "source": [
    "**后项填充：使用缺失值之后的第一个非缺失值进行填充**"
   ]
  },
  {
   "cell_type": "code",
   "execution_count": 15,
   "id": "9acf66d2",
   "metadata": {},
   "outputs": [
    {
     "data": {
      "text/plain": [
       "Date\n",
       "2015-01-21      NaN\n",
       "2015-01-22      NaN\n",
       "2015-01-23      NaN\n",
       "2015-01-24      NaN\n",
       "2015-01-25      NaN\n",
       "2015-01-26      NaN\n",
       "2015-01-27      NaN\n",
       "2015-01-28      NaN\n",
       "2015-01-29    209.0\n",
       "2015-01-30    328.0\n",
       "Name: AQI, dtype: float64"
      ]
     },
     "execution_count": 15,
     "metadata": {},
     "output_type": "execute_result"
    }
   ],
   "source": [
    "# 截取一小部分数据用于填充效果查看\n",
    "city_day['AQI'][20:30]"
   ]
  },
  {
   "cell_type": "code",
   "execution_count": 16,
   "id": "c5a8f914",
   "metadata": {},
   "outputs": [
    {
     "data": {
      "text/plain": [
       "Date\n",
       "2015-01-21    209.0\n",
       "2015-01-22    209.0\n",
       "2015-01-23    209.0\n",
       "2015-01-24    209.0\n",
       "2015-01-25    209.0\n",
       "2015-01-26    209.0\n",
       "2015-01-27    209.0\n",
       "2015-01-28    209.0\n",
       "2015-01-29    209.0\n",
       "2015-01-30    328.0\n",
       "Name: AQI, dtype: float64"
      ]
     },
     "execution_count": 16,
     "metadata": {},
     "output_type": "execute_result"
    }
   ],
   "source": [
    "# 填充缺失值\n",
    "city_day.fillna(method='bfill', inplace=True)\n",
    "# 截取一小部分数据查看填充效果\n",
    "city_day['AQI'][20:30]"
   ]
  },
  {
   "cell_type": "code",
   "execution_count": 17,
   "id": "b7ab18f0",
   "metadata": {},
   "outputs": [
    {
     "name": "stdout",
     "output_type": "stream",
     "text": [
      "传入的数据集共15列，\n",
      "其中0列有缺失值\n"
     ]
    },
    {
     "data": {
      "text/html": [
       "<div>\n",
       "<style scoped>\n",
       "    .dataframe tbody tr th:only-of-type {\n",
       "        vertical-align: middle;\n",
       "    }\n",
       "\n",
       "    .dataframe tbody tr th {\n",
       "        vertical-align: top;\n",
       "    }\n",
       "\n",
       "    .dataframe thead th {\n",
       "        text-align: right;\n",
       "    }\n",
       "</style>\n",
       "<table border=\"1\" class=\"dataframe\">\n",
       "  <thead>\n",
       "    <tr style=\"text-align: right;\">\n",
       "      <th></th>\n",
       "      <th>缺失值</th>\n",
       "      <th>占比(%)</th>\n",
       "    </tr>\n",
       "  </thead>\n",
       "  <tbody>\n",
       "  </tbody>\n",
       "</table>\n",
       "</div>"
      ],
      "text/plain": [
       "Empty DataFrame\n",
       "Columns: [缺失值, 占比(%)]\n",
       "Index: []"
      ]
     },
     "execution_count": 17,
     "metadata": {},
     "output_type": "execute_result"
    }
   ],
   "source": [
    "# 查看缺失值比例\n",
    "missing_values_table(city_day)"
   ]
  },
  {
   "cell_type": "code",
   "execution_count": 18,
   "id": "62b74089",
   "metadata": {},
   "outputs": [
    {
     "data": {
      "text/plain": [
       "Date\n",
       "2015-02-20     7.48\n",
       "2015-02-21    15.44\n",
       "2015-02-22     8.47\n",
       "2015-02-23    28.46\n",
       "2015-02-24     6.05\n",
       "2015-02-25     0.81\n",
       "2015-02-26      NaN\n",
       "2015-02-27      NaN\n",
       "2015-02-28      NaN\n",
       "2015-03-01     1.32\n",
       "2015-03-02     0.22\n",
       "2015-03-03     2.25\n",
       "2015-03-04     1.55\n",
       "2015-03-05     4.13\n",
       "2015-03-06      NaN\n",
       "Name: Xylene, dtype: float64"
      ]
     },
     "execution_count": 18,
     "metadata": {},
     "output_type": "execute_result"
    }
   ],
   "source": [
    "# 截取一小部分数据用于填充效果查看\n",
    "city_day_cp['Xylene'][50:65]"
   ]
  },
  {
   "cell_type": "markdown",
   "id": "0ebfa72f",
   "metadata": {},
   "source": [
    "#### 线性插值填充"
   ]
  },
  {
   "cell_type": "markdown",
   "id": "c0f3bc06",
   "metadata": {},
   "source": [
    "**线性插值填充：使用缺失值两端的非缺失值，建立线性关系，利用线性关系填充值**"
   ]
  },
  {
   "cell_type": "code",
   "execution_count": 19,
   "id": "8ec93365",
   "metadata": {},
   "outputs": [
    {
     "data": {
      "text/plain": [
       "Date\n",
       "2015-02-20     7.4800\n",
       "2015-02-21    15.4400\n",
       "2015-02-22     8.4700\n",
       "2015-02-23    28.4600\n",
       "2015-02-24     6.0500\n",
       "2015-02-25     0.8100\n",
       "2015-02-26     0.9375\n",
       "2015-02-27     1.0650\n",
       "2015-02-28     1.1925\n",
       "2015-03-01     1.3200\n",
       "2015-03-02     0.2200\n",
       "2015-03-03     2.2500\n",
       "2015-03-04     1.5500\n",
       "2015-03-05     4.1300\n",
       "2015-03-06     2.2600\n",
       "Name: Xylene, dtype: float64"
      ]
     },
     "execution_count": 19,
     "metadata": {},
     "output_type": "execute_result"
    }
   ],
   "source": [
    "# 线性插值填充\n",
    "city_day_cp.interpolate(limit_direction='both', inplace=True)\n",
    "# 截取一小部分数据用于查看填充效果\n",
    "city_day_cp['Xylene'][50:65]"
   ]
  },
  {
   "cell_type": "code",
   "execution_count": null,
   "id": "02d4f2a1",
   "metadata": {},
   "outputs": [],
   "source": []
  },
  {
   "cell_type": "code",
   "execution_count": null,
   "id": "1eedf109",
   "metadata": {},
   "outputs": [],
   "source": []
  },
  {
   "cell_type": "code",
   "execution_count": null,
   "id": "89a55e4e",
   "metadata": {},
   "outputs": [],
   "source": []
  },
  {
   "cell_type": "code",
   "execution_count": null,
   "id": "2cd1cc52",
   "metadata": {},
   "outputs": [],
   "source": []
  },
  {
   "cell_type": "code",
   "execution_count": null,
   "id": "edc0e379",
   "metadata": {},
   "outputs": [],
   "source": []
  }
 ],
 "metadata": {
  "kernelspec": {
   "display_name": "Python [conda env:datasci] *",
   "language": "python",
   "name": "conda-env-datasci-py"
  },
  "language_info": {
   "codemirror_mode": {
    "name": "ipython",
    "version": 3
   },
   "file_extension": ".py",
   "mimetype": "text/x-python",
   "name": "python",
   "nbconvert_exporter": "python",
   "pygments_lexer": "ipython3",
   "version": "3.8.12"
  },
  "toc": {
   "base_numbering": 1,
   "nav_menu": {},
   "number_sections": true,
   "sideBar": true,
   "skip_h1_title": false,
   "title_cell": "Table of Contents",
   "title_sidebar": "Contents",
   "toc_cell": false,
   "toc_position": {},
   "toc_section_display": true,
   "toc_window_display": true
  }
 },
 "nbformat": 4,
 "nbformat_minor": 5
}
